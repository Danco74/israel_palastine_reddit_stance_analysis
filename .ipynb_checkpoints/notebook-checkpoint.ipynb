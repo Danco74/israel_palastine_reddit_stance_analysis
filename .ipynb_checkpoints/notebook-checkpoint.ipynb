{
 "cells": [
  {
   "cell_type": "code",
   "execution_count": 4,
   "id": "e680b4fd",
   "metadata": {},
   "outputs": [
    {
     "data": {
      "text/html": [
       "\n",
       "<style>\n",
       ".jp-MarkdownOutput h1 { font-size: 1.4em !important; color: #2c3e50 !important; }\n",
       ".jp-MarkdownOutput h2 { font-size: 1.2em !important; color: #34495e !important; }\n",
       ".jp-MarkdownOutput p { font-family: Arial !important; font-size: 13px !important; }\n",
       "</style>\n"
      ],
      "text/plain": [
       "<IPython.core.display.HTML object>"
      ]
     },
     "metadata": {},
     "output_type": "display_data"
    }
   ],
   "source": [
    "from IPython.display import HTML, display\n",
    "display(HTML(\"\"\"\n",
    "<style>\n",
    ".jp-MarkdownOutput h1 { font-size: 1.4em !important; color: #2c3e50 !important; }\n",
    ".jp-MarkdownOutput h2 { font-size: 1.2em !important; color: #34495e !important; }\n",
    ".jp-MarkdownOutput p { font-family: Arial !important; font-size: 13px !important; }\n",
    "</style>\n",
    "\"\"\"))"
   ]
  },
  {
   "cell_type": "markdown",
   "id": "c04164f9",
   "metadata": {},
   "source": [
    "## Israel–Palestine: Measuring Sentiment and Stance Over Time\n",
    "\n",
    "### Project overview\n",
    "We aim to measure how online sentiment and stance regarding Israel and Palestine evolve over time, using a Reddit dataset (daily‑updated) curated around the conflict. The final output will be a narrative notebook that combines text, code, and visualizations to tell a coherent story about trends and patterns in public discourse.\n",
    "\n",
    "- **Goal**: quantify and compare sentiment/stance toward Israel and Palestine over time; identify spikes and turning points aligned with major events.\n",
    "- **Data**: Reddit posts/comments from the Kaggle dataset: [Reddit on Israel–Palestine (daily updated)](https://www.kaggle.com/datasets/asaniczka/reddit-on-israel-palestine-daily-updated).\n",
    "- **Primary task**: build a classifier that assigns each text a stance label among five classes:\n",
    "  - pro‑Israel\n",
    "  - anti‑Israel\n",
    "  - pro‑Palestine\n",
    "  - anti‑Palestine\n",
    "  - neutral\n",
    "\n",
    "### Why stance (not only sentiment)?\n",
    "Generic sentiment (positive/negative/neutral) is often insufficient for polarized topics. Stance captures the *position* relative to a target (Israel or Palestine), allowing us to distinguish, for example, criticism of one side vs support of the other, even when overall sentiment is negative.\n",
    "\n",
    "### Research questions\n",
    "- How do the proportions of each stance change over time (daily/weekly)?\n",
    "- Do major geopolitical events coincide with sharp shifts in stance distribution?\n",
    "- Are there persistent differences between subreddits or topical clusters?\n",
    "- How do sentiment scores relate to stance labels (agreement or divergence)?\n",
    "\n",
    "### Planned approach (high level)\n",
    "1. Load and clean the Reddit dataset; deduplicate and filter off‑topic/low‑quality text.\n",
    "2. Exploratory analysis: descriptive stats, topic/cluster exploration (e.g., PCA/UMAP + clustering) to map discourse structure.\n",
    "3. Pseudo‑labeling with a strong pretrained sentiment model for baseline trends; create a small gold set for stance.\n",
    "4. Train a stance classifier with five classes (baseline: TF‑IDF + Logistic Regression; advanced: lightweight transformer fine‑tune/PEFT).\n",
    "5. Evaluate with accepted metrics (macro‑F1, confusion matrices), check over/underfitting, and use explainability tools (e.g., SHAP) for insight.\n",
    "6. Visualize time‑series of stance proportions with uncertainty bands; annotate salient events.\n",
    "\n",
    "### Scope and assumptions\n",
    "- Initial focus on English text; multilingual expansion if time permits.\n",
    "- Stance schema is defined below and may be refined after an initial labeling pass.\n",
    "- Ethical considerations: handle sensitive content respectfully, document limitations/biases, and avoid doxxing or harm.\n",
    "\n",
    "### Deliverables\n",
    "- Narrative Jupyter Notebook (50/50 text and code) exported to HTML.\n",
    "- Clear comparisons of methods and a reasoned discussion of findings and limitations.\n",
    "\n"
   ]
  },
  {
   "cell_type": "code",
   "execution_count": 32,
   "id": "14ee7cd1",
   "metadata": {},
   "outputs": [
    {
     "name": "stdout",
     "output_type": "stream",
     "text": [
      "Libraries loaded. Visualization themes configured.\n"
     ]
    }
   ],
   "source": [
    "# Core libraries and visualization setup\n",
    "from __future__ import annotations\n",
    "\n",
    "# Data & utils\n",
    "import os\n",
    "from pathlib import Path\n",
    "import pandas as pd\n",
    "import numpy as np\n",
    "\n",
    "# Visualization (Plotly only)\n",
    "import plotly.express as px\n",
    "import plotly.graph_objects as go\n",
    "import plotly.io as pio\n",
    "\n",
    "# Plotly theme and defaults\n",
    "pio.templates.default = \"plotly_white\"\n",
    "px.defaults.template = \"plotly_white\"\n",
    "px.defaults.width = 900\n",
    "px.defaults.height = 520\n",
    "\n",
    "# Stance color palette (consistent across plots)\n",
    "STANCE_COLORS = {\n",
    "    \"pro-Israel\": \"#1f77b4\",\n",
    "    \"anti-Israel\": \"#2ca02c\",\n",
    "    \"pro-Palestine\": \"#d62728\",\n",
    "    \"anti-Palestine\": \"#9467bd\",\n",
    "    \"neutral\": \"#7f7f7f\",\n",
    "}\n",
    "\n",
    "print(\"Libraries loaded. Plotly configured.\")\n"
   ]
  },
  {
   "cell_type": "markdown",
   "id": "be00b5a1",
   "metadata": {},
   "source": [
    "### Stance label schema (5 classes)\n",
    "We frame stance as the author’s position toward a target (Israel or Palestine). This is distinct from generic sentiment.\n",
    "\n",
    "- **pro‑Israel**: expresses support for Israeli people/policies/positions; frames Israel positively or defends it.\n",
    "- **anti‑Israel**: expresses opposition to Israeli people/policies/positions; frames Israel negatively or calls for sanctions/condemnation.\n",
    "- **pro‑Palestine**: expresses support for Palestinian people/rights/positions; frames Palestine positively or advocates on its behalf.\n",
    "- **anti‑Palestine**: expresses opposition to Palestinian people/policies/positions; frames Palestine negatively or calls for sanctions/condemnation.\n",
    "- **neutral**: informational or balanced coverage without clear stance; sarcasm/ambiguous content that cannot be reliably assigned.\n",
    "\n",
    "Notes and edge cases:\n",
    "- Posts can be negative about violence broadly without taking a side → likely **neutral** unless a clear target is present.\n",
    "- Criticism of a specific government (e.g., Israeli government) can be **anti‑Israel** if it attacks Israel as a whole; otherwise mark **neutral** if it’s policy‑specific and balanced.\n",
    "- Support for a ceasefire or humanitarian aid is **neutral** unless it explicitly endorses or opposes a side.\n",
    "- When both stances are present, choose the dominant one; if unclear, mark **neutral**.\n",
    "\n"
   ]
  },
  {
   "cell_type": "markdown",
   "id": "420a7a27",
   "metadata": {},
   "source": [
    "\n"
   ]
  },
  {
   "cell_type": "markdown",
   "id": "4cd17d85",
   "metadata": {},
   "source": [
    "### Dataset files overview\n",
    "The dataset includes two CSV files. Per the dataset documentation, we treat the comments file as legacy and use the opinions/posts file as the authoritative source.\n",
    "\n",
    "- `reddit_opinion_PSE_ISR.csv` (primary)\n",
    "  - Post/opinion–level records curated for ongoing analysis and updates.\n",
    "  - Typical fields include post identifiers, text (`title`/`selftext`), `subreddit`, `score`, and `created_time`.\n",
    "  - Recommended as the main input for stance/sentiment over time.\n",
    "\n",
    "- `pse_isr_reddit_comments.csv` (legacy)\n",
    "  - Comment–level dump retained for historical/backward compatibility.\n",
    "  - Columns commonly observed: `comment_id`, `self_text`, `subreddit`, `score`, `created_time`.\n",
    "  - Optional for supplementary analyses (e.g., comment dynamics); not the primary table.\n",
    "\n",
    "Usage policy in this notebook:\n",
    "- We will load and analyze `reddit_opinion_PSE_ISR.csv` as the canonical dataset.\n",
    "- The legacy comments file may be referenced for context or robustness checks if needed.\n"
   ]
  },
  {
   "cell_type": "markdown",
   "id": "5a50f3ca",
   "metadata": {},
   "source": [
    "### Data Loading and Intitial Discovery"
   ]
  },
  {
   "cell_type": "code",
   "execution_count": 33,
   "id": "a0e4d104",
   "metadata": {},
   "outputs": [
    {
     "name": "stdout",
     "output_type": "stream",
     "text": [
      "Using file: C:\\Users\\Danco\\.cache\\kagglehub\\datasets\\asaniczka\\reddit-on-israel-palestine-daily-updated\\versions\\651\\reddit_opinion_PSE_ISR.csv\n",
      "Shape: (3161341, 24)\n",
      "Columns: ['comment_id', 'score', 'self_text', 'subreddit', 'created_time', 'post_id', 'author_name', 'controversiality', 'ups', 'downs', 'user_is_verified', 'user_account_created_time', 'user_awardee_karma', 'user_awarder_karma', 'user_link_karma', 'user_comment_karma', 'user_total_karma', 'post_score', 'post_self_text', 'post_title', 'post_upvote_ratio', 'post_thumbs_ups', 'post_total_awards_received', 'post_created_time']\n"
     ]
    },
    {
     "data": {
      "text/html": [
       "<div>\n",
       "<style scoped>\n",
       "    .dataframe tbody tr th:only-of-type {\n",
       "        vertical-align: middle;\n",
       "    }\n",
       "\n",
       "    .dataframe tbody tr th {\n",
       "        vertical-align: top;\n",
       "    }\n",
       "\n",
       "    .dataframe thead th {\n",
       "        text-align: right;\n",
       "    }\n",
       "</style>\n",
       "<table border=\"1\" class=\"dataframe\">\n",
       "  <thead>\n",
       "    <tr style=\"text-align: right;\">\n",
       "      <th></th>\n",
       "      <th>comment_id</th>\n",
       "      <th>score</th>\n",
       "      <th>self_text</th>\n",
       "      <th>subreddit</th>\n",
       "      <th>created_time</th>\n",
       "      <th>post_id</th>\n",
       "      <th>author_name</th>\n",
       "      <th>controversiality</th>\n",
       "      <th>ups</th>\n",
       "      <th>downs</th>\n",
       "      <th>...</th>\n",
       "      <th>user_link_karma</th>\n",
       "      <th>user_comment_karma</th>\n",
       "      <th>user_total_karma</th>\n",
       "      <th>post_score</th>\n",
       "      <th>post_self_text</th>\n",
       "      <th>post_title</th>\n",
       "      <th>post_upvote_ratio</th>\n",
       "      <th>post_thumbs_ups</th>\n",
       "      <th>post_total_awards_received</th>\n",
       "      <th>post_created_time</th>\n",
       "    </tr>\n",
       "  </thead>\n",
       "  <tbody>\n",
       "    <tr>\n",
       "      <th>0</th>\n",
       "      <td>na7ycnc</td>\n",
       "      <td>1</td>\n",
       "      <td>It might be late, but better late than never.</td>\n",
       "      <td>Palestine</td>\n",
       "      <td>2025-08-23 09:27:56</td>\n",
       "      <td>1mxj1rm</td>\n",
       "      <td>VivienneNovag</td>\n",
       "      <td>0</td>\n",
       "      <td>1</td>\n",
       "      <td>0</td>\n",
       "      <td>...</td>\n",
       "      <td>2701.0</td>\n",
       "      <td>10601.0</td>\n",
       "      <td>13302.0</td>\n",
       "      <td>6487</td>\n",
       "      <td>NaN</td>\n",
       "      <td>Cardinal Zuppi read the names of every child w...</td>\n",
       "      <td>0.98</td>\n",
       "      <td>6487</td>\n",
       "      <td>0</td>\n",
       "      <td>2025-08-22 21:29:58</td>\n",
       "    </tr>\n",
       "    <tr>\n",
       "      <th>1</th>\n",
       "      <td>na7y50u</td>\n",
       "      <td>1</td>\n",
       "      <td>Because Jewish people have also faced pogroms ...</td>\n",
       "      <td>IsraelPalestine</td>\n",
       "      <td>2025-08-23 09:25:50</td>\n",
       "      <td>1mxpnoj</td>\n",
       "      <td>AsaxenaSmallwood04</td>\n",
       "      <td>0</td>\n",
       "      <td>1</td>\n",
       "      <td>0</td>\n",
       "      <td>...</td>\n",
       "      <td>26.0</td>\n",
       "      <td>3872.0</td>\n",
       "      <td>3898.0</td>\n",
       "      <td>0</td>\n",
       "      <td>To preface, I am a Jew and that day was horrif...</td>\n",
       "      <td>Why do people constantly bring up October 7th ...</td>\n",
       "      <td>0.41</td>\n",
       "      <td>0</td>\n",
       "      <td>0</td>\n",
       "      <td>2025-08-23 02:26:14</td>\n",
       "    </tr>\n",
       "    <tr>\n",
       "      <th>2</th>\n",
       "      <td>na7xy4f</td>\n",
       "      <td>1</td>\n",
       "      <td>Zionists and their eternal victim complex.</td>\n",
       "      <td>Palestine</td>\n",
       "      <td>2025-08-23 09:23:55</td>\n",
       "      <td>1mxw26r</td>\n",
       "      <td>Mediocre-Working8841</td>\n",
       "      <td>0</td>\n",
       "      <td>1</td>\n",
       "      <td>0</td>\n",
       "      <td>...</td>\n",
       "      <td>1.0</td>\n",
       "      <td>2742.0</td>\n",
       "      <td>2743.0</td>\n",
       "      <td>198</td>\n",
       "      <td>NaN</td>\n",
       "      <td>Brainwash Zio Crew on the streets again, tryin...</td>\n",
       "      <td>1.00</td>\n",
       "      <td>198</td>\n",
       "      <td>0</td>\n",
       "      <td>2025-08-23 08:33:46</td>\n",
       "    </tr>\n",
       "    <tr>\n",
       "      <th>3</th>\n",
       "      <td>na7xx8o</td>\n",
       "      <td>1</td>\n",
       "      <td>Let's stop the whataboutism right here. The Pa...</td>\n",
       "      <td>IsraelPalestine</td>\n",
       "      <td>2025-08-23 09:23:42</td>\n",
       "      <td>1mxpnoj</td>\n",
       "      <td>Reasonable-Notice439</td>\n",
       "      <td>0</td>\n",
       "      <td>1</td>\n",
       "      <td>0</td>\n",
       "      <td>...</td>\n",
       "      <td>5.0</td>\n",
       "      <td>2966.0</td>\n",
       "      <td>2971.0</td>\n",
       "      <td>0</td>\n",
       "      <td>To preface, I am a Jew and that day was horrif...</td>\n",
       "      <td>Why do people constantly bring up October 7th ...</td>\n",
       "      <td>0.41</td>\n",
       "      <td>0</td>\n",
       "      <td>0</td>\n",
       "      <td>2025-08-23 02:26:14</td>\n",
       "    </tr>\n",
       "    <tr>\n",
       "      <th>4</th>\n",
       "      <td>na7xvf2</td>\n",
       "      <td>1</td>\n",
       "      <td>unpopular opinion:\\n\\nThe more 'Israel' seeks ...</td>\n",
       "      <td>AskMiddleEast</td>\n",
       "      <td>2025-08-23 09:23:11</td>\n",
       "      <td>1mxvv5i</td>\n",
       "      <td>Tornupto48</td>\n",
       "      <td>0</td>\n",
       "      <td>1</td>\n",
       "      <td>0</td>\n",
       "      <td>...</td>\n",
       "      <td>238.0</td>\n",
       "      <td>5423.0</td>\n",
       "      <td>5661.0</td>\n",
       "      <td>5</td>\n",
       "      <td>The prospects for a Palestinian two-state solu...</td>\n",
       "      <td>Bleak Outlook for Palestinian Statehood</td>\n",
       "      <td>1.00</td>\n",
       "      <td>5</td>\n",
       "      <td>0</td>\n",
       "      <td>2025-08-23 08:21:14</td>\n",
       "    </tr>\n",
       "  </tbody>\n",
       "</table>\n",
       "<p>5 rows × 24 columns</p>\n",
       "</div>"
      ],
      "text/plain": [
       "  comment_id  score                                          self_text  \\\n",
       "0    na7ycnc      1      It might be late, but better late than never.   \n",
       "1    na7y50u      1  Because Jewish people have also faced pogroms ...   \n",
       "2    na7xy4f      1         Zionists and their eternal victim complex.   \n",
       "3    na7xx8o      1  Let's stop the whataboutism right here. The Pa...   \n",
       "4    na7xvf2      1  unpopular opinion:\\n\\nThe more 'Israel' seeks ...   \n",
       "\n",
       "         subreddit         created_time  post_id           author_name  \\\n",
       "0        Palestine  2025-08-23 09:27:56  1mxj1rm         VivienneNovag   \n",
       "1  IsraelPalestine  2025-08-23 09:25:50  1mxpnoj    AsaxenaSmallwood04   \n",
       "2        Palestine  2025-08-23 09:23:55  1mxw26r  Mediocre-Working8841   \n",
       "3  IsraelPalestine  2025-08-23 09:23:42  1mxpnoj  Reasonable-Notice439   \n",
       "4    AskMiddleEast  2025-08-23 09:23:11  1mxvv5i            Tornupto48   \n",
       "\n",
       "   controversiality  ups  downs  ...  user_link_karma user_comment_karma  \\\n",
       "0                 0    1      0  ...           2701.0            10601.0   \n",
       "1                 0    1      0  ...             26.0             3872.0   \n",
       "2                 0    1      0  ...              1.0             2742.0   \n",
       "3                 0    1      0  ...              5.0             2966.0   \n",
       "4                 0    1      0  ...            238.0             5423.0   \n",
       "\n",
       "   user_total_karma  post_score  \\\n",
       "0           13302.0        6487   \n",
       "1            3898.0           0   \n",
       "2            2743.0         198   \n",
       "3            2971.0           0   \n",
       "4            5661.0           5   \n",
       "\n",
       "                                      post_self_text  \\\n",
       "0                                                NaN   \n",
       "1  To preface, I am a Jew and that day was horrif...   \n",
       "2                                                NaN   \n",
       "3  To preface, I am a Jew and that day was horrif...   \n",
       "4  The prospects for a Palestinian two-state solu...   \n",
       "\n",
       "                                          post_title  post_upvote_ratio  \\\n",
       "0  Cardinal Zuppi read the names of every child w...               0.98   \n",
       "1  Why do people constantly bring up October 7th ...               0.41   \n",
       "2  Brainwash Zio Crew on the streets again, tryin...               1.00   \n",
       "3  Why do people constantly bring up October 7th ...               0.41   \n",
       "4            Bleak Outlook for Palestinian Statehood               1.00   \n",
       "\n",
       "   post_thumbs_ups post_total_awards_received    post_created_time  \n",
       "0             6487                          0  2025-08-22 21:29:58  \n",
       "1                0                          0  2025-08-23 02:26:14  \n",
       "2              198                          0  2025-08-23 08:33:46  \n",
       "3                0                          0  2025-08-23 02:26:14  \n",
       "4                5                          0  2025-08-23 08:21:14  \n",
       "\n",
       "[5 rows x 24 columns]"
      ]
     },
     "metadata": {},
     "output_type": "display_data"
    }
   ],
   "source": [
    "from pathlib import Path\n",
    "import pandas as pd\n",
    "\n",
    "# Use the path KaggleHub returned earlier; fallback to re-download if missing.\n",
    "try:\n",
    "    local_path\n",
    "except NameError:\n",
    "    import kagglehub\n",
    "    local_path = kagglehub.dataset_download('asaniczka/reddit-on-israel-palestine-daily-updated')\n",
    "\n",
    "base = Path(local_path)\n",
    "opinion_csv = next(base.rglob('reddit_opinion_PSE_ISR.csv'))\n",
    "df = pd.read_csv(opinion_csv)\n",
    "\n",
    "print('Using file:', opinion_csv)\n",
    "print('Shape:', df.shape)\n",
    "print('Columns:', df.columns.tolist())\n",
    "display(df.head())"
   ]
  },
  {
   "cell_type": "markdown",
   "id": "e5e45b90",
   "metadata": {},
   "source": [
    "### Column dictionary\n",
    "The table below describes the main fields present in `reddit_opinion_PSE_ISR.csv`.\n",
    "\n",
    "| Column | Meaning |\n",
    "|---|---|\n",
    "| `comment_id` | ID of the specific Reddit comment associated with the row (if applicable). |\n",
    "| `score` | Net upvotes (upvotes − downvotes) for the comment. |\n",
    "| `self_text` | Comment body text. May be empty/NaN. |\n",
    "| `subreddit` | Name of the subreddit where the content appeared. |\n",
    "| `created_time` | Comment timestamp (UTC). May be NaN if only post time is available. |\n",
    "| `post_id` | ID of the parent Reddit post (submission). |\n",
    "| `author_name` | Username of the commenting user. May be `[deleted]`/`[removed]`. |\n",
    "| `controversiality` | Reddit flag for how controversial a comment is (0/1). |\n",
    "| `ups` | Upvote count reported for the comment (may mirror `score`). |\n",
    "| `downs` | Downvote count reported for the comment (often 0 due to API limitations). |\n",
    "| `user_is_verified` | Whether the user account is verified (boolean/flag). |\n",
    "| `user_account_created_time` | Account creation time (UTC) of the author. |\n",
    "| `user_awardee_karma` | Karma from receiving awards. |\n",
    "| `user_awarder_karma` | Karma from giving awards. |\n",
    "| `user_link_karma` | Link (post) karma of the author. |\n",
    "| `user_comment_karma` | Comment karma of the author. |\n",
    "| `user_total_karma` | Total karma of the author. |\n",
    "| `post_score` | Net upvotes for the post (submission). |\n",
    "| `post_self_text` | Post body text (submission text). May be empty/NaN if it’s a link post. |\n",
    "| `post_title` | Post title. |\n",
    "| `post_upvote_ratio` | Fraction of upvotes out of total votes for the post (0–1). |\n",
    "| `post_thumbs_ups` | Upvote/like count for the post as captured by the scraper (if available). |\n",
    "| `post_total_awards_received` | Number of awards the post received. |\n",
    "| `post_created_time` | Post (submission) timestamp (UTC). |\n",
    "\n",
    "Notes:\n",
    "- Text for stance will primarily come from `post_title` + `post_self_text` (and optionally `self_text`).\n",
    "- Time analyses will use `post_created_time` when present; otherwise `created_time`.\n",
    "- Some fields can be missing for certain rows; handle NaNs accordingly.\n"
   ]
  },
  {
   "cell_type": "markdown",
   "id": "41e34c2d",
   "metadata": {},
   "source": [
    "### Reusable dataframe stats\n",
    "A simple helper to quickly inspect shape, dtypes, missing values, and memory usage. We’ll reuse it after preprocessing steps.\n"
   ]
  },
  {
   "cell_type": "code",
   "execution_count": 39,
   "id": "66f4506c",
   "metadata": {},
   "outputs": [
    {
     "name": "stdout",
     "output_type": "stream",
     "text": [
      "[df (current)] Shape: (3161341, 23)\n",
      "\n",
      "Dtypes (counts):\n",
      "object     9\n",
      "int64      7\n",
      "float64    6\n",
      "bool       1\n",
      "Name: count, dtype: int64\n",
      "\n",
      "Missing values (top):\n",
      "user_account_created_time    130693\n",
      "user_comment_karma              468\n",
      "user_awardee_karma              468\n",
      "user_awarder_karma              468\n",
      "user_total_karma                468\n",
      "user_link_karma                 468\n",
      "self_text                        16\n",
      "author_name                       0\n",
      "post_id                           0\n",
      "created_time                      0\n",
      "dtype: int64\n",
      "\n",
      "Approx. memory usage: 8270.39 MB\n"
     ]
    }
   ],
   "source": [
    "def show_stats(df, name='df', top_na=10):\n",
    "    print(f'[{name}] Shape:', df.shape)\n",
    "    print('\\nDtypes (counts):')\n",
    "    print(df.dtypes.value_counts())\n",
    "    print('\\nMissing values (top):')\n",
    "    na = df.isna().sum().sort_values(ascending=False)\n",
    "    print(na.head(top_na))\n",
    "    mem_mb = df.memory_usage(deep=True).sum() / 1_048_576\n",
    "    print(f\"\\nApprox. memory usage: {mem_mb:.2f} MB\")\n",
    "\n",
    "# Use on raw and reduced views\n",
    "show_stats(df, 'df (current)')\n"
   ]
  },
  {
   "cell_type": "markdown",
   "id": "443afe21",
   "metadata": {},
   "source": [
    "### Missing post body (`post_self_text`) and our approach\n",
    "We observe a high number of missing values in `post_self_text` (1,691,162 rows). This is expected because many Reddit submissions are link/image/video posts that do not have a self‑text body, and some posts may be deleted/removed.\n",
    "\n",
    "Since both the post topic (title) and the body can carry meaningful information for stance, we will:\n",
    "- Combine `post_title` and `post_self_text` into a single `text` field.\n",
    "- If the body is missing, use the title alone.\n",
    "- Drop rows only when both title and body are empty.\n"
   ]
  },
  {
   "cell_type": "code",
   "execution_count": 37,
   "id": "d86b63d7",
   "metadata": {},
   "outputs": [
    {
     "name": "stdout",
     "output_type": "stream",
     "text": [
      "Empty text rows: 0\n"
     ]
    }
   ],
   "source": [
    "# Simple combine: title + body -> text, then drop originals\n",
    "df['text'] = (df['post_title'].fillna('') + ' ' + df['post_self_text'].fillna('')).str.strip()\n",
    "df.drop(columns=['post_title', 'post_self_text'], inplace=True)\n",
    "print('Empty text rows:', int((df['text'].str.len() == 0).sum()))\n"
   ]
  },
  {
   "cell_type": "markdown",
   "id": "e55bc824",
   "metadata": {},
   "source": [
    "### Keep engagement columns for impact analysis\n",
    "For modeling we won’t use engagement fields (to avoid leakage), but for impact evaluation we’ll keep them now:\n",
    "- Text and context: `text`, `subreddit`, `post_id`\n",
    "- Time: `post_created_time` or `created_time`\n",
    "- Engagement: `score`, `ups`, `downs`, `post_score`, `post_upvote_ratio`, `post_thumbs_ups`, `post_total_awards_received`\n",
    "\n",
    "We’ll correlate stance trends with these later to study visibility and reception, but exclude them from training features.\n"
   ]
  },
  {
   "cell_type": "code",
   "execution_count": 40,
   "id": "232497a8",
   "metadata": {},
   "outputs": [
    {
     "name": "stdout",
     "output_type": "stream",
     "text": [
      "df shape: (3161341, 13)\n"
     ]
    },
    {
     "data": {
      "text/html": [
       "<div>\n",
       "<style scoped>\n",
       "    .dataframe tbody tr th:only-of-type {\n",
       "        vertical-align: middle;\n",
       "    }\n",
       "\n",
       "    .dataframe tbody tr th {\n",
       "        vertical-align: top;\n",
       "    }\n",
       "\n",
       "    .dataframe thead th {\n",
       "        text-align: right;\n",
       "    }\n",
       "</style>\n",
       "<table border=\"1\" class=\"dataframe\">\n",
       "  <thead>\n",
       "    <tr style=\"text-align: right;\">\n",
       "      <th></th>\n",
       "      <th>text</th>\n",
       "      <th>subreddit</th>\n",
       "      <th>post_id</th>\n",
       "      <th>post_created_time</th>\n",
       "      <th>created_time</th>\n",
       "      <th>score</th>\n",
       "      <th>ups</th>\n",
       "      <th>downs</th>\n",
       "      <th>post_score</th>\n",
       "      <th>post_upvote_ratio</th>\n",
       "      <th>post_thumbs_ups</th>\n",
       "      <th>post_total_awards_received</th>\n",
       "      <th>date</th>\n",
       "    </tr>\n",
       "  </thead>\n",
       "  <tbody>\n",
       "    <tr>\n",
       "      <th>0</th>\n",
       "      <td>Cardinal Zuppi read the names of every child w...</td>\n",
       "      <td>Palestine</td>\n",
       "      <td>1mxj1rm</td>\n",
       "      <td>2025-08-22 21:29:58</td>\n",
       "      <td>2025-08-22 21:29:58+00:00</td>\n",
       "      <td>1</td>\n",
       "      <td>1</td>\n",
       "      <td>0</td>\n",
       "      <td>6487</td>\n",
       "      <td>0.98</td>\n",
       "      <td>6487</td>\n",
       "      <td>0</td>\n",
       "      <td>2025-08-22</td>\n",
       "    </tr>\n",
       "    <tr>\n",
       "      <th>1</th>\n",
       "      <td>Why do people constantly bring up October 7th ...</td>\n",
       "      <td>IsraelPalestine</td>\n",
       "      <td>1mxpnoj</td>\n",
       "      <td>2025-08-23 02:26:14</td>\n",
       "      <td>2025-08-23 02:26:14+00:00</td>\n",
       "      <td>1</td>\n",
       "      <td>1</td>\n",
       "      <td>0</td>\n",
       "      <td>0</td>\n",
       "      <td>0.41</td>\n",
       "      <td>0</td>\n",
       "      <td>0</td>\n",
       "      <td>2025-08-23</td>\n",
       "    </tr>\n",
       "    <tr>\n",
       "      <th>2</th>\n",
       "      <td>Brainwash Zio Crew on the streets again, tryin...</td>\n",
       "      <td>Palestine</td>\n",
       "      <td>1mxw26r</td>\n",
       "      <td>2025-08-23 08:33:46</td>\n",
       "      <td>2025-08-23 08:33:46+00:00</td>\n",
       "      <td>1</td>\n",
       "      <td>1</td>\n",
       "      <td>0</td>\n",
       "      <td>198</td>\n",
       "      <td>1.00</td>\n",
       "      <td>198</td>\n",
       "      <td>0</td>\n",
       "      <td>2025-08-23</td>\n",
       "    </tr>\n",
       "    <tr>\n",
       "      <th>3</th>\n",
       "      <td>Why do people constantly bring up October 7th ...</td>\n",
       "      <td>IsraelPalestine</td>\n",
       "      <td>1mxpnoj</td>\n",
       "      <td>2025-08-23 02:26:14</td>\n",
       "      <td>2025-08-23 02:26:14+00:00</td>\n",
       "      <td>1</td>\n",
       "      <td>1</td>\n",
       "      <td>0</td>\n",
       "      <td>0</td>\n",
       "      <td>0.41</td>\n",
       "      <td>0</td>\n",
       "      <td>0</td>\n",
       "      <td>2025-08-23</td>\n",
       "    </tr>\n",
       "    <tr>\n",
       "      <th>4</th>\n",
       "      <td>Bleak Outlook for Palestinian Statehood The pr...</td>\n",
       "      <td>AskMiddleEast</td>\n",
       "      <td>1mxvv5i</td>\n",
       "      <td>2025-08-23 08:21:14</td>\n",
       "      <td>2025-08-23 08:21:14+00:00</td>\n",
       "      <td>1</td>\n",
       "      <td>1</td>\n",
       "      <td>0</td>\n",
       "      <td>5</td>\n",
       "      <td>1.00</td>\n",
       "      <td>5</td>\n",
       "      <td>0</td>\n",
       "      <td>2025-08-23</td>\n",
       "    </tr>\n",
       "  </tbody>\n",
       "</table>\n",
       "</div>"
      ],
      "text/plain": [
       "                                                text        subreddit  \\\n",
       "0  Cardinal Zuppi read the names of every child w...        Palestine   \n",
       "1  Why do people constantly bring up October 7th ...  IsraelPalestine   \n",
       "2  Brainwash Zio Crew on the streets again, tryin...        Palestine   \n",
       "3  Why do people constantly bring up October 7th ...  IsraelPalestine   \n",
       "4  Bleak Outlook for Palestinian Statehood The pr...    AskMiddleEast   \n",
       "\n",
       "   post_id    post_created_time              created_time  score  ups  downs  \\\n",
       "0  1mxj1rm  2025-08-22 21:29:58 2025-08-22 21:29:58+00:00      1    1      0   \n",
       "1  1mxpnoj  2025-08-23 02:26:14 2025-08-23 02:26:14+00:00      1    1      0   \n",
       "2  1mxw26r  2025-08-23 08:33:46 2025-08-23 08:33:46+00:00      1    1      0   \n",
       "3  1mxpnoj  2025-08-23 02:26:14 2025-08-23 02:26:14+00:00      1    1      0   \n",
       "4  1mxvv5i  2025-08-23 08:21:14 2025-08-23 08:21:14+00:00      1    1      0   \n",
       "\n",
       "   post_score  post_upvote_ratio  post_thumbs_ups  post_total_awards_received  \\\n",
       "0        6487               0.98             6487                           0   \n",
       "1           0               0.41                0                           0   \n",
       "2         198               1.00              198                           0   \n",
       "3           0               0.41                0                           0   \n",
       "4           5               1.00                5                           0   \n",
       "\n",
       "         date  \n",
       "0  2025-08-22  \n",
       "1  2025-08-23  \n",
       "2  2025-08-23  \n",
       "3  2025-08-23  \n",
       "4  2025-08-23  "
      ]
     },
     "execution_count": 40,
     "metadata": {},
     "output_type": "execute_result"
    }
   ],
   "source": [
    "# Reduced dataframe with engagement columns kept for analysis\n",
    "eng_cols = [\n",
    "    'score','ups','downs','post_score','post_upvote_ratio','post_thumbs_ups','post_total_awards_received'\n",
    "]\n",
    "base_cols = ['text','subreddit','post_id','post_created_time','created_time']\n",
    "cols = [c for c in base_cols + eng_cols if c in df.columns]\n",
    "\n",
    "# Save the original dataframe\n",
    "df_original = df.copy()\n",
    "\n",
    "# Create a reduced dataframe with the essential columns\n",
    "df = df[cols]\n",
    "\n",
    "# Standardize timestamp\n",
    "if 'post_created_time' in view.columns:\n",
    "    df['created_time'] = pd.to_datetime(df['post_created_time'], errors='coerce', utc=True)\n",
    "elif 'created_time' in df.columns:\n",
    "    df['created_time'] = pd.to_datetime(df['created_time'], errors='coerce', utc=True)\n",
    "\n",
    "df['date'] = df['created_time'].dt.date\n",
    "print('df shape:', df.shape)\n",
    "df.head()\n"
   ]
  },
  {
   "cell_type": "code",
   "execution_count": 41,
   "id": "04b8a6cd",
   "metadata": {},
   "outputs": [
    {
     "name": "stdout",
     "output_type": "stream",
     "text": [
      "[df (current)] Shape: (3161341, 13)\n",
      "\n",
      "Dtypes (counts):\n",
      "int64                  6\n",
      "object                 5\n",
      "datetime64[ns, UTC]    1\n",
      "float64                1\n",
      "Name: count, dtype: int64\n",
      "\n",
      "Missing values (top):\n",
      "text                 0\n",
      "subreddit            0\n",
      "post_id              0\n",
      "post_created_time    0\n",
      "created_time         0\n",
      "score                0\n",
      "ups                  0\n",
      "downs                0\n",
      "post_score           0\n",
      "post_upvote_ratio    0\n",
      "dtype: int64\n",
      "\n",
      "Approx. memory usage: 6315.74 MB\n"
     ]
    }
   ],
   "source": [
    "show_stats(df, 'df (current)')"
   ]
  },
  {
   "cell_type": "markdown",
   "id": "5eff6d90",
   "metadata": {},
   "source": [
    "### Subreddit distribution \n",
    "We want a quick peek at the dominant subreddits and their share of the conversation. To do that, we:\n",
    "- Display a table summarizing the number of posts for each subreddit (top N, with a possible “Other” group).\n",
    "- Show a pie chart that visualizes each subreddit’s percentage of the total.\n",
    "This gives us a clear view of where discussion is concentrated before we dive deeper"
   ]
  },
  {
   "cell_type": "code",
   "execution_count": 145,
   "id": "b2856dfd",
   "metadata": {},
   "outputs": [
    {
     "data": {
      "application/vnd.plotly.v1+json": {
       "config": {
        "plotlyServerURL": "https://plot.ly"
       },
       "data": [
        {
         "domain": {
          "x": [
           0.55,
           1
          ],
          "y": [
           0,
           1
          ]
         },
         "labels": [
          "IsraelPalestine",
          "worldnews",
          "Palestine",
          "PublicFreakout",
          "AskMiddleEast",
          "CombatFootage",
          "worldnewsvideo",
          "NonCredibleDefense",
          "CrazyFuckingVideos",
          "IsrealPalestineWar_23"
         ],
         "marker": {
          "colors": [
           "rgb(255, 255, 255)",
           "rgb(242, 242, 242)",
           "rgb(222, 222, 222)",
           "rgb(198, 198, 198)",
           "rgb(167, 167, 167)",
           "rgb(134, 134, 134)",
           "rgb(104, 104, 104)",
           "rgb(72, 72, 72)",
           "rgb(33, 33, 33)",
           "rgb(0, 0, 0)"
          ]
         },
         "textinfo": "label+percent",
         "type": "pie",
         "values": {
          "bdata": "SY8RALzZCwB3RAUAfIQDAD05AwDkRwIAu2sBAEddAQDVoQAAeVoAAA==",
          "dtype": "i4"
         }
        },
        {
         "cells": {
          "fill": {
           "color": "white"
          },
          "font": {
           "size": 14
          },
          "height": 30,
          "line": {
           "color": "black"
          },
          "values": [
           [
            "IsraelPalestine",
            "worldnews",
            "Palestine",
            "PublicFreakout",
            "AskMiddleEast",
            "CombatFootage",
            "worldnewsvideo",
            "NonCredibleDefense",
            "CrazyFuckingVideos",
            "IsrealPalestineWar_23"
           ],
           [
            1150793,
            776636,
            345207,
            230524,
            211261,
            149476,
            93115,
            89415,
            41429,
            23161
           ]
          ]
         },
         "domain": {
          "x": [
           0,
           0.45
          ],
          "y": [
           0,
           1
          ]
         },
         "header": {
          "fill": {
           "color": "black"
          },
          "font": {
           "color": "white"
          },
          "values": [
           "Subreddit",
           "Posts"
          ]
         },
         "type": "table"
        }
       ],
       "layout": {
        "annotations": [
         {
          "font": {
           "size": 16
          },
          "showarrow": false,
          "text": "Distribution",
          "x": 0.225,
          "xanchor": "center",
          "xref": "paper",
          "y": 1,
          "yanchor": "bottom",
          "yref": "paper"
         },
         {
          "font": {
           "size": 16
          },
          "showarrow": false,
          "text": "PCT (%)",
          "x": 0.775,
          "xanchor": "center",
          "xref": "paper",
          "y": 1,
          "yanchor": "bottom",
          "yref": "paper"
         }
        ],
        "height": 600,
        "template": {
         "data": {
          "bar": [
           {
            "error_x": {
             "color": "#2a3f5f"
            },
            "error_y": {
             "color": "#2a3f5f"
            },
            "marker": {
             "line": {
              "color": "white",
              "width": 0.5
             },
             "pattern": {
              "fillmode": "overlay",
              "size": 10,
              "solidity": 0.2
             }
            },
            "type": "bar"
           }
          ],
          "barpolar": [
           {
            "marker": {
             "line": {
              "color": "white",
              "width": 0.5
             },
             "pattern": {
              "fillmode": "overlay",
              "size": 10,
              "solidity": 0.2
             }
            },
            "type": "barpolar"
           }
          ],
          "carpet": [
           {
            "aaxis": {
             "endlinecolor": "#2a3f5f",
             "gridcolor": "#C8D4E3",
             "linecolor": "#C8D4E3",
             "minorgridcolor": "#C8D4E3",
             "startlinecolor": "#2a3f5f"
            },
            "baxis": {
             "endlinecolor": "#2a3f5f",
             "gridcolor": "#C8D4E3",
             "linecolor": "#C8D4E3",
             "minorgridcolor": "#C8D4E3",
             "startlinecolor": "#2a3f5f"
            },
            "type": "carpet"
           }
          ],
          "choropleth": [
           {
            "colorbar": {
             "outlinewidth": 0,
             "ticks": ""
            },
            "type": "choropleth"
           }
          ],
          "contour": [
           {
            "colorbar": {
             "outlinewidth": 0,
             "ticks": ""
            },
            "colorscale": [
             [
              0,
              "#0d0887"
             ],
             [
              0.1111111111111111,
              "#46039f"
             ],
             [
              0.2222222222222222,
              "#7201a8"
             ],
             [
              0.3333333333333333,
              "#9c179e"
             ],
             [
              0.4444444444444444,
              "#bd3786"
             ],
             [
              0.5555555555555556,
              "#d8576b"
             ],
             [
              0.6666666666666666,
              "#ed7953"
             ],
             [
              0.7777777777777778,
              "#fb9f3a"
             ],
             [
              0.8888888888888888,
              "#fdca26"
             ],
             [
              1,
              "#f0f921"
             ]
            ],
            "type": "contour"
           }
          ],
          "contourcarpet": [
           {
            "colorbar": {
             "outlinewidth": 0,
             "ticks": ""
            },
            "type": "contourcarpet"
           }
          ],
          "heatmap": [
           {
            "colorbar": {
             "outlinewidth": 0,
             "ticks": ""
            },
            "colorscale": [
             [
              0,
              "#0d0887"
             ],
             [
              0.1111111111111111,
              "#46039f"
             ],
             [
              0.2222222222222222,
              "#7201a8"
             ],
             [
              0.3333333333333333,
              "#9c179e"
             ],
             [
              0.4444444444444444,
              "#bd3786"
             ],
             [
              0.5555555555555556,
              "#d8576b"
             ],
             [
              0.6666666666666666,
              "#ed7953"
             ],
             [
              0.7777777777777778,
              "#fb9f3a"
             ],
             [
              0.8888888888888888,
              "#fdca26"
             ],
             [
              1,
              "#f0f921"
             ]
            ],
            "type": "heatmap"
           }
          ],
          "histogram": [
           {
            "marker": {
             "pattern": {
              "fillmode": "overlay",
              "size": 10,
              "solidity": 0.2
             }
            },
            "type": "histogram"
           }
          ],
          "histogram2d": [
           {
            "colorbar": {
             "outlinewidth": 0,
             "ticks": ""
            },
            "colorscale": [
             [
              0,
              "#0d0887"
             ],
             [
              0.1111111111111111,
              "#46039f"
             ],
             [
              0.2222222222222222,
              "#7201a8"
             ],
             [
              0.3333333333333333,
              "#9c179e"
             ],
             [
              0.4444444444444444,
              "#bd3786"
             ],
             [
              0.5555555555555556,
              "#d8576b"
             ],
             [
              0.6666666666666666,
              "#ed7953"
             ],
             [
              0.7777777777777778,
              "#fb9f3a"
             ],
             [
              0.8888888888888888,
              "#fdca26"
             ],
             [
              1,
              "#f0f921"
             ]
            ],
            "type": "histogram2d"
           }
          ],
          "histogram2dcontour": [
           {
            "colorbar": {
             "outlinewidth": 0,
             "ticks": ""
            },
            "colorscale": [
             [
              0,
              "#0d0887"
             ],
             [
              0.1111111111111111,
              "#46039f"
             ],
             [
              0.2222222222222222,
              "#7201a8"
             ],
             [
              0.3333333333333333,
              "#9c179e"
             ],
             [
              0.4444444444444444,
              "#bd3786"
             ],
             [
              0.5555555555555556,
              "#d8576b"
             ],
             [
              0.6666666666666666,
              "#ed7953"
             ],
             [
              0.7777777777777778,
              "#fb9f3a"
             ],
             [
              0.8888888888888888,
              "#fdca26"
             ],
             [
              1,
              "#f0f921"
             ]
            ],
            "type": "histogram2dcontour"
           }
          ],
          "mesh3d": [
           {
            "colorbar": {
             "outlinewidth": 0,
             "ticks": ""
            },
            "type": "mesh3d"
           }
          ],
          "parcoords": [
           {
            "line": {
             "colorbar": {
              "outlinewidth": 0,
              "ticks": ""
             }
            },
            "type": "parcoords"
           }
          ],
          "pie": [
           {
            "automargin": true,
            "type": "pie"
           }
          ],
          "scatter": [
           {
            "fillpattern": {
             "fillmode": "overlay",
             "size": 10,
             "solidity": 0.2
            },
            "type": "scatter"
           }
          ],
          "scatter3d": [
           {
            "line": {
             "colorbar": {
              "outlinewidth": 0,
              "ticks": ""
             }
            },
            "marker": {
             "colorbar": {
              "outlinewidth": 0,
              "ticks": ""
             }
            },
            "type": "scatter3d"
           }
          ],
          "scattercarpet": [
           {
            "marker": {
             "colorbar": {
              "outlinewidth": 0,
              "ticks": ""
             }
            },
            "type": "scattercarpet"
           }
          ],
          "scattergeo": [
           {
            "marker": {
             "colorbar": {
              "outlinewidth": 0,
              "ticks": ""
             }
            },
            "type": "scattergeo"
           }
          ],
          "scattergl": [
           {
            "marker": {
             "colorbar": {
              "outlinewidth": 0,
              "ticks": ""
             }
            },
            "type": "scattergl"
           }
          ],
          "scattermap": [
           {
            "marker": {
             "colorbar": {
              "outlinewidth": 0,
              "ticks": ""
             }
            },
            "type": "scattermap"
           }
          ],
          "scattermapbox": [
           {
            "marker": {
             "colorbar": {
              "outlinewidth": 0,
              "ticks": ""
             }
            },
            "type": "scattermapbox"
           }
          ],
          "scatterpolar": [
           {
            "marker": {
             "colorbar": {
              "outlinewidth": 0,
              "ticks": ""
             }
            },
            "type": "scatterpolar"
           }
          ],
          "scatterpolargl": [
           {
            "marker": {
             "colorbar": {
              "outlinewidth": 0,
              "ticks": ""
             }
            },
            "type": "scatterpolargl"
           }
          ],
          "scatterternary": [
           {
            "marker": {
             "colorbar": {
              "outlinewidth": 0,
              "ticks": ""
             }
            },
            "type": "scatterternary"
           }
          ],
          "surface": [
           {
            "colorbar": {
             "outlinewidth": 0,
             "ticks": ""
            },
            "colorscale": [
             [
              0,
              "#0d0887"
             ],
             [
              0.1111111111111111,
              "#46039f"
             ],
             [
              0.2222222222222222,
              "#7201a8"
             ],
             [
              0.3333333333333333,
              "#9c179e"
             ],
             [
              0.4444444444444444,
              "#bd3786"
             ],
             [
              0.5555555555555556,
              "#d8576b"
             ],
             [
              0.6666666666666666,
              "#ed7953"
             ],
             [
              0.7777777777777778,
              "#fb9f3a"
             ],
             [
              0.8888888888888888,
              "#fdca26"
             ],
             [
              1,
              "#f0f921"
             ]
            ],
            "type": "surface"
           }
          ],
          "table": [
           {
            "cells": {
             "fill": {
              "color": "#EBF0F8"
             },
             "line": {
              "color": "white"
             }
            },
            "header": {
             "fill": {
              "color": "#C8D4E3"
             },
             "line": {
              "color": "white"
             }
            },
            "type": "table"
           }
          ]
         },
         "layout": {
          "annotationdefaults": {
           "arrowcolor": "#2a3f5f",
           "arrowhead": 0,
           "arrowwidth": 1
          },
          "autotypenumbers": "strict",
          "coloraxis": {
           "colorbar": {
            "outlinewidth": 0,
            "ticks": ""
           }
          },
          "colorscale": {
           "diverging": [
            [
             0,
             "#8e0152"
            ],
            [
             0.1,
             "#c51b7d"
            ],
            [
             0.2,
             "#de77ae"
            ],
            [
             0.3,
             "#f1b6da"
            ],
            [
             0.4,
             "#fde0ef"
            ],
            [
             0.5,
             "#f7f7f7"
            ],
            [
             0.6,
             "#e6f5d0"
            ],
            [
             0.7,
             "#b8e186"
            ],
            [
             0.8,
             "#7fbc41"
            ],
            [
             0.9,
             "#4d9221"
            ],
            [
             1,
             "#276419"
            ]
           ],
           "sequential": [
            [
             0,
             "#0d0887"
            ],
            [
             0.1111111111111111,
             "#46039f"
            ],
            [
             0.2222222222222222,
             "#7201a8"
            ],
            [
             0.3333333333333333,
             "#9c179e"
            ],
            [
             0.4444444444444444,
             "#bd3786"
            ],
            [
             0.5555555555555556,
             "#d8576b"
            ],
            [
             0.6666666666666666,
             "#ed7953"
            ],
            [
             0.7777777777777778,
             "#fb9f3a"
            ],
            [
             0.8888888888888888,
             "#fdca26"
            ],
            [
             1,
             "#f0f921"
            ]
           ],
           "sequentialminus": [
            [
             0,
             "#0d0887"
            ],
            [
             0.1111111111111111,
             "#46039f"
            ],
            [
             0.2222222222222222,
             "#7201a8"
            ],
            [
             0.3333333333333333,
             "#9c179e"
            ],
            [
             0.4444444444444444,
             "#bd3786"
            ],
            [
             0.5555555555555556,
             "#d8576b"
            ],
            [
             0.6666666666666666,
             "#ed7953"
            ],
            [
             0.7777777777777778,
             "#fb9f3a"
            ],
            [
             0.8888888888888888,
             "#fdca26"
            ],
            [
             1,
             "#f0f921"
            ]
           ]
          },
          "colorway": [
           "#636efa",
           "#EF553B",
           "#00cc96",
           "#ab63fa",
           "#FFA15A",
           "#19d3f3",
           "#FF6692",
           "#B6E880",
           "#FF97FF",
           "#FECB52"
          ],
          "font": {
           "color": "#2a3f5f"
          },
          "geo": {
           "bgcolor": "white",
           "lakecolor": "white",
           "landcolor": "white",
           "showlakes": true,
           "showland": true,
           "subunitcolor": "#C8D4E3"
          },
          "hoverlabel": {
           "align": "left"
          },
          "hovermode": "closest",
          "mapbox": {
           "style": "light"
          },
          "paper_bgcolor": "white",
          "plot_bgcolor": "white",
          "polar": {
           "angularaxis": {
            "gridcolor": "#EBF0F8",
            "linecolor": "#EBF0F8",
            "ticks": ""
           },
           "bgcolor": "white",
           "radialaxis": {
            "gridcolor": "#EBF0F8",
            "linecolor": "#EBF0F8",
            "ticks": ""
           }
          },
          "scene": {
           "xaxis": {
            "backgroundcolor": "white",
            "gridcolor": "#DFE8F3",
            "gridwidth": 2,
            "linecolor": "#EBF0F8",
            "showbackground": true,
            "ticks": "",
            "zerolinecolor": "#EBF0F8"
           },
           "yaxis": {
            "backgroundcolor": "white",
            "gridcolor": "#DFE8F3",
            "gridwidth": 2,
            "linecolor": "#EBF0F8",
            "showbackground": true,
            "ticks": "",
            "zerolinecolor": "#EBF0F8"
           },
           "zaxis": {
            "backgroundcolor": "white",
            "gridcolor": "#DFE8F3",
            "gridwidth": 2,
            "linecolor": "#EBF0F8",
            "showbackground": true,
            "ticks": "",
            "zerolinecolor": "#EBF0F8"
           }
          },
          "shapedefaults": {
           "line": {
            "color": "#2a3f5f"
           }
          },
          "ternary": {
           "aaxis": {
            "gridcolor": "#DFE8F3",
            "linecolor": "#A2B1C6",
            "ticks": ""
           },
           "baxis": {
            "gridcolor": "#DFE8F3",
            "linecolor": "#A2B1C6",
            "ticks": ""
           },
           "bgcolor": "white",
           "caxis": {
            "gridcolor": "#DFE8F3",
            "linecolor": "#A2B1C6",
            "ticks": ""
           }
          },
          "title": {
           "x": 0.05
          },
          "xaxis": {
           "automargin": true,
           "gridcolor": "#EBF0F8",
           "linecolor": "#EBF0F8",
           "ticks": "",
           "title": {
            "standoff": 15
           },
           "zerolinecolor": "#EBF0F8",
           "zerolinewidth": 2
          },
          "yaxis": {
           "automargin": true,
           "gridcolor": "#EBF0F8",
           "linecolor": "#EBF0F8",
           "ticks": "",
           "title": {
            "standoff": 15
           },
           "zerolinecolor": "#EBF0F8",
           "zerolinewidth": 2
          }
         }
        },
        "title": {
         "text": "Top Subreddits"
        },
        "width": 1000
       }
      }
     },
     "metadata": {},
     "output_type": "display_data"
    }
   ],
   "source": [
    "from plotly.subplots import make_subplots\n",
    "import plotly.graph_objects as go\n",
    "\n",
    "# Get top subreddits\n",
    "counts = df['subreddit'].value_counts().head(10)\n",
    "\n",
    "# Sample colors from the warm palette to match your data\n",
    "black_white_colors = px.colors.sample_colorscale('Greys', len(counts))\n",
    "\n",
    "# Create side-by-side layout\n",
    "fig = make_subplots(\n",
    "    rows=1, cols=2,\n",
    "    specs=[[{\"type\": \"pie\"}, {\"type\": \"table\"}]],\n",
    "    subplot_titles=(\"Distribution\", \"PCT (%)\")\n",
    ")\n",
    "\n",
    "# Add pie chart\n",
    "fig.add_trace(go.Pie(\n",
    "    labels=counts.index, \n",
    "    values=counts.values,\n",
    "    textinfo='label+percent',\n",
    "    marker_colors=black_white_colors,\n",
    "), row=1, col=2)\n",
    "\n",
    "# Add table\n",
    "fig.add_trace(go.Table(\n",
    "    header=dict(values=['Subreddit', 'Posts'], fill_color='black',font_color='white'),\n",
    "    cells=dict(values=[counts.index, counts.values],font=dict(size=14),height=30, fill_color='white',line_color='black')\n",
    "), row=1, col=1)\n",
    "\n",
    "# Layout\n",
    "fig.update_layout(height=600, width=1000, title=\"Top Subreddits\")\n",
    "fig.show()"
   ]
  },
  {
   "cell_type": "markdown",
   "id": "dc875c81",
   "metadata": {},
   "source": [
    "### What the results tell us (current dataset snapshot)\n",
    "- The conversation is highly concentrated. The largest subreddit is **IsraelPalestine** with about **1,150,793** posts (~**37%** of the top group).\n",
    "- Next is **worldnews** with ~**776,636** posts (~**25%**), followed by **Palestine** with ~**345,207** (~**11%**).\n",
    "- Additional high‑volume communities include:\n",
    "  - **PublicFreakout** ~**230,524** (~**7.4%**)\n",
    "  - **AskMiddleEast** ~**211,261** (~**6.8%**)\n",
    "  - **CombatFootage** ~**149,476** (~**4.8%**)\n",
    "  - **worldnewsvideo** ~**93,115** (~**3.0%**)\n",
    "  - **NonCredibleDefense** ~**89,415** (~**2.9%**)\n",
    "  - **CrazyFuckingVideos** ~**41,429** (~**1.3%**)\n",
    "  - **IsrealPalestineWar_23** ~**23,161** (~**0.7%**)\n",
    "- Interpretation: a handful of subreddits dominate total volume, which can bias aggregate trends toward those communities. In later steps we’ll normalize by time and examine per‑subreddit rates to enable fair comparisons."
   ]
  },
  {
   "cell_type": "markdown",
   "id": "cfdee888",
   "metadata": {},
   "source": [
    "### Let's check the distribution over time. For that we first need to find what timeframe are we talking about"
   ]
  },
  {
   "cell_type": "code",
   "execution_count": 146,
   "id": "5511fb68",
   "metadata": {},
   "outputs": [
    {
     "name": "stdout",
     "output_type": "stream",
     "text": [
      "Dataset spans from: 2023-09-02\n",
      "First post was in r/ActualPublicFreakouts\n",
      "Post ID: 1680ip7\n",
      "Text preview: Eritrean immigrants (illegals) fighting in the streets of Tel Aviv (Israel) - Blues are against Erit...\n"
     ]
    }
   ],
   "source": [
    "earliest_date = df['date'].min()\n",
    "earliest_row = df[df['date'] == earliest_date].iloc[0]\n",
    "\n",
    "print(f\"Dataset spans from: {earliest_date}\")\n",
    "print(f\"First post was in r/{earliest_row['subreddit']}\")\n",
    "print(f\"Post ID: {earliest_row['post_id']}\")\n",
    "if 'text' in df.columns:\n",
    "    text_preview = earliest_row['text'][:100] + \"...\" if len(earliest_row['text']) > 100 else earliest_row['text']\n",
    "    print(f\"Text preview: {text_preview}\")"
   ]
  },
  {
   "cell_type": "code",
   "execution_count": 147,
   "id": "4c75fea8",
   "metadata": {},
   "outputs": [
    {
     "name": "stdout",
     "output_type": "stream",
     "text": [
      "Dataset spans 24 months\n"
     ]
    },
    {
     "data": {
      "text/html": [
       "<div>\n",
       "<style scoped>\n",
       "    .dataframe tbody tr th:only-of-type {\n",
       "        vertical-align: middle;\n",
       "    }\n",
       "\n",
       "    .dataframe tbody tr th {\n",
       "        vertical-align: top;\n",
       "    }\n",
       "\n",
       "    .dataframe thead th {\n",
       "        text-align: right;\n",
       "    }\n",
       "</style>\n",
       "<table border=\"1\" class=\"dataframe\">\n",
       "  <thead>\n",
       "    <tr style=\"text-align: right;\">\n",
       "      <th></th>\n",
       "      <th>month_year</th>\n",
       "      <th>post_count</th>\n",
       "      <th>year</th>\n",
       "      <th>month</th>\n",
       "      <th>month_name</th>\n",
       "    </tr>\n",
       "  </thead>\n",
       "  <tbody>\n",
       "    <tr>\n",
       "      <th>0</th>\n",
       "      <td>2023-09</td>\n",
       "      <td>2034</td>\n",
       "      <td>2023</td>\n",
       "      <td>9</td>\n",
       "      <td>2023-09</td>\n",
       "    </tr>\n",
       "    <tr>\n",
       "      <th>1</th>\n",
       "      <td>2023-10</td>\n",
       "      <td>25790</td>\n",
       "      <td>2023</td>\n",
       "      <td>10</td>\n",
       "      <td>2023-10</td>\n",
       "    </tr>\n",
       "    <tr>\n",
       "      <th>2</th>\n",
       "      <td>2023-11</td>\n",
       "      <td>289402</td>\n",
       "      <td>2023</td>\n",
       "      <td>11</td>\n",
       "      <td>2023-11</td>\n",
       "    </tr>\n",
       "    <tr>\n",
       "      <th>3</th>\n",
       "      <td>2023-12</td>\n",
       "      <td>270405</td>\n",
       "      <td>2023</td>\n",
       "      <td>12</td>\n",
       "      <td>2023-12</td>\n",
       "    </tr>\n",
       "    <tr>\n",
       "      <th>4</th>\n",
       "      <td>2024-01</td>\n",
       "      <td>194976</td>\n",
       "      <td>2024</td>\n",
       "      <td>1</td>\n",
       "      <td>2024-01</td>\n",
       "    </tr>\n",
       "    <tr>\n",
       "      <th>5</th>\n",
       "      <td>2024-02</td>\n",
       "      <td>157363</td>\n",
       "      <td>2024</td>\n",
       "      <td>2</td>\n",
       "      <td>2024-02</td>\n",
       "    </tr>\n",
       "    <tr>\n",
       "      <th>6</th>\n",
       "      <td>2024-03</td>\n",
       "      <td>163465</td>\n",
       "      <td>2024</td>\n",
       "      <td>3</td>\n",
       "      <td>2024-03</td>\n",
       "    </tr>\n",
       "    <tr>\n",
       "      <th>7</th>\n",
       "      <td>2024-04</td>\n",
       "      <td>179069</td>\n",
       "      <td>2024</td>\n",
       "      <td>4</td>\n",
       "      <td>2024-04</td>\n",
       "    </tr>\n",
       "    <tr>\n",
       "      <th>8</th>\n",
       "      <td>2024-05</td>\n",
       "      <td>184685</td>\n",
       "      <td>2024</td>\n",
       "      <td>5</td>\n",
       "      <td>2024-05</td>\n",
       "    </tr>\n",
       "    <tr>\n",
       "      <th>9</th>\n",
       "      <td>2024-06</td>\n",
       "      <td>132615</td>\n",
       "      <td>2024</td>\n",
       "      <td>6</td>\n",
       "      <td>2024-06</td>\n",
       "    </tr>\n",
       "  </tbody>\n",
       "</table>\n",
       "</div>"
      ],
      "text/plain": [
       "  month_year  post_count  year  month month_name\n",
       "0    2023-09        2034  2023      9    2023-09\n",
       "1    2023-10       25790  2023     10    2023-10\n",
       "2    2023-11      289402  2023     11    2023-11\n",
       "3    2023-12      270405  2023     12    2023-12\n",
       "4    2024-01      194976  2024      1    2024-01\n",
       "5    2024-02      157363  2024      2    2024-02\n",
       "6    2024-03      163465  2024      3    2024-03\n",
       "7    2024-04      179069  2024      4    2024-04\n",
       "8    2024-05      184685  2024      5    2024-05\n",
       "9    2024-06      132615  2024      6    2024-06"
      ]
     },
     "metadata": {},
     "output_type": "display_data"
    }
   ],
   "source": [
    "# Create monthly post counts\n",
    "monthly_counts = (df.assign(month_year=pd.to_datetime(df['date']).dt.to_period('M'))\n",
    "                   .groupby('month_year')\n",
    "                   .size()\n",
    "                   .reset_index(name='post_count'))\n",
    "\n",
    "monthly_counts['year'] = monthly_counts['month_year'].dt.year\n",
    "monthly_counts['month'] = monthly_counts['month_year'].dt.month\n",
    "monthly_counts['month_name'] = monthly_counts['month_year'].dt.strftime('%Y-%m')\n",
    "\n",
    "print(f\"Dataset spans {len(monthly_counts)} months\")\n",
    "display(monthly_counts.head(10))"
   ]
  },
  {
   "cell_type": "code",
   "execution_count": 150,
   "id": "d482d0a7",
   "metadata": {},
   "outputs": [
    {
     "data": {
      "application/vnd.plotly.v1+json": {
       "config": {
        "plotlyServerURL": "https://plot.ly"
       },
       "data": [
        {
         "hovertemplate": "month_name=%{x}<br>Number of Posts=%{y}<extra></extra>",
         "legendgroup": "",
         "marker": {
          "color": "#D2691E",
          "pattern": {
           "shape": ""
          }
         },
         "name": "",
         "orientation": "v",
         "showlegend": false,
         "textposition": "auto",
         "type": "bar",
         "x": [
          "2023-09",
          "2023-10",
          "2023-11",
          "2023-12",
          "2024-01",
          "2024-02",
          "2024-03",
          "2024-04",
          "2024-05",
          "2024-06",
          "2024-07",
          "2024-08",
          "2024-09",
          "2024-10",
          "2024-11",
          "2024-12",
          "2025-01",
          "2025-02",
          "2025-03",
          "2025-04",
          "2025-05",
          "2025-06",
          "2025-07",
          "2025-08"
         ],
         "xaxis": "x",
         "y": {
          "bdata": "8gcAAL5kAAB6agQARSAEAKD5AgCzZgIAiX4CAH27AgBt0QIABwYCABCWAQD72gEAW/oBAH5mAgCuigEAyU8BACo+AQCkAAEAWB0BAJJbAQDx/wEAfeICAJUHAgCrhQEA",
          "dtype": "i4"
         },
         "yaxis": "y"
        },
        {
         "line": {
          "color": "#8B4513",
          "width": 3
         },
         "mode": "lines",
         "name": "12-month avg",
         "type": "scatter",
         "x": [
          "2023-09",
          "2023-10",
          "2023-11",
          "2023-12",
          "2024-01",
          "2024-02",
          "2024-03",
          "2024-04",
          "2024-05",
          "2024-06",
          "2024-07",
          "2024-08",
          "2024-09",
          "2024-10",
          "2024-11",
          "2024-12",
          "2025-01",
          "2025-02",
          "2025-03",
          "2025-04",
          "2025-05",
          "2025-06",
          "2025-07",
          "2025-08"
         ],
         "y": {
          "bdata": "AAAAAADIn0AAAAAAACzLQAAAAADg0PlAAAAAAN7uAUEzMzMzSxsDQVVVVVWtHwNBq6qqqnZoBkGrqqqqyoYJQQAAAABkZQdBAAAAALyXBEGrqqqqpr0CQQAAAABcAwJBq6qqqh5TAUGrqqqqyuEAQauqqqpCXP5AAAAAAEh2/ECrqqqq4ov7QFVVVVWlRflAAAAAAEj49kBVVVVVfTD0QAAAAAAwafVAAAAAABCb+UBVVVVVLbT7QKuqqqrqFv1A",
          "dtype": "f8"
         }
        }
       ],
       "layout": {
        "bargap": 0.1,
        "barmode": "relative",
        "height": 500,
        "legend": {
         "tracegroupgap": 0
        },
        "paper_bgcolor": "rgba(0,0,0,0)",
        "plot_bgcolor": "rgba(0,0,0,0)",
        "template": {
         "data": {
          "bar": [
           {
            "error_x": {
             "color": "#2a3f5f"
            },
            "error_y": {
             "color": "#2a3f5f"
            },
            "marker": {
             "line": {
              "color": "white",
              "width": 0.5
             },
             "pattern": {
              "fillmode": "overlay",
              "size": 10,
              "solidity": 0.2
             }
            },
            "type": "bar"
           }
          ],
          "barpolar": [
           {
            "marker": {
             "line": {
              "color": "white",
              "width": 0.5
             },
             "pattern": {
              "fillmode": "overlay",
              "size": 10,
              "solidity": 0.2
             }
            },
            "type": "barpolar"
           }
          ],
          "carpet": [
           {
            "aaxis": {
             "endlinecolor": "#2a3f5f",
             "gridcolor": "#C8D4E3",
             "linecolor": "#C8D4E3",
             "minorgridcolor": "#C8D4E3",
             "startlinecolor": "#2a3f5f"
            },
            "baxis": {
             "endlinecolor": "#2a3f5f",
             "gridcolor": "#C8D4E3",
             "linecolor": "#C8D4E3",
             "minorgridcolor": "#C8D4E3",
             "startlinecolor": "#2a3f5f"
            },
            "type": "carpet"
           }
          ],
          "choropleth": [
           {
            "colorbar": {
             "outlinewidth": 0,
             "ticks": ""
            },
            "type": "choropleth"
           }
          ],
          "contour": [
           {
            "colorbar": {
             "outlinewidth": 0,
             "ticks": ""
            },
            "colorscale": [
             [
              0,
              "#0d0887"
             ],
             [
              0.1111111111111111,
              "#46039f"
             ],
             [
              0.2222222222222222,
              "#7201a8"
             ],
             [
              0.3333333333333333,
              "#9c179e"
             ],
             [
              0.4444444444444444,
              "#bd3786"
             ],
             [
              0.5555555555555556,
              "#d8576b"
             ],
             [
              0.6666666666666666,
              "#ed7953"
             ],
             [
              0.7777777777777778,
              "#fb9f3a"
             ],
             [
              0.8888888888888888,
              "#fdca26"
             ],
             [
              1,
              "#f0f921"
             ]
            ],
            "type": "contour"
           }
          ],
          "contourcarpet": [
           {
            "colorbar": {
             "outlinewidth": 0,
             "ticks": ""
            },
            "type": "contourcarpet"
           }
          ],
          "heatmap": [
           {
            "colorbar": {
             "outlinewidth": 0,
             "ticks": ""
            },
            "colorscale": [
             [
              0,
              "#0d0887"
             ],
             [
              0.1111111111111111,
              "#46039f"
             ],
             [
              0.2222222222222222,
              "#7201a8"
             ],
             [
              0.3333333333333333,
              "#9c179e"
             ],
             [
              0.4444444444444444,
              "#bd3786"
             ],
             [
              0.5555555555555556,
              "#d8576b"
             ],
             [
              0.6666666666666666,
              "#ed7953"
             ],
             [
              0.7777777777777778,
              "#fb9f3a"
             ],
             [
              0.8888888888888888,
              "#fdca26"
             ],
             [
              1,
              "#f0f921"
             ]
            ],
            "type": "heatmap"
           }
          ],
          "histogram": [
           {
            "marker": {
             "pattern": {
              "fillmode": "overlay",
              "size": 10,
              "solidity": 0.2
             }
            },
            "type": "histogram"
           }
          ],
          "histogram2d": [
           {
            "colorbar": {
             "outlinewidth": 0,
             "ticks": ""
            },
            "colorscale": [
             [
              0,
              "#0d0887"
             ],
             [
              0.1111111111111111,
              "#46039f"
             ],
             [
              0.2222222222222222,
              "#7201a8"
             ],
             [
              0.3333333333333333,
              "#9c179e"
             ],
             [
              0.4444444444444444,
              "#bd3786"
             ],
             [
              0.5555555555555556,
              "#d8576b"
             ],
             [
              0.6666666666666666,
              "#ed7953"
             ],
             [
              0.7777777777777778,
              "#fb9f3a"
             ],
             [
              0.8888888888888888,
              "#fdca26"
             ],
             [
              1,
              "#f0f921"
             ]
            ],
            "type": "histogram2d"
           }
          ],
          "histogram2dcontour": [
           {
            "colorbar": {
             "outlinewidth": 0,
             "ticks": ""
            },
            "colorscale": [
             [
              0,
              "#0d0887"
             ],
             [
              0.1111111111111111,
              "#46039f"
             ],
             [
              0.2222222222222222,
              "#7201a8"
             ],
             [
              0.3333333333333333,
              "#9c179e"
             ],
             [
              0.4444444444444444,
              "#bd3786"
             ],
             [
              0.5555555555555556,
              "#d8576b"
             ],
             [
              0.6666666666666666,
              "#ed7953"
             ],
             [
              0.7777777777777778,
              "#fb9f3a"
             ],
             [
              0.8888888888888888,
              "#fdca26"
             ],
             [
              1,
              "#f0f921"
             ]
            ],
            "type": "histogram2dcontour"
           }
          ],
          "mesh3d": [
           {
            "colorbar": {
             "outlinewidth": 0,
             "ticks": ""
            },
            "type": "mesh3d"
           }
          ],
          "parcoords": [
           {
            "line": {
             "colorbar": {
              "outlinewidth": 0,
              "ticks": ""
             }
            },
            "type": "parcoords"
           }
          ],
          "pie": [
           {
            "automargin": true,
            "type": "pie"
           }
          ],
          "scatter": [
           {
            "fillpattern": {
             "fillmode": "overlay",
             "size": 10,
             "solidity": 0.2
            },
            "type": "scatter"
           }
          ],
          "scatter3d": [
           {
            "line": {
             "colorbar": {
              "outlinewidth": 0,
              "ticks": ""
             }
            },
            "marker": {
             "colorbar": {
              "outlinewidth": 0,
              "ticks": ""
             }
            },
            "type": "scatter3d"
           }
          ],
          "scattercarpet": [
           {
            "marker": {
             "colorbar": {
              "outlinewidth": 0,
              "ticks": ""
             }
            },
            "type": "scattercarpet"
           }
          ],
          "scattergeo": [
           {
            "marker": {
             "colorbar": {
              "outlinewidth": 0,
              "ticks": ""
             }
            },
            "type": "scattergeo"
           }
          ],
          "scattergl": [
           {
            "marker": {
             "colorbar": {
              "outlinewidth": 0,
              "ticks": ""
             }
            },
            "type": "scattergl"
           }
          ],
          "scattermap": [
           {
            "marker": {
             "colorbar": {
              "outlinewidth": 0,
              "ticks": ""
             }
            },
            "type": "scattermap"
           }
          ],
          "scattermapbox": [
           {
            "marker": {
             "colorbar": {
              "outlinewidth": 0,
              "ticks": ""
             }
            },
            "type": "scattermapbox"
           }
          ],
          "scatterpolar": [
           {
            "marker": {
             "colorbar": {
              "outlinewidth": 0,
              "ticks": ""
             }
            },
            "type": "scatterpolar"
           }
          ],
          "scatterpolargl": [
           {
            "marker": {
             "colorbar": {
              "outlinewidth": 0,
              "ticks": ""
             }
            },
            "type": "scatterpolargl"
           }
          ],
          "scatterternary": [
           {
            "marker": {
             "colorbar": {
              "outlinewidth": 0,
              "ticks": ""
             }
            },
            "type": "scatterternary"
           }
          ],
          "surface": [
           {
            "colorbar": {
             "outlinewidth": 0,
             "ticks": ""
            },
            "colorscale": [
             [
              0,
              "#0d0887"
             ],
             [
              0.1111111111111111,
              "#46039f"
             ],
             [
              0.2222222222222222,
              "#7201a8"
             ],
             [
              0.3333333333333333,
              "#9c179e"
             ],
             [
              0.4444444444444444,
              "#bd3786"
             ],
             [
              0.5555555555555556,
              "#d8576b"
             ],
             [
              0.6666666666666666,
              "#ed7953"
             ],
             [
              0.7777777777777778,
              "#fb9f3a"
             ],
             [
              0.8888888888888888,
              "#fdca26"
             ],
             [
              1,
              "#f0f921"
             ]
            ],
            "type": "surface"
           }
          ],
          "table": [
           {
            "cells": {
             "fill": {
              "color": "#EBF0F8"
             },
             "line": {
              "color": "white"
             }
            },
            "header": {
             "fill": {
              "color": "#C8D4E3"
             },
             "line": {
              "color": "white"
             }
            },
            "type": "table"
           }
          ]
         },
         "layout": {
          "annotationdefaults": {
           "arrowcolor": "#2a3f5f",
           "arrowhead": 0,
           "arrowwidth": 1
          },
          "autotypenumbers": "strict",
          "coloraxis": {
           "colorbar": {
            "outlinewidth": 0,
            "ticks": ""
           }
          },
          "colorscale": {
           "diverging": [
            [
             0,
             "#8e0152"
            ],
            [
             0.1,
             "#c51b7d"
            ],
            [
             0.2,
             "#de77ae"
            ],
            [
             0.3,
             "#f1b6da"
            ],
            [
             0.4,
             "#fde0ef"
            ],
            [
             0.5,
             "#f7f7f7"
            ],
            [
             0.6,
             "#e6f5d0"
            ],
            [
             0.7,
             "#b8e186"
            ],
            [
             0.8,
             "#7fbc41"
            ],
            [
             0.9,
             "#4d9221"
            ],
            [
             1,
             "#276419"
            ]
           ],
           "sequential": [
            [
             0,
             "#0d0887"
            ],
            [
             0.1111111111111111,
             "#46039f"
            ],
            [
             0.2222222222222222,
             "#7201a8"
            ],
            [
             0.3333333333333333,
             "#9c179e"
            ],
            [
             0.4444444444444444,
             "#bd3786"
            ],
            [
             0.5555555555555556,
             "#d8576b"
            ],
            [
             0.6666666666666666,
             "#ed7953"
            ],
            [
             0.7777777777777778,
             "#fb9f3a"
            ],
            [
             0.8888888888888888,
             "#fdca26"
            ],
            [
             1,
             "#f0f921"
            ]
           ],
           "sequentialminus": [
            [
             0,
             "#0d0887"
            ],
            [
             0.1111111111111111,
             "#46039f"
            ],
            [
             0.2222222222222222,
             "#7201a8"
            ],
            [
             0.3333333333333333,
             "#9c179e"
            ],
            [
             0.4444444444444444,
             "#bd3786"
            ],
            [
             0.5555555555555556,
             "#d8576b"
            ],
            [
             0.6666666666666666,
             "#ed7953"
            ],
            [
             0.7777777777777778,
             "#fb9f3a"
            ],
            [
             0.8888888888888888,
             "#fdca26"
            ],
            [
             1,
             "#f0f921"
            ]
           ]
          },
          "colorway": [
           "#636efa",
           "#EF553B",
           "#00cc96",
           "#ab63fa",
           "#FFA15A",
           "#19d3f3",
           "#FF6692",
           "#B6E880",
           "#FF97FF",
           "#FECB52"
          ],
          "font": {
           "color": "#2a3f5f"
          },
          "geo": {
           "bgcolor": "white",
           "lakecolor": "white",
           "landcolor": "white",
           "showlakes": true,
           "showland": true,
           "subunitcolor": "#C8D4E3"
          },
          "hoverlabel": {
           "align": "left"
          },
          "hovermode": "closest",
          "mapbox": {
           "style": "light"
          },
          "paper_bgcolor": "white",
          "plot_bgcolor": "white",
          "polar": {
           "angularaxis": {
            "gridcolor": "#EBF0F8",
            "linecolor": "#EBF0F8",
            "ticks": ""
           },
           "bgcolor": "white",
           "radialaxis": {
            "gridcolor": "#EBF0F8",
            "linecolor": "#EBF0F8",
            "ticks": ""
           }
          },
          "scene": {
           "xaxis": {
            "backgroundcolor": "white",
            "gridcolor": "#DFE8F3",
            "gridwidth": 2,
            "linecolor": "#EBF0F8",
            "showbackground": true,
            "ticks": "",
            "zerolinecolor": "#EBF0F8"
           },
           "yaxis": {
            "backgroundcolor": "white",
            "gridcolor": "#DFE8F3",
            "gridwidth": 2,
            "linecolor": "#EBF0F8",
            "showbackground": true,
            "ticks": "",
            "zerolinecolor": "#EBF0F8"
           },
           "zaxis": {
            "backgroundcolor": "white",
            "gridcolor": "#DFE8F3",
            "gridwidth": 2,
            "linecolor": "#EBF0F8",
            "showbackground": true,
            "ticks": "",
            "zerolinecolor": "#EBF0F8"
           }
          },
          "shapedefaults": {
           "line": {
            "color": "#2a3f5f"
           }
          },
          "ternary": {
           "aaxis": {
            "gridcolor": "#DFE8F3",
            "linecolor": "#A2B1C6",
            "ticks": ""
           },
           "baxis": {
            "gridcolor": "#DFE8F3",
            "linecolor": "#A2B1C6",
            "ticks": ""
           },
           "bgcolor": "white",
           "caxis": {
            "gridcolor": "#DFE8F3",
            "linecolor": "#A2B1C6",
            "ticks": ""
           }
          },
          "title": {
           "x": 0.05
          },
          "xaxis": {
           "automargin": true,
           "gridcolor": "#EBF0F8",
           "linecolor": "#EBF0F8",
           "ticks": "",
           "title": {
            "standoff": 15
           },
           "zerolinecolor": "#EBF0F8",
           "zerolinewidth": 2
          },
          "yaxis": {
           "automargin": true,
           "gridcolor": "#EBF0F8",
           "linecolor": "#EBF0F8",
           "ticks": "",
           "title": {
            "standoff": 15
           },
           "zerolinecolor": "#EBF0F8",
           "zerolinewidth": 2
          }
         }
        },
        "title": {
         "text": "Post Volume Over Time (Monthly)"
        },
        "width": 1000,
        "xaxis": {
         "anchor": "y",
         "domain": [
          0,
          1
         ],
         "title": {
          "text": "Time"
         }
        },
        "yaxis": {
         "anchor": "x",
         "domain": [
          0,
          1
         ],
         "title": {
          "text": "Posts per Month"
         }
        }
       }
      }
     },
     "metadata": {},
     "output_type": "display_data"
    }
   ],
   "source": [
    "import plotly.graph_objects as go\n",
    "\n",
    "# Ensure chronological order, then 3-month running average\n",
    "monthly_counts = monthly_counts.sort_values('month_name')\n",
    "monthly_counts['ma_3'] = monthly_counts['post_count'].rolling(3, min_periods=1).mean()\n",
    "monthly_counts['ma_6'] = monthly_counts['post_count'].rolling(6, min_periods=1).mean()\n",
    "\n",
    "# Bar chart\n",
    "fig = px.bar(\n",
    "    monthly_counts, x='month_name', y='post_count',\n",
    "    title='Post Volume Over Time (Monthly)',\n",
    "    labels={'date': 'Month', 'post_count': 'Number of Posts'},\n",
    "    color_discrete_sequence=['#D2691E']\n",
    ")\n",
    "\n",
    "# Overlay running average\n",
    "fig.add_trace(go.Scatter(\n",
    "    x=monthly_counts['month_name'], y=monthly_counts['ma_6'],\n",
    "    name='12-month avg', mode='lines',\n",
    "    line=dict(color='#8B4513', width=3)\n",
    "))\n",
    "\n",
    "fig.update_layout(\n",
    "    height=500, width=1000, bargap=0.1,\n",
    "    paper_bgcolor='rgba(0,0,0,0)', plot_bgcolor='rgba(0,0,0,0)',\n",
    "    xaxis_title='Time', yaxis_title='Posts per Month'\n",
    ")\n",
    "fig.show()"
   ]
  },
  {
   "cell_type": "markdown",
   "id": "9330284c",
   "metadata": {},
   "source": [
    "### Interpretation\n",
    "Activity begins to climb in October 2023 and then surges sharply in November 2023. This peak aligns with reactions to the October 7 attack and its aftermath, suggesting a short lag between the event and the broader social‑media response.\n",
    "\n",
    "Alsp - Using a 6‑month running average, activity has eased from the early peak but remains high. June 2025 records ~189K posts— the fourth‑highest monthly total since September 2023.\n",
    "\n",
    "https://en.wikipedia.org/wiki/October_7_attacks\n",
    "\n",
    "\n",
    "<img src=\"assets/october_7.png\" alt=\"Alt text\" width=\"800\">"
   ]
  },
  {
   "cell_type": "markdown",
   "id": "239118b2",
   "metadata": {},
   "source": []
  },
  {
   "cell_type": "markdown",
   "id": "12e07d42",
   "metadata": {},
   "source": []
  }
 ],
 "metadata": {
  "kernelspec": {
   "display_name": "Data Science Project",
   "language": "python",
   "name": "data-science-project"
  },
  "language_info": {
   "codemirror_mode": {
    "name": "ipython",
    "version": 3
   },
   "file_extension": ".py",
   "mimetype": "text/x-python",
   "name": "python",
   "nbconvert_exporter": "python",
   "pygments_lexer": "ipython3",
   "version": "3.13.7"
  }
 },
 "nbformat": 4,
 "nbformat_minor": 5
}
