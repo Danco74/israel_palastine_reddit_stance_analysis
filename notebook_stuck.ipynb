{
 "cells": [
  {
   "cell_type": "markdown",
   "id": "e642e994",
   "metadata": {},
   "source": [
    "# **Israel–Palestine: Measuring Sentiment and Stance Over Time**\n",
    "\n",
    "\n",
    "\n",
    "<p align=\"center\">\n",
    "  <img src=\"assets/Israel-Palastine.png\" alt=\"Israel–Palestine visualization\" width=\"800\">\n",
    "</p>"
   ]
  },
  {
   "cell_type": "markdown",
   "id": "6e207279",
   "metadata": {},
   "source": [
    "## **Project Overview**\n",
    "\n",
    "We measure how Reddit's stance toward Israel and Palestine evolves over time using \n",
    "a daily-updated Kaggle dataset. This notebook provides an end-to-end workflow: \n",
    "load and clean data, draw stratified samples, hand-label stance, visualize patterns, \n",
    "and prepare baseline models.\n",
    "\n",
    "**Research Goal:** Quantify stance toward each side over time and identify shifts \n",
    "aligned with major events.\n",
    "\n",
    "**Data Source:** `reddit_opinion_PSE_ISR.csv` from Kaggle  \n",
    "[Reddit on Israel–Palestine (daily updated)](https://www.kaggle.com/datasets/asaniczka/reddit-on-israel-palestine-daily-updated)\n",
    "\n",
    "**Stance Framework:** Dual-target labeling approach\n",
    "- **Israel stance:** {Pro, Anti, Neutral}\n",
    "- **Palestine stance:** {Pro, Anti, Neutral}\n",
    "\n",
    "### Why Stance Analysis?\n",
    "\n",
    "Generic sentiment analysis can miss target-specific positions. Stance captures \n",
    "position relative to each side, distinguishing criticism of one side from support \n",
    "of the other—even when overall sentiment is negative.\n",
    "\n",
    "### Research Questions\n",
    "\n",
    "- How do stance proportions shift over time (monthly trends)?\n",
    "- How do patterns differ across subreddits with distinct audiences?\n",
    "- Do major events coincide with sustained changes versus short spikes?\n",
    "\n",
    "### Notebook Structure\n",
    "\n",
    "1. **Data Loading & EDA:** Understand dataset structure, subreddit distribution, temporal patterns\n",
    "2. **Data Preparation:** Extract posts, filter communities, construct text fields\n",
    "3. **Stratified Sampling:** Generate representative sample for manual labeling\n",
    "4. **Manual Labeling:** Create gold standard dataset (~1,000 posts)\n",
    "5. **Stance Analysis:** Distributions, cross-tabs, community patterns\n",
    "6. **Baseline Modeling:** TF-IDF + Logistic Regression classifier\n",
    "7. **Temporal Analysis:** Time-series trends with event annotations\n",
    "\n",
    "### Scope and Limitations\n",
    "\n",
    "- **Language:** English posts prioritized\n",
    "- **Platform bias:** Some subreddits are highly skewed; platform averages require careful interpretation\n",
    "- **Missing communities:** r/Israel is absent from this dataset snapshot\n",
    "- **Schema evolution:** Stance definitions may be refined after initial labeling\n",
    "\n",
    "### Expected Deliverables\n",
    "\n",
    "- Reproducible analysis notebook with clear visualizations\n",
    "- Gold-labeled stance dataset for future research\n",
    "- Baseline stance classification model\n",
    "- Temporal trend analysis with event context\n",
    "\n",
    "---"
   ]
  },
  {
   "cell_type": "markdown",
   "id": "58f35cdf",
   "metadata": {},
   "source": [
    "## **Setup and Data Loading**\n",
    "\n",
    "This section handles the foundational setup for our analysis: importing required \n",
    "libraries, configuring visualization settings, and loading the Reddit dataset. \n",
    "We'll examine the data structure and understand what we're working with before \n",
    "proceeding to exploratory analysis.\n",
    "\n",
    "**What's covered:**\n",
    "- **Library imports:** Core data manipulation and visualization tools\n",
    "- **Configuration:** Standardized styling and color schemes for consistent charts\n",
    "- **Data loading:** Import the Reddit Israel-Palestine dataset from Kaggle\n",
    "- **Initial inspection:** Understand dataset structure, columns, and basic statistics"
   ]
  },
  {
   "cell_type": "code",
   "execution_count": 49,
   "id": "14ee7cd1",
   "metadata": {},
   "outputs": [
    {
     "name": "stdout",
     "output_type": "stream",
     "text": [
      "✓ Libraries loaded\n"
     ]
    }
   ],
   "source": [
    "# Core libraries and visualization setup\n",
    "from __future__ import annotations\n",
    "\n",
    "# Data & utils\n",
    "import os\n",
    "from pathlib import Path\n",
    "import pandas as pd\n",
    "import numpy as np\n",
    "\n",
    "# Visualization (Plotly only)\n",
    "import plotly.express as px\n",
    "import plotly.graph_objects as go\n",
    "import plotly.io as pio\n",
    "from plotly.subplots import make_subplots\n",
    "\n",
    "print(\"✓ Libraries loaded\")\n"
   ]
  },
  {
   "cell_type": "markdown",
   "id": "9ce7bcc7",
   "metadata": {},
   "source": [
    "### Visualization Configuration\n",
    "\n",
    "Establishing consistent styling and color schemes for all charts and visualizations \n",
    "throughout the analysis. This ensures professional presentation and makes it easier \n",
    "to interpret patterns across different sections.\n",
    "\n",
    "**Plotly Settings:** Clean white theme with standardized chart dimensions for \n",
    "consistent appearance.\n",
    "\n",
    "**Color System:**\n",
    "- **Primary palette:** Blue and grey tones for main interface elements\n",
    "- **Accent colors:** Orange, red, green, yellow for highlighting and emphasis\n",
    "- **Subreddit colors:** 10-color scheme for distinguishing different communities\n",
    "- **Temporal charts:** Warm orange bars with brown trend lines for time series\n",
    "- **Stance mapping:** Green (pro), red (anti), grey (neutral) with blue for Israel \n",
    "  and green for Palestine\n",
    "\n",
    "This standardized approach ensures all visualizations maintain visual coherence \n",
    "and data patterns remain easy to interpret throughout the notebook."
   ]
  },
  {
   "cell_type": "code",
   "execution_count": 50,
   "id": "8c2ea7f3",
   "metadata": {},
   "outputs": [
    {
     "name": "stdout",
     "output_type": "stream",
     "text": [
      "✓ Visualization system configured\n"
     ]
    }
   ],
   "source": [
    "# Plotly theme and defaults\n",
    "pio.templates.default = \"plotly_white\"\n",
    "px.defaults.template = \"plotly_white\"\n",
    "px.defaults.width = 900\n",
    "px.defaults.height = 520\n",
    "\n",
    "# Color scheme constants for consistent styling across all visualizations\n",
    "PRIMARY_BLUE = '#3498db'\n",
    "SECONDARY_BLUE = '#2980b9'\n",
    "ACCENT_ORANGE = '#e67e22'\n",
    "ACCENT_RED = '#e74c3c'\n",
    "DARK_GREY = '#34495e'\n",
    "LIGHT_GREY = '#95a5a6'\n",
    "SUCCESS_GREEN = '#27ae60'\n",
    "WARNING_YELLOW = '#f39c12'\n",
    "\n",
    "# Chart-specific color schemes\n",
    "SUBREDDIT_COLORS = ['#3498db', '#2980b9', '#1abc9c', '#16a085', '#27ae60', '#2ecc71', '#f39c12', '#e67e22', '#e74c3c', '#c0392b']\n",
    "TIME_SERIES_BAR = '#D2691E'  # Warm orange for volume bars\n",
    "TIME_SERIES_LINE = '#8B4513'  # Brown for trend lines\n",
    "\n",
    "# Stance analysis color mapping\n",
    "STANCE_COLORS = {\n",
    "    'pro': SUCCESS_GREEN,\n",
    "    'anti': ACCENT_RED, \n",
    "    'neutral': LIGHT_GREY,\n",
    "    'israel': PRIMARY_BLUE,\n",
    "    'palestine': SUCCESS_GREEN\n",
    "}\n",
    "\n",
    "print(\"✓ Visualization system configured\")"
   ]
  },
  {
   "cell_type": "markdown",
   "id": "4cd17d85",
   "metadata": {},
   "source": [
    "### Dataset files overview\n",
    "The dataset includes two CSV files. Per the dataset documentation, we treat the comments file as legacy and use the opinions/posts file as the authoritative source.\n",
    "\n",
    "- `reddit_opinion_PSE_ISR.csv` (primary)\n",
    "  - Post/opinion–level records curated for ongoing analysis and updates.\n",
    "  - Typical fields include post identifiers, text (`title`/`selftext`), `subreddit`, `score`, and `created_time`.\n",
    "  - Recommended as the main input for stance/sentiment over time.\n",
    "\n",
    "- `pse_isr_reddit_comments.csv` (legacy)\n",
    "  - Comment–level dump retained for historical/backward compatibility.\n",
    "  - Columns commonly observed: `comment_id`, `self_text`, `subreddit`, `score`, `created_time`.\n",
    "  - Optional for supplementary analyses (e.g., comment dynamics); not the primary table.\n",
    "\n",
    "Usage policy in this notebook:\n",
    "- We will load and analyze `reddit_opinion_PSE_ISR.csv` as the canonical dataset.\n",
    "- The legacy comments file may be referenced for context or robustness checks if needed.\n"
   ]
  },
  {
   "cell_type": "markdown",
   "id": "5a50f3ca",
   "metadata": {},
   "source": [
    "### Data Loading"
   ]
  },
  {
   "cell_type": "code",
   "execution_count": 51,
   "id": "a0e4d104",
   "metadata": {},
   "outputs": [
    {
     "name": "stderr",
     "output_type": "stream",
     "text": [
      "C:\\Users\\Danco\\AppData\\Local\\Temp\\ipykernel_5732\\3397147819.py:13: DtypeWarning:\n",
      "\n",
      "Columns (10) have mixed types. Specify dtype option on import or set low_memory=False.\n",
      "\n"
     ]
    }
   ],
   "source": [
    "from pathlib import Path\n",
    "import pandas as pd\n",
    "\n",
    "# Use the path KaggleHub returned earlier; fallback to re-download if missing.\n",
    "try:\n",
    "    local_path\n",
    "except NameError:\n",
    "    import kagglehub\n",
    "    local_path = kagglehub.dataset_download('asaniczka/reddit-on-israel-palestine-daily-updated')\n",
    "\n",
    "base = Path(local_path)\n",
    "opinion_csv = next(base.rglob('reddit_opinion_PSE_ISR.csv'))\n",
    "df = pd.read_csv(opinion_csv)\n"
   ]
  },
  {
   "cell_type": "code",
   "execution_count": 52,
   "id": "12c3871e",
   "metadata": {},
   "outputs": [
    {
     "data": {
      "text/html": [
       "<div>\n",
       "<style scoped>\n",
       "    .dataframe tbody tr th:only-of-type {\n",
       "        vertical-align: middle;\n",
       "    }\n",
       "\n",
       "    .dataframe tbody tr th {\n",
       "        vertical-align: top;\n",
       "    }\n",
       "\n",
       "    .dataframe thead th {\n",
       "        text-align: right;\n",
       "    }\n",
       "</style>\n",
       "<table border=\"1\" class=\"dataframe\">\n",
       "  <thead>\n",
       "    <tr style=\"text-align: right;\">\n",
       "      <th></th>\n",
       "      <th>comment_id</th>\n",
       "      <th>score</th>\n",
       "      <th>self_text</th>\n",
       "      <th>subreddit</th>\n",
       "      <th>created_time</th>\n",
       "      <th>post_id</th>\n",
       "      <th>author_name</th>\n",
       "      <th>controversiality</th>\n",
       "      <th>ups</th>\n",
       "      <th>downs</th>\n",
       "      <th>...</th>\n",
       "      <th>user_link_karma</th>\n",
       "      <th>user_comment_karma</th>\n",
       "      <th>user_total_karma</th>\n",
       "      <th>post_score</th>\n",
       "      <th>post_self_text</th>\n",
       "      <th>post_title</th>\n",
       "      <th>post_upvote_ratio</th>\n",
       "      <th>post_thumbs_ups</th>\n",
       "      <th>post_total_awards_received</th>\n",
       "      <th>post_created_time</th>\n",
       "    </tr>\n",
       "  </thead>\n",
       "  <tbody>\n",
       "    <tr>\n",
       "      <th>855414</th>\n",
       "      <td>mdl3etg</td>\n",
       "      <td>1</td>\n",
       "      <td>☕️</td>\n",
       "      <td>AbruptChaos</td>\n",
       "      <td>2025-02-19 09:00:50</td>\n",
       "      <td>1iszqqw</td>\n",
       "      <td>Western-Propaganda</td>\n",
       "      <td>0</td>\n",
       "      <td>1</td>\n",
       "      <td>0</td>\n",
       "      <td>...</td>\n",
       "      <td>354009.0</td>\n",
       "      <td>10102.0</td>\n",
       "      <td>364111.0</td>\n",
       "      <td>5283</td>\n",
       "      <td>NaN</td>\n",
       "      <td>Racoons may seem cute, but they are fucking te...</td>\n",
       "      <td>0.97</td>\n",
       "      <td>5283</td>\n",
       "      <td>0</td>\n",
       "      <td>2025-02-19 07:17:37</td>\n",
       "    </tr>\n",
       "    <tr>\n",
       "      <th>855255</th>\n",
       "      <td>mdlg82x</td>\n",
       "      <td>0</td>\n",
       "      <td>If you're gonna choose to close the window at ...</td>\n",
       "      <td>AbruptChaos</td>\n",
       "      <td>2025-02-19 11:06:53</td>\n",
       "      <td>1iszqqw</td>\n",
       "      <td>jast13</td>\n",
       "      <td>0</td>\n",
       "      <td>0</td>\n",
       "      <td>0</td>\n",
       "      <td>...</td>\n",
       "      <td>1.0</td>\n",
       "      <td>1035.0</td>\n",
       "      <td>1036.0</td>\n",
       "      <td>5283</td>\n",
       "      <td>NaN</td>\n",
       "      <td>Racoons may seem cute, but they are fucking te...</td>\n",
       "      <td>0.97</td>\n",
       "      <td>5283</td>\n",
       "      <td>0</td>\n",
       "      <td>2025-02-19 07:17:37</td>\n",
       "    </tr>\n",
       "    <tr>\n",
       "      <th>855257</th>\n",
       "      <td>mdlg1nx</td>\n",
       "      <td>10</td>\n",
       "      <td>I didn't approach it, I was previously volunte...</td>\n",
       "      <td>AbruptChaos</td>\n",
       "      <td>2025-02-19 11:05:16</td>\n",
       "      <td>1iszqqw</td>\n",
       "      <td>BricksFriend</td>\n",
       "      <td>0</td>\n",
       "      <td>10</td>\n",
       "      <td>0</td>\n",
       "      <td>...</td>\n",
       "      <td>385.0</td>\n",
       "      <td>30471.0</td>\n",
       "      <td>30856.0</td>\n",
       "      <td>5283</td>\n",
       "      <td>NaN</td>\n",
       "      <td>Racoons may seem cute, but they are fucking te...</td>\n",
       "      <td>0.97</td>\n",
       "      <td>5283</td>\n",
       "      <td>0</td>\n",
       "      <td>2025-02-19 07:17:37</td>\n",
       "    </tr>\n",
       "    <tr>\n",
       "      <th>855261</th>\n",
       "      <td>mdlfsxp</td>\n",
       "      <td>2</td>\n",
       "      <td>I just think the wrong bit is being fixated on...</td>\n",
       "      <td>AbruptChaos</td>\n",
       "      <td>2025-02-19 11:03:02</td>\n",
       "      <td>1iszqqw</td>\n",
       "      <td>Lundix</td>\n",
       "      <td>0</td>\n",
       "      <td>2</td>\n",
       "      <td>0</td>\n",
       "      <td>...</td>\n",
       "      <td>230.0</td>\n",
       "      <td>16309.0</td>\n",
       "      <td>16559.0</td>\n",
       "      <td>5283</td>\n",
       "      <td>NaN</td>\n",
       "      <td>Racoons may seem cute, but they are fucking te...</td>\n",
       "      <td>0.97</td>\n",
       "      <td>5283</td>\n",
       "      <td>0</td>\n",
       "      <td>2025-02-19 07:17:37</td>\n",
       "    </tr>\n",
       "    <tr>\n",
       "      <th>855262</th>\n",
       "      <td>mdlfqcg</td>\n",
       "      <td>117</td>\n",
       "      <td>Well, it sounds like she lives in the US. The ...</td>\n",
       "      <td>AbruptChaos</td>\n",
       "      <td>2025-02-19 11:02:21</td>\n",
       "      <td>1iszqqw</td>\n",
       "      <td>Gseventeen</td>\n",
       "      <td>0</td>\n",
       "      <td>117</td>\n",
       "      <td>0</td>\n",
       "      <td>...</td>\n",
       "      <td>1825.0</td>\n",
       "      <td>175733.0</td>\n",
       "      <td>177558.0</td>\n",
       "      <td>5283</td>\n",
       "      <td>NaN</td>\n",
       "      <td>Racoons may seem cute, but they are fucking te...</td>\n",
       "      <td>0.97</td>\n",
       "      <td>5283</td>\n",
       "      <td>0</td>\n",
       "      <td>2025-02-19 07:17:37</td>\n",
       "    </tr>\n",
       "  </tbody>\n",
       "</table>\n",
       "<p>5 rows × 24 columns</p>\n",
       "</div>"
      ],
      "text/plain": [
       "       comment_id  score                                          self_text  \\\n",
       "855414    mdl3etg      1                                                 ☕️   \n",
       "855255    mdlg82x      0  If you're gonna choose to close the window at ...   \n",
       "855257    mdlg1nx     10  I didn't approach it, I was previously volunte...   \n",
       "855261    mdlfsxp      2  I just think the wrong bit is being fixated on...   \n",
       "855262    mdlfqcg    117  Well, it sounds like she lives in the US. The ...   \n",
       "\n",
       "          subreddit         created_time  post_id         author_name  \\\n",
       "855414  AbruptChaos  2025-02-19 09:00:50  1iszqqw  Western-Propaganda   \n",
       "855255  AbruptChaos  2025-02-19 11:06:53  1iszqqw              jast13   \n",
       "855257  AbruptChaos  2025-02-19 11:05:16  1iszqqw        BricksFriend   \n",
       "855261  AbruptChaos  2025-02-19 11:03:02  1iszqqw              Lundix   \n",
       "855262  AbruptChaos  2025-02-19 11:02:21  1iszqqw          Gseventeen   \n",
       "\n",
       "        controversiality  ups  downs  ... user_link_karma user_comment_karma  \\\n",
       "855414                 0    1      0  ...        354009.0            10102.0   \n",
       "855255                 0    0      0  ...             1.0             1035.0   \n",
       "855257                 0   10      0  ...           385.0            30471.0   \n",
       "855261                 0    2      0  ...           230.0            16309.0   \n",
       "855262                 0  117      0  ...          1825.0           175733.0   \n",
       "\n",
       "        user_total_karma  post_score  post_self_text  \\\n",
       "855414          364111.0        5283             NaN   \n",
       "855255            1036.0        5283             NaN   \n",
       "855257           30856.0        5283             NaN   \n",
       "855261           16559.0        5283             NaN   \n",
       "855262          177558.0        5283             NaN   \n",
       "\n",
       "                                               post_title  post_upvote_ratio  \\\n",
       "855414  Racoons may seem cute, but they are fucking te...               0.97   \n",
       "855255  Racoons may seem cute, but they are fucking te...               0.97   \n",
       "855257  Racoons may seem cute, but they are fucking te...               0.97   \n",
       "855261  Racoons may seem cute, but they are fucking te...               0.97   \n",
       "855262  Racoons may seem cute, but they are fucking te...               0.97   \n",
       "\n",
       "        post_thumbs_ups post_total_awards_received    post_created_time  \n",
       "855414             5283                          0  2025-02-19 07:17:37  \n",
       "855255             5283                          0  2025-02-19 07:17:37  \n",
       "855257             5283                          0  2025-02-19 07:17:37  \n",
       "855261             5283                          0  2025-02-19 07:17:37  \n",
       "855262             5283                          0  2025-02-19 07:17:37  \n",
       "\n",
       "[5 rows x 24 columns]"
      ]
     },
     "execution_count": 52,
     "metadata": {},
     "output_type": "execute_result"
    }
   ],
   "source": [
    "df.sort_values('subreddit').head(5)"
   ]
  },
  {
   "cell_type": "markdown",
   "id": "6d347dff",
   "metadata": {},
   "source": [
    "----------------\n",
    "## **Initial EDA (Raw Data)**\n",
    "\n",
    "Before any preprocessing or cleaning, we’ll take a first‑pass look at the dataset to understand its structure, coverage, and basic quality. The aim is to spot obvious issues early and build intuition about the content we’re analyzing.\n",
    "\n",
    "- **Data quality checks**\n",
    "  - Missing values by column (highlighting high‑NA fields)\n",
    "  - Duplicate integrity, with a focus on `comment_id`\n",
    "  - Sanity checks for timestamps (range, gaps) and numeric outliers (e.g., `score`)\n",
    "\n",
    "- **Column familiarity**\n",
    "  - Quick scan of available fields and basic types\n",
    "  - Identify key fields we’ll rely on (e.g., `comment_id`, `post_id`, `subreddit`, `created_time`, `score`)\n",
    "\n",
    "- **Community composition**\n",
    "  - Distribution of posts/comments by `subreddit`\n",
    "  - Identify the largest subreddits and the long tail\n",
    "  - Estimate comments‑to‑post ratios overall and by subreddit to understand discussion intensity\n",
    "\n",
    "- **Time coverage**\n",
    "  - Report dataset timespan (min/max `created_time`)\n",
    "  - High‑level monthly volume to understand activity patterns and major surges\n"
   ]
  },
  {
   "cell_type": "code",
   "execution_count": 53,
   "id": "d834a99c",
   "metadata": {},
   "outputs": [
    {
     "name": "stdout",
     "output_type": "stream",
     "text": [
      "Using file: C:\\Users\\Danco\\.cache\\kagglehub\\datasets\\asaniczka\\reddit-on-israel-palestine-daily-updated\\versions\\679\\reddit_opinion_PSE_ISR.csv\n",
      "Shape: (3276061, 24)\n",
      "Columns: ['comment_id', 'score', 'self_text', 'subreddit', 'created_time', 'post_id', 'author_name', 'controversiality', 'ups', 'downs', 'user_is_verified', 'user_account_created_time', 'user_awardee_karma', 'user_awarder_karma', 'user_link_karma', 'user_comment_karma', 'user_total_karma', 'post_score', 'post_self_text', 'post_title', 'post_upvote_ratio', 'post_thumbs_ups', 'post_total_awards_received', 'post_created_time']\n"
     ]
    }
   ],
   "source": [
    "print('Using file:', opinion_csv)\n",
    "print('Shape:', df.shape)\n",
    "print('Columns:', df.columns.tolist())"
   ]
  },
  {
   "cell_type": "markdown",
   "id": "e5e45b90",
   "metadata": {},
   "source": [
    "### Column dictionary\n",
    "The table below describes the main fields present in `reddit_opinion_PSE_ISR.csv`.\n",
    "\n",
    "| Column | Meaning |\n",
    "|---|---|\n",
    "| `comment_id` | ID of the specific Reddit comment associated with the row (if applicable). |\n",
    "| `score` | Net upvotes (upvotes − downvotes) for the comment. |\n",
    "| `self_text` | Comment body text. May be empty/NaN. |\n",
    "| `subreddit` | Name of the subreddit where the content appeared. |\n",
    "| `created_time` | Comment timestamp (UTC). May be NaN if only post time is available. |\n",
    "| `post_id` | ID of the parent Reddit post (submission). |\n",
    "| `author_name` | Username of the commenting user. May be `[deleted]`/`[removed]`. |\n",
    "| `controversiality` | Reddit flag for how controversial a comment is (0/1). |\n",
    "| `ups` | Upvote count reported for the comment (may mirror `score`). |\n",
    "| `downs` | Downvote count reported for the comment (often 0 due to API limitations). |\n",
    "| `user_is_verified` | Whether the user account is verified (boolean/flag). |\n",
    "| `user_account_created_time` | Account creation time (UTC) of the author. |\n",
    "| `user_awardee_karma` | Karma from receiving awards. |\n",
    "| `user_awarder_karma` | Karma from giving awards. |\n",
    "| `user_link_karma` | Link (post) karma of the author. |\n",
    "| `user_comment_karma` | Comment karma of the author. |\n",
    "| `user_total_karma` | Total karma of the author. |\n",
    "| `post_score` | Net upvotes for the post (submission). |\n",
    "| `post_self_text` | Post body text (submission text). May be empty/NaN if it’s a link post. |\n",
    "| `post_title` | Post title. |\n",
    "| `post_upvote_ratio` | Fraction of upvotes out of total votes for the post (0–1). |\n",
    "| `post_thumbs_ups` | Upvote/like count for the post as captured by the scraper (if available). |\n",
    "| `post_total_awards_received` | Number of awards the post received. |\n",
    "| `post_created_time` | Post (submission) timestamp (UTC). |\n",
    "\n",
    "\n"
   ]
  },
  {
   "cell_type": "markdown",
   "id": "3fce8bf9",
   "metadata": {},
   "source": [
    "### Understanding the data structure\n",
    "\n",
    "**Data format:** The dataset contains comment-level records where each row represents \n",
    "a Reddit comment, but includes the parent post's metadata in every row. This means \n",
    "multiple comments on the same post will have identical post-level information.\n",
    "\n",
    "**What we see:** We have 3,271,507 rows across 24 columns. Each row contains both \n",
    "comment-specific data (`self_text`, `score`, `created_time`) and post-level data \n",
    "(`post_title`, `post_self_text`, `post_score`, `post_created_time`).\n",
    "\n",
    "**What we need for stance analysis:** Original posts rather than individual comments. \n",
    "Posts contain the primary content and framing that we want to analyze for stance, \n",
    "while comments are often brief reactions or replies that lack sufficient context.\n",
    "\n",
    "**Our approach:** Extract unique posts by deduplicating on `post_id`. This will give \n",
    "us one record per original submission with all the post-level metadata we need.\n",
    "\n",
    "**Key fields we'll use:**\n",
    "- `post_title` + `post_self_text`: The actual content to analyze\n",
    "- `post_score`: Community voting (upvotes - downvotes)  \n",
    "- `post_upvote_ratio`: Polarization indicator (0-1 scale)\n",
    "- `post_created_time`: Temporal analysis\n",
    "- `subreddit`: Community context"
   ]
  },
  {
   "cell_type": "markdown",
   "id": "41e34c2d",
   "metadata": {},
   "source": [
    "### Reusable dataframe stats\n",
    "A simple helper to quickly inspect shape, dtypes, missing values, and memory usage. We’ll reuse it after preprocessing steps.\n"
   ]
  },
  {
   "cell_type": "code",
   "execution_count": 54,
   "id": "66f4506c",
   "metadata": {},
   "outputs": [],
   "source": [
    "def show_dataframe_summary(df, name='DataFrame'):\n",
    "    \"\"\"\n",
    "    Display a concise, informative summary of DataFrame key metrics.\n",
    "    \n",
    "    Args:\n",
    "        df: pandas DataFrame to analyze\n",
    "        name: Display name for the DataFrame\n",
    "    \"\"\"\n",
    "    print(f\"📊 {name} Summary\")\n",
    "    print(\"=\" * 50)\n",
    "    \n",
    "    # Basic info\n",
    "    rows, cols = df.shape\n",
    "    mem_mb = df.memory_usage(deep=True).sum() / 1_048_576\n",
    "    print(f\"Shape: {rows:,} rows × {cols} columns | Memory: {mem_mb:.1f} MB\")\n",
    "    \n",
    "    # Data types\n",
    "    dtype_counts = df.dtypes.value_counts()\n",
    "    dtype_summary = \" | \".join([f\"{count} {dtype}\" for dtype, count in dtype_counts.items()])\n",
    "    print(f\"Types: {dtype_summary}\")\n",
    "    \n",
    "    # Missing data\n",
    "    missing = df.isnull().sum()\n",
    "    missing_cols = missing[missing > 0]\n",
    "    if len(missing_cols) > 0:\n",
    "        worst_missing = missing_cols.iloc[0]\n",
    "        pct_missing = (worst_missing / len(df)) * 100\n",
    "        print(f\"Missing: {len(missing_cols)} columns have nulls (worst: {worst_missing:,} = {pct_missing:.1f}%)\")\n",
    "    else:\n",
    "        print(\"Missing: None\")\n",
    "    \n",
    "    # Duplicates - check comment_id if available\n",
    "    if 'comment_id' in df.columns:\n",
    "        dup_ids = df['comment_id'].duplicated().sum()\n",
    "        unique_ids = df['comment_id'].nunique()\n",
    "        print(f\"Duplicates: {dup_ids:,} duplicate comment_ids | {unique_ids:,} unique IDs\")\n",
    "    else:\n",
    "        dup_rows = df.duplicated().sum()\n",
    "        print(f\"Duplicates: {dup_rows:,} duplicate rows\")\n",
    "    \n",
    "    print()"
   ]
  },
  {
   "cell_type": "code",
   "execution_count": 55,
   "id": "0714a235",
   "metadata": {},
   "outputs": [
    {
     "name": "stdout",
     "output_type": "stream",
     "text": [
      "📊 Reddit Posts Dataset Summary\n",
      "==================================================\n",
      "Shape: 3,276,061 rows × 24 columns | Memory: 8805.7 MB\n",
      "Types: 11 object | 7 int64 | 6 float64\n",
      "Missing: 9 columns have nulls (worst: 16 = 0.0%)\n",
      "Duplicates: 0 duplicate comment_ids | 3,276,061 unique IDs\n",
      "\n"
     ]
    }
   ],
   "source": [
    "# Usage\n",
    "show_dataframe_summary(df, 'Reddit Posts Dataset')"
   ]
  },
  {
   "cell_type": "markdown",
   "id": "5de62edf",
   "metadata": {},
   "source": [
    "The raw dataset is very large (3,271,507 rows across 24 columns) with a heavy memory \n",
    "footprint (~8.7 GB), combining a diverse schema of 10 object, 7 int64, 6 float64, and \n",
    "1 boolean fields. \n",
    "\n",
    "Data quality looks strong at first pass: only 8 columns contain any missing values and \n",
    "the worst case is just 16 nulls (~0.0%), while `comment_id` integrity is excellent with \n",
    "zero duplicates and a one-to-one match between unique IDs and total rows. \n",
    "\n",
    "Overall, this suggests a clean, well-structured base for EDA, though analyses will need \n",
    "to be mindful of memory constraints.\n",
    "\n"
   ]
  },
  {
   "cell_type": "markdown",
   "id": "2f5cf9fa",
   "metadata": {},
   "source": [
    "### **Subreddit Distribution Analysis**\n",
    "\n",
    "The chart below provides a dual view of subreddit activity to understand community \n",
    "concentration and participation patterns across the platform.\n",
    "\n",
    "**Left panel (Data Table):** Shows the top 10 subreddits by comment volume with exact \n",
    "counts and percentages. This gives us precise numbers to identify which communities \n",
    "dominate the conversation and by what margin.\n",
    "\n",
    "**Right panel (Distribution Pie):** Visualizes the same data as proportional slices, \n",
    "making it easy to spot concentration patterns at a glance. The color coding helps \n",
    "distinguish between communities and assess whether discussion is heavily skewed toward \n",
    "a few large subreddits or more evenly distributed.\n",
    "\n",
    "**What we're looking for:**\n",
    "- **Concentration risk:** Are 2-3 subreddits carrying most of the volume?\n",
    "- **Community diversity:** How many subreddits contribute meaningfully to the dataset?\n",
    "- **Platform bias:** Do the largest communities lean toward specific stances that might \n",
    "  skew aggregate analysis?\n",
    "\n",
    "**Expected pattern:** We anticipate seeing high concentration in dedicated communities \n",
    "like `r/IsraelPalestine`, `r/Palestine`, and major news subreddits like `r/worldnews`, \n",
    "with a steep drop-off to smaller communities. This distribution will inform our \n",
    "sampling strategy and help us understand potential biases in platform-wide trends."
   ]
  },
  {
   "cell_type": "code",
   "execution_count": 56,
   "id": "68d557f0",
   "metadata": {},
   "outputs": [
    {
     "data": {
      "application/vnd.plotly.v1+json": {
       "config": {
        "plotlyServerURL": "https://plot.ly"
       },
       "data": [
        {
         "cells": {
          "align": "center",
          "fill": {
           "color": "white"
          },
          "font": {
           "size": 12
          },
          "height": 35,
          "line": {
           "color": "#95a5a6"
          },
          "values": [
           [
            "IsraelPalestine",
            "worldnews",
            "Palestine",
            "PublicFreakout",
            "AskMiddleEast",
            "CombatFootage",
            "worldnewsvideo",
            "NonCredibleDefense",
            "CrazyFuckingVideos",
            "IsrealPalestineWar_23"
           ],
           [
            1209729,
            797781,
            357348,
            242441,
            214686,
            151506,
            94558,
            90826,
            42788,
            23161
           ],
           [
            "37.5%",
            "24.7%",
            "11.1%",
            "7.5%",
            "6.7%",
            "4.7%",
            "2.9%",
            "2.8%",
            "1.3%",
            "0.7%"
           ]
          ]
         },
         "domain": {
          "x": [
           0,
           0.45
          ],
          "y": [
           0,
           1
          ]
         },
         "header": {
          "align": "center",
          "fill": {
           "color": "#3498db"
          },
          "font": {
           "color": "white",
           "size": 14
          },
          "values": [
           "Subreddit",
           "Count",
           "PCT (%)"
          ]
         },
         "type": "table"
        },
        {
         "domain": {
          "x": [
           0.55,
           1
          ],
          "y": [
           0,
           1
          ]
         },
         "hovertemplate": "<b>%{label}</b><br>Count: %{value}<br>Percentage: %{percent}<extra></extra>",
         "labels": [
          "IsraelPalestine",
          "worldnews",
          "Palestine",
          "PublicFreakout",
          "AskMiddleEast",
          "CombatFootage",
          "worldnewsvideo",
          "NonCredibleDefense",
          "CrazyFuckingVideos",
          "IsrealPalestineWar_23"
         ],
         "marker": {
          "colors": [
           "#3498db",
           "#2980b9",
           "#1abc9c",
           "#16a085",
           "#27ae60",
           "#2ecc71",
           "#f39c12",
           "#e67e22",
           "#e74c3c",
           "#c0392b"
          ],
          "line": {
           "color": "white",
           "width": 2
          }
         },
         "textfont": {
          "size": 11
         },
         "textinfo": "label+percent",
         "type": "pie",
         "values": {
          "bdata": "gXUSAFUsDADkcwUACbMDAJ5GAwDSTwIAXnEBAMpiAQAkpwAAeVoAAA==",
          "dtype": "i4"
         }
        }
       ],
       "layout": {
        "annotations": [
         {
          "font": {
           "size": 16
          },
          "showarrow": false,
          "text": "Data Table",
          "x": 0.225,
          "xanchor": "center",
          "xref": "paper",
          "y": 1,
          "yanchor": "bottom",
          "yref": "paper"
         },
         {
          "font": {
           "size": 16
          },
          "showarrow": false,
          "text": "Distribution",
          "x": 0.775,
          "xanchor": "center",
          "xref": "paper",
          "y": 1,
          "yanchor": "bottom",
          "yref": "paper"
         }
        ],
        "height": 600,
        "margin": {
         "b": 50,
         "l": 50,
         "r": 50,
         "t": 100
        },
        "paper_bgcolor": "white",
        "plot_bgcolor": "white",
        "template": {
         "data": {
          "bar": [
           {
            "error_x": {
             "color": "#2a3f5f"
            },
            "error_y": {
             "color": "#2a3f5f"
            },
            "marker": {
             "line": {
              "color": "white",
              "width": 0.5
             },
             "pattern": {
              "fillmode": "overlay",
              "size": 10,
              "solidity": 0.2
             }
            },
            "type": "bar"
           }
          ],
          "barpolar": [
           {
            "marker": {
             "line": {
              "color": "white",
              "width": 0.5
             },
             "pattern": {
              "fillmode": "overlay",
              "size": 10,
              "solidity": 0.2
             }
            },
            "type": "barpolar"
           }
          ],
          "carpet": [
           {
            "aaxis": {
             "endlinecolor": "#2a3f5f",
             "gridcolor": "#C8D4E3",
             "linecolor": "#C8D4E3",
             "minorgridcolor": "#C8D4E3",
             "startlinecolor": "#2a3f5f"
            },
            "baxis": {
             "endlinecolor": "#2a3f5f",
             "gridcolor": "#C8D4E3",
             "linecolor": "#C8D4E3",
             "minorgridcolor": "#C8D4E3",
             "startlinecolor": "#2a3f5f"
            },
            "type": "carpet"
           }
          ],
          "choropleth": [
           {
            "colorbar": {
             "outlinewidth": 0,
             "ticks": ""
            },
            "type": "choropleth"
           }
          ],
          "contour": [
           {
            "colorbar": {
             "outlinewidth": 0,
             "ticks": ""
            },
            "colorscale": [
             [
              0,
              "#0d0887"
             ],
             [
              0.1111111111111111,
              "#46039f"
             ],
             [
              0.2222222222222222,
              "#7201a8"
             ],
             [
              0.3333333333333333,
              "#9c179e"
             ],
             [
              0.4444444444444444,
              "#bd3786"
             ],
             [
              0.5555555555555556,
              "#d8576b"
             ],
             [
              0.6666666666666666,
              "#ed7953"
             ],
             [
              0.7777777777777778,
              "#fb9f3a"
             ],
             [
              0.8888888888888888,
              "#fdca26"
             ],
             [
              1,
              "#f0f921"
             ]
            ],
            "type": "contour"
           }
          ],
          "contourcarpet": [
           {
            "colorbar": {
             "outlinewidth": 0,
             "ticks": ""
            },
            "type": "contourcarpet"
           }
          ],
          "heatmap": [
           {
            "colorbar": {
             "outlinewidth": 0,
             "ticks": ""
            },
            "colorscale": [
             [
              0,
              "#0d0887"
             ],
             [
              0.1111111111111111,
              "#46039f"
             ],
             [
              0.2222222222222222,
              "#7201a8"
             ],
             [
              0.3333333333333333,
              "#9c179e"
             ],
             [
              0.4444444444444444,
              "#bd3786"
             ],
             [
              0.5555555555555556,
              "#d8576b"
             ],
             [
              0.6666666666666666,
              "#ed7953"
             ],
             [
              0.7777777777777778,
              "#fb9f3a"
             ],
             [
              0.8888888888888888,
              "#fdca26"
             ],
             [
              1,
              "#f0f921"
             ]
            ],
            "type": "heatmap"
           }
          ],
          "histogram": [
           {
            "marker": {
             "pattern": {
              "fillmode": "overlay",
              "size": 10,
              "solidity": 0.2
             }
            },
            "type": "histogram"
           }
          ],
          "histogram2d": [
           {
            "colorbar": {
             "outlinewidth": 0,
             "ticks": ""
            },
            "colorscale": [
             [
              0,
              "#0d0887"
             ],
             [
              0.1111111111111111,
              "#46039f"
             ],
             [
              0.2222222222222222,
              "#7201a8"
             ],
             [
              0.3333333333333333,
              "#9c179e"
             ],
             [
              0.4444444444444444,
              "#bd3786"
             ],
             [
              0.5555555555555556,
              "#d8576b"
             ],
             [
              0.6666666666666666,
              "#ed7953"
             ],
             [
              0.7777777777777778,
              "#fb9f3a"
             ],
             [
              0.8888888888888888,
              "#fdca26"
             ],
             [
              1,
              "#f0f921"
             ]
            ],
            "type": "histogram2d"
           }
          ],
          "histogram2dcontour": [
           {
            "colorbar": {
             "outlinewidth": 0,
             "ticks": ""
            },
            "colorscale": [
             [
              0,
              "#0d0887"
             ],
             [
              0.1111111111111111,
              "#46039f"
             ],
             [
              0.2222222222222222,
              "#7201a8"
             ],
             [
              0.3333333333333333,
              "#9c179e"
             ],
             [
              0.4444444444444444,
              "#bd3786"
             ],
             [
              0.5555555555555556,
              "#d8576b"
             ],
             [
              0.6666666666666666,
              "#ed7953"
             ],
             [
              0.7777777777777778,
              "#fb9f3a"
             ],
             [
              0.8888888888888888,
              "#fdca26"
             ],
             [
              1,
              "#f0f921"
             ]
            ],
            "type": "histogram2dcontour"
           }
          ],
          "mesh3d": [
           {
            "colorbar": {
             "outlinewidth": 0,
             "ticks": ""
            },
            "type": "mesh3d"
           }
          ],
          "parcoords": [
           {
            "line": {
             "colorbar": {
              "outlinewidth": 0,
              "ticks": ""
             }
            },
            "type": "parcoords"
           }
          ],
          "pie": [
           {
            "automargin": true,
            "type": "pie"
           }
          ],
          "scatter": [
           {
            "fillpattern": {
             "fillmode": "overlay",
             "size": 10,
             "solidity": 0.2
            },
            "type": "scatter"
           }
          ],
          "scatter3d": [
           {
            "line": {
             "colorbar": {
              "outlinewidth": 0,
              "ticks": ""
             }
            },
            "marker": {
             "colorbar": {
              "outlinewidth": 0,
              "ticks": ""
             }
            },
            "type": "scatter3d"
           }
          ],
          "scattercarpet": [
           {
            "marker": {
             "colorbar": {
              "outlinewidth": 0,
              "ticks": ""
             }
            },
            "type": "scattercarpet"
           }
          ],
          "scattergeo": [
           {
            "marker": {
             "colorbar": {
              "outlinewidth": 0,
              "ticks": ""
             }
            },
            "type": "scattergeo"
           }
          ],
          "scattergl": [
           {
            "marker": {
             "colorbar": {
              "outlinewidth": 0,
              "ticks": ""
             }
            },
            "type": "scattergl"
           }
          ],
          "scattermap": [
           {
            "marker": {
             "colorbar": {
              "outlinewidth": 0,
              "ticks": ""
             }
            },
            "type": "scattermap"
           }
          ],
          "scattermapbox": [
           {
            "marker": {
             "colorbar": {
              "outlinewidth": 0,
              "ticks": ""
             }
            },
            "type": "scattermapbox"
           }
          ],
          "scatterpolar": [
           {
            "marker": {
             "colorbar": {
              "outlinewidth": 0,
              "ticks": ""
             }
            },
            "type": "scatterpolar"
           }
          ],
          "scatterpolargl": [
           {
            "marker": {
             "colorbar": {
              "outlinewidth": 0,
              "ticks": ""
             }
            },
            "type": "scatterpolargl"
           }
          ],
          "scatterternary": [
           {
            "marker": {
             "colorbar": {
              "outlinewidth": 0,
              "ticks": ""
             }
            },
            "type": "scatterternary"
           }
          ],
          "surface": [
           {
            "colorbar": {
             "outlinewidth": 0,
             "ticks": ""
            },
            "colorscale": [
             [
              0,
              "#0d0887"
             ],
             [
              0.1111111111111111,
              "#46039f"
             ],
             [
              0.2222222222222222,
              "#7201a8"
             ],
             [
              0.3333333333333333,
              "#9c179e"
             ],
             [
              0.4444444444444444,
              "#bd3786"
             ],
             [
              0.5555555555555556,
              "#d8576b"
             ],
             [
              0.6666666666666666,
              "#ed7953"
             ],
             [
              0.7777777777777778,
              "#fb9f3a"
             ],
             [
              0.8888888888888888,
              "#fdca26"
             ],
             [
              1,
              "#f0f921"
             ]
            ],
            "type": "surface"
           }
          ],
          "table": [
           {
            "cells": {
             "fill": {
              "color": "#EBF0F8"
             },
             "line": {
              "color": "white"
             }
            },
            "header": {
             "fill": {
              "color": "#C8D4E3"
             },
             "line": {
              "color": "white"
             }
            },
            "type": "table"
           }
          ]
         },
         "layout": {
          "annotationdefaults": {
           "arrowcolor": "#2a3f5f",
           "arrowhead": 0,
           "arrowwidth": 1
          },
          "autotypenumbers": "strict",
          "coloraxis": {
           "colorbar": {
            "outlinewidth": 0,
            "ticks": ""
           }
          },
          "colorscale": {
           "diverging": [
            [
             0,
             "#8e0152"
            ],
            [
             0.1,
             "#c51b7d"
            ],
            [
             0.2,
             "#de77ae"
            ],
            [
             0.3,
             "#f1b6da"
            ],
            [
             0.4,
             "#fde0ef"
            ],
            [
             0.5,
             "#f7f7f7"
            ],
            [
             0.6,
             "#e6f5d0"
            ],
            [
             0.7,
             "#b8e186"
            ],
            [
             0.8,
             "#7fbc41"
            ],
            [
             0.9,
             "#4d9221"
            ],
            [
             1,
             "#276419"
            ]
           ],
           "sequential": [
            [
             0,
             "#0d0887"
            ],
            [
             0.1111111111111111,
             "#46039f"
            ],
            [
             0.2222222222222222,
             "#7201a8"
            ],
            [
             0.3333333333333333,
             "#9c179e"
            ],
            [
             0.4444444444444444,
             "#bd3786"
            ],
            [
             0.5555555555555556,
             "#d8576b"
            ],
            [
             0.6666666666666666,
             "#ed7953"
            ],
            [
             0.7777777777777778,
             "#fb9f3a"
            ],
            [
             0.8888888888888888,
             "#fdca26"
            ],
            [
             1,
             "#f0f921"
            ]
           ],
           "sequentialminus": [
            [
             0,
             "#0d0887"
            ],
            [
             0.1111111111111111,
             "#46039f"
            ],
            [
             0.2222222222222222,
             "#7201a8"
            ],
            [
             0.3333333333333333,
             "#9c179e"
            ],
            [
             0.4444444444444444,
             "#bd3786"
            ],
            [
             0.5555555555555556,
             "#d8576b"
            ],
            [
             0.6666666666666666,
             "#ed7953"
            ],
            [
             0.7777777777777778,
             "#fb9f3a"
            ],
            [
             0.8888888888888888,
             "#fdca26"
            ],
            [
             1,
             "#f0f921"
            ]
           ]
          },
          "colorway": [
           "#636efa",
           "#EF553B",
           "#00cc96",
           "#ab63fa",
           "#FFA15A",
           "#19d3f3",
           "#FF6692",
           "#B6E880",
           "#FF97FF",
           "#FECB52"
          ],
          "font": {
           "color": "#2a3f5f"
          },
          "geo": {
           "bgcolor": "white",
           "lakecolor": "white",
           "landcolor": "white",
           "showlakes": true,
           "showland": true,
           "subunitcolor": "#C8D4E3"
          },
          "hoverlabel": {
           "align": "left"
          },
          "hovermode": "closest",
          "mapbox": {
           "style": "light"
          },
          "paper_bgcolor": "white",
          "plot_bgcolor": "white",
          "polar": {
           "angularaxis": {
            "gridcolor": "#EBF0F8",
            "linecolor": "#EBF0F8",
            "ticks": ""
           },
           "bgcolor": "white",
           "radialaxis": {
            "gridcolor": "#EBF0F8",
            "linecolor": "#EBF0F8",
            "ticks": ""
           }
          },
          "scene": {
           "xaxis": {
            "backgroundcolor": "white",
            "gridcolor": "#DFE8F3",
            "gridwidth": 2,
            "linecolor": "#EBF0F8",
            "showbackground": true,
            "ticks": "",
            "zerolinecolor": "#EBF0F8"
           },
           "yaxis": {
            "backgroundcolor": "white",
            "gridcolor": "#DFE8F3",
            "gridwidth": 2,
            "linecolor": "#EBF0F8",
            "showbackground": true,
            "ticks": "",
            "zerolinecolor": "#EBF0F8"
           },
           "zaxis": {
            "backgroundcolor": "white",
            "gridcolor": "#DFE8F3",
            "gridwidth": 2,
            "linecolor": "#EBF0F8",
            "showbackground": true,
            "ticks": "",
            "zerolinecolor": "#EBF0F8"
           }
          },
          "shapedefaults": {
           "line": {
            "color": "#2a3f5f"
           }
          },
          "ternary": {
           "aaxis": {
            "gridcolor": "#DFE8F3",
            "linecolor": "#A2B1C6",
            "ticks": ""
           },
           "baxis": {
            "gridcolor": "#DFE8F3",
            "linecolor": "#A2B1C6",
            "ticks": ""
           },
           "bgcolor": "white",
           "caxis": {
            "gridcolor": "#DFE8F3",
            "linecolor": "#A2B1C6",
            "ticks": ""
           }
          },
          "title": {
           "x": 0.05
          },
          "xaxis": {
           "automargin": true,
           "gridcolor": "#EBF0F8",
           "linecolor": "#EBF0F8",
           "ticks": "",
           "title": {
            "standoff": 15
           },
           "zerolinecolor": "#EBF0F8",
           "zerolinewidth": 2
          },
          "yaxis": {
           "automargin": true,
           "gridcolor": "#EBF0F8",
           "linecolor": "#EBF0F8",
           "ticks": "",
           "title": {
            "standoff": 15
           },
           "zerolinecolor": "#EBF0F8",
           "zerolinewidth": 2
          }
         }
        },
        "title": {
         "font": {
          "color": "#34495e",
          "size": 20
         },
         "text": "<b>Subreddit Distribution (All Rows)</b>",
         "x": 0.5,
         "xanchor": "center"
        },
        "width": 1400
       }
      }
     },
     "metadata": {},
     "output_type": "display_data"
    }
   ],
   "source": [
    "from plotly.subplots import make_subplots\n",
    "import plotly.graph_objects as go\n",
    "import plotly.express as px\n",
    "\n",
    "subreddit_comments = df['subreddit'].value_counts().head(10)\n",
    "\n",
    "# Create subplot layout\n",
    "fig = make_subplots(\n",
    "    rows=1, cols=2,\n",
    "    specs=[[{\"type\": \"table\"}, {\"type\": \"pie\"}]],\n",
    "    subplot_titles=[\"Data Table\", \"Distribution\"],\n",
    "    horizontal_spacing=0.1\n",
    ")\n",
    "\n",
    "# Prepare table data\n",
    "table_data = subreddit_comments.reset_index()\n",
    "table_data.columns = ['Subreddit', 'Count']\n",
    "\n",
    "# Calculate percentages for table\n",
    "percentages = (subreddit_comments / subreddit_comments.sum() * 100).round(1)\n",
    "\n",
    "# Add enhanced table\n",
    "fig.add_trace(go.Table(\n",
    "    header=dict(\n",
    "        values=['Subreddit', 'Count', 'PCT (%)'], \n",
    "        fill_color=PRIMARY_BLUE,\n",
    "        font=dict(size=14, color='white'),\n",
    "        align='center'\n",
    "    ),\n",
    "    cells=dict(\n",
    "        values=[\n",
    "            table_data['Subreddit'], \n",
    "            table_data['Count'],\n",
    "            [f\"{p}%\" for p in percentages]\n",
    "        ], \n",
    "        fill_color='white',\n",
    "        font=dict(size=12),\n",
    "        align='center',\n",
    "        height=35,\n",
    "        line_color=LIGHT_GREY\n",
    "    )\n",
    "), row=1, col=1)\n",
    "\n",
    "# Use standard color palette for pie\n",
    "colors = SUBREDDIT_COLORS[:len(subreddit_comments)]\n",
    "\n",
    "# Add enhanced pie chart\n",
    "fig.add_trace(go.Pie(\n",
    "    labels=subreddit_comments.index,\n",
    "    values=subreddit_comments.values,\n",
    "    textinfo='label+percent',\n",
    "    textfont_size=11,\n",
    "    marker=dict(\n",
    "        colors=colors,\n",
    "        line=dict(color='white', width=2)\n",
    "    ),\n",
    "    hovertemplate='<b>%{label}</b><br>Count: %{value}<br>Percentage: %{percent}<extra></extra>'\n",
    "), row=1, col=2)\n",
    "\n",
    "# Enhanced layout\n",
    "fig.update_layout(\n",
    "    height=600, \n",
    "    width=1400,\n",
    "    title=dict(\n",
    "        text='<b>Subreddit Distribution (All Rows)</b>',\n",
    "        x=0.5, \n",
    "        xanchor='center',\n",
    "        font=dict(size=20, color=DARK_GREY)\n",
    "    ),\n",
    "    paper_bgcolor='white',\n",
    "    plot_bgcolor='white',\n",
    "    margin=dict(l=50, r=50, t=100, b=50)\n",
    ")\n",
    "\n",
    "fig.show()"
   ]
  },
  {
   "cell_type": "markdown",
   "id": "a940c9c7",
   "metadata": {},
   "source": [
    "#### Subreddit Distribution Analysis - Key Findings\n",
    "\n",
    "The results reveal a highly concentrated discussion landscape with clear community \n",
    "hierarchies and potential bias implications for our analysis.\n",
    "\n",
    "**Extreme concentration:** Just three subreddits account for nearly three-quarters \n",
    "of all activity. `r/IsraelPalestine` dominates with 37.5% (1.2M comments), followed \n",
    "by `r/worldnews` at 24.7% (796K) and `r/Palestine` at 11.1% (357K). This 73% \n",
    "concentration in the top three communities suggests that aggregate platform trends \n",
    "will be heavily influenced by these specific audiences.\n",
    "\n",
    "**Steep drop-off pattern:** After the top three, participation falls sharply. \n",
    "`r/PublicFreakout` (7.5%) and `r/AskMiddleEast` (6.7%) represent the next tier, \n",
    "but even combined they don't match `r/Palestine` alone. The remaining five \n",
    "subreddits each contribute less than 5%, indicating a classic power-law \n",
    "distribution.\n",
    "\n",
    "**Community type diversity:** The mix includes dedicated political discussion \n",
    "(`r/IsraelPalestine`), mainstream news (`r/worldnews`), advocacy-oriented \n",
    "(`r/Palestine`), viral content (`r/PublicFreakout`), regional discussion \n",
    "(`r/AskMiddleEast`), and conflict documentation (`r/CombatFootage`). This variety \n",
    "suggests different discussion styles and potential stance biases across \n",
    "communities.\n",
    "\n",
    "**Implications for stance analysis:** The heavy weighting toward `r/IsraelPalestine` \n",
    "and `r/Palestine` means our dataset may not represent broader Reddit sentiment but \n",
    "rather the views of users specifically engaged with this conflict. We'll need \n",
    "subreddit-stratified sampling and per-community analysis to avoid conflating \n",
    "platform-wide trends with the dynamics of these dominant communities.\n",
    "\n"
   ]
  },
  {
   "cell_type": "markdown",
   "id": "785f6029",
   "metadata": {},
   "source": [
    "### **Comments vs Posts Analysis**\n",
    "\n",
    "The table below breaks down the relationship between original posts and comment \n",
    "activity across our top subreddits. This provides additional insight into \n",
    "community engagement patterns and discussion dynamics.\n",
    "\n",
    "**What we're measuring:**\n",
    "- **Comments:** Total comment volume per subreddit (from our earlier analysis)\n",
    "- **Posts:** Unique original submissions (deduplicated by `post_id`)\n",
    "- **Comments/Post ratio:** Average discussion intensity per submission\n",
    "\n",
    "**Why it's interesting:** The comments-to-posts ratio reveals different community \n",
    "behaviors. Higher ratios suggest communities where posts generate sustained \n",
    "back-and-forth discussion, while lower ratios might indicate more news-sharing \n",
    "or brief reaction patterns.\n",
    "\n",
    "**What we might see:** Some subreddits post frequently with lighter discussion \n",
    "per thread, while others have fewer posts but generate deeper conversation \n",
    "threads. It's simply interesting to observe where the most engaged discussions \n",
    "tend to happen, even though it's not central to our stance analysis goals."
   ]
  },
  {
   "cell_type": "code",
   "execution_count": 57,
   "id": "0c6f0827",
   "metadata": {},
   "outputs": [
    {
     "data": {
      "application/vnd.plotly.v1+json": {
       "config": {
        "plotlyServerURL": "https://plot.ly"
       },
       "data": [
        {
         "cells": {
          "align": "center",
          "fill": {
           "color": "white"
          },
          "font": {
           "size": 12
          },
          "height": 30,
          "values": [
           [
            "Palestine",
            "worldnews",
            "IsraelPalestine",
            "AskMiddleEast",
            "worldnewsvideo",
            "CombatFootage",
            "PublicFreakout",
            "NonCredibleDefense",
            "IsrealPalestineWar_23",
            "CrazyFuckingVideos"
           ],
           [
            357348,
            797781,
            1209729,
            214686,
            94558,
            151506,
            242441,
            90826,
            23161,
            42788
           ],
           [
            17437,
            12354,
            9366,
            8606,
            5205,
            2310,
            2040,
            1406,
            1300,
            509
           ],
           [
            20.5,
            64.6,
            129.2,
            24.9,
            18.2,
            65.6,
            118.8,
            64.6,
            17.8,
            84.1
           ]
          ]
         },
         "domain": {
          "x": [
           0,
           0.475
          ],
          "y": [
           0,
           1
          ]
         },
         "header": {
          "align": "center",
          "fill": {
           "color": "lightblue"
          },
          "font": {
           "size": 14
          },
          "values": [
           "Subreddit",
           "Comments",
           "Posts",
           "Comments/Post"
          ]
         },
         "type": "table"
        },
        {
         "cells": {
          "align": "center",
          "fill": {
           "color": "white"
          },
          "font": {
           "size": 12
          },
          "height": 30,
          "values": [
           [
            "IsraelPalestine",
            "PublicFreakout",
            "CrazyFuckingVideos",
            "CombatFootage",
            "worldnews",
            "NonCredibleDefense",
            "AskMiddleEast",
            "Palestine",
            "worldnewsvideo",
            "IsrealPalestineWar_23"
           ],
           [
            1209729,
            242441,
            42788,
            151506,
            797781,
            90826,
            214686,
            357348,
            94558,
            23161
           ],
           [
            9366,
            2040,
            509,
            2310,
            12354,
            1406,
            8606,
            17437,
            5205,
            1300
           ],
           [
            129.2,
            118.8,
            84.1,
            65.6,
            64.6,
            64.6,
            24.9,
            20.5,
            18.2,
            17.8
           ]
          ]
         },
         "domain": {
          "x": [
           0.525,
           1
          ],
          "y": [
           0,
           1
          ]
         },
         "header": {
          "align": "center",
          "fill": {
           "color": "lightgreen"
          },
          "font": {
           "size": 14
          },
          "values": [
           "Subreddit",
           "Comments",
           "Posts",
           "Comments/Post"
          ]
         },
         "type": "table"
        }
       ],
       "layout": {
        "annotations": [
         {
          "font": {
           "size": 16
          },
          "showarrow": false,
          "text": "Sorted by Posts",
          "x": 0.2375,
          "xanchor": "center",
          "xref": "paper",
          "y": 1,
          "yanchor": "bottom",
          "yref": "paper"
         },
         {
          "font": {
           "size": 16
          },
          "showarrow": false,
          "text": "Sorted by Engagement Ratio",
          "x": 0.7625,
          "xanchor": "center",
          "xref": "paper",
          "y": 1,
          "yanchor": "bottom",
          "yref": "paper"
         }
        ],
        "height": 700,
        "template": {
         "data": {
          "bar": [
           {
            "error_x": {
             "color": "#2a3f5f"
            },
            "error_y": {
             "color": "#2a3f5f"
            },
            "marker": {
             "line": {
              "color": "white",
              "width": 0.5
             },
             "pattern": {
              "fillmode": "overlay",
              "size": 10,
              "solidity": 0.2
             }
            },
            "type": "bar"
           }
          ],
          "barpolar": [
           {
            "marker": {
             "line": {
              "color": "white",
              "width": 0.5
             },
             "pattern": {
              "fillmode": "overlay",
              "size": 10,
              "solidity": 0.2
             }
            },
            "type": "barpolar"
           }
          ],
          "carpet": [
           {
            "aaxis": {
             "endlinecolor": "#2a3f5f",
             "gridcolor": "#C8D4E3",
             "linecolor": "#C8D4E3",
             "minorgridcolor": "#C8D4E3",
             "startlinecolor": "#2a3f5f"
            },
            "baxis": {
             "endlinecolor": "#2a3f5f",
             "gridcolor": "#C8D4E3",
             "linecolor": "#C8D4E3",
             "minorgridcolor": "#C8D4E3",
             "startlinecolor": "#2a3f5f"
            },
            "type": "carpet"
           }
          ],
          "choropleth": [
           {
            "colorbar": {
             "outlinewidth": 0,
             "ticks": ""
            },
            "type": "choropleth"
           }
          ],
          "contour": [
           {
            "colorbar": {
             "outlinewidth": 0,
             "ticks": ""
            },
            "colorscale": [
             [
              0,
              "#0d0887"
             ],
             [
              0.1111111111111111,
              "#46039f"
             ],
             [
              0.2222222222222222,
              "#7201a8"
             ],
             [
              0.3333333333333333,
              "#9c179e"
             ],
             [
              0.4444444444444444,
              "#bd3786"
             ],
             [
              0.5555555555555556,
              "#d8576b"
             ],
             [
              0.6666666666666666,
              "#ed7953"
             ],
             [
              0.7777777777777778,
              "#fb9f3a"
             ],
             [
              0.8888888888888888,
              "#fdca26"
             ],
             [
              1,
              "#f0f921"
             ]
            ],
            "type": "contour"
           }
          ],
          "contourcarpet": [
           {
            "colorbar": {
             "outlinewidth": 0,
             "ticks": ""
            },
            "type": "contourcarpet"
           }
          ],
          "heatmap": [
           {
            "colorbar": {
             "outlinewidth": 0,
             "ticks": ""
            },
            "colorscale": [
             [
              0,
              "#0d0887"
             ],
             [
              0.1111111111111111,
              "#46039f"
             ],
             [
              0.2222222222222222,
              "#7201a8"
             ],
             [
              0.3333333333333333,
              "#9c179e"
             ],
             [
              0.4444444444444444,
              "#bd3786"
             ],
             [
              0.5555555555555556,
              "#d8576b"
             ],
             [
              0.6666666666666666,
              "#ed7953"
             ],
             [
              0.7777777777777778,
              "#fb9f3a"
             ],
             [
              0.8888888888888888,
              "#fdca26"
             ],
             [
              1,
              "#f0f921"
             ]
            ],
            "type": "heatmap"
           }
          ],
          "histogram": [
           {
            "marker": {
             "pattern": {
              "fillmode": "overlay",
              "size": 10,
              "solidity": 0.2
             }
            },
            "type": "histogram"
           }
          ],
          "histogram2d": [
           {
            "colorbar": {
             "outlinewidth": 0,
             "ticks": ""
            },
            "colorscale": [
             [
              0,
              "#0d0887"
             ],
             [
              0.1111111111111111,
              "#46039f"
             ],
             [
              0.2222222222222222,
              "#7201a8"
             ],
             [
              0.3333333333333333,
              "#9c179e"
             ],
             [
              0.4444444444444444,
              "#bd3786"
             ],
             [
              0.5555555555555556,
              "#d8576b"
             ],
             [
              0.6666666666666666,
              "#ed7953"
             ],
             [
              0.7777777777777778,
              "#fb9f3a"
             ],
             [
              0.8888888888888888,
              "#fdca26"
             ],
             [
              1,
              "#f0f921"
             ]
            ],
            "type": "histogram2d"
           }
          ],
          "histogram2dcontour": [
           {
            "colorbar": {
             "outlinewidth": 0,
             "ticks": ""
            },
            "colorscale": [
             [
              0,
              "#0d0887"
             ],
             [
              0.1111111111111111,
              "#46039f"
             ],
             [
              0.2222222222222222,
              "#7201a8"
             ],
             [
              0.3333333333333333,
              "#9c179e"
             ],
             [
              0.4444444444444444,
              "#bd3786"
             ],
             [
              0.5555555555555556,
              "#d8576b"
             ],
             [
              0.6666666666666666,
              "#ed7953"
             ],
             [
              0.7777777777777778,
              "#fb9f3a"
             ],
             [
              0.8888888888888888,
              "#fdca26"
             ],
             [
              1,
              "#f0f921"
             ]
            ],
            "type": "histogram2dcontour"
           }
          ],
          "mesh3d": [
           {
            "colorbar": {
             "outlinewidth": 0,
             "ticks": ""
            },
            "type": "mesh3d"
           }
          ],
          "parcoords": [
           {
            "line": {
             "colorbar": {
              "outlinewidth": 0,
              "ticks": ""
             }
            },
            "type": "parcoords"
           }
          ],
          "pie": [
           {
            "automargin": true,
            "type": "pie"
           }
          ],
          "scatter": [
           {
            "fillpattern": {
             "fillmode": "overlay",
             "size": 10,
             "solidity": 0.2
            },
            "type": "scatter"
           }
          ],
          "scatter3d": [
           {
            "line": {
             "colorbar": {
              "outlinewidth": 0,
              "ticks": ""
             }
            },
            "marker": {
             "colorbar": {
              "outlinewidth": 0,
              "ticks": ""
             }
            },
            "type": "scatter3d"
           }
          ],
          "scattercarpet": [
           {
            "marker": {
             "colorbar": {
              "outlinewidth": 0,
              "ticks": ""
             }
            },
            "type": "scattercarpet"
           }
          ],
          "scattergeo": [
           {
            "marker": {
             "colorbar": {
              "outlinewidth": 0,
              "ticks": ""
             }
            },
            "type": "scattergeo"
           }
          ],
          "scattergl": [
           {
            "marker": {
             "colorbar": {
              "outlinewidth": 0,
              "ticks": ""
             }
            },
            "type": "scattergl"
           }
          ],
          "scattermap": [
           {
            "marker": {
             "colorbar": {
              "outlinewidth": 0,
              "ticks": ""
             }
            },
            "type": "scattermap"
           }
          ],
          "scattermapbox": [
           {
            "marker": {
             "colorbar": {
              "outlinewidth": 0,
              "ticks": ""
             }
            },
            "type": "scattermapbox"
           }
          ],
          "scatterpolar": [
           {
            "marker": {
             "colorbar": {
              "outlinewidth": 0,
              "ticks": ""
             }
            },
            "type": "scatterpolar"
           }
          ],
          "scatterpolargl": [
           {
            "marker": {
             "colorbar": {
              "outlinewidth": 0,
              "ticks": ""
             }
            },
            "type": "scatterpolargl"
           }
          ],
          "scatterternary": [
           {
            "marker": {
             "colorbar": {
              "outlinewidth": 0,
              "ticks": ""
             }
            },
            "type": "scatterternary"
           }
          ],
          "surface": [
           {
            "colorbar": {
             "outlinewidth": 0,
             "ticks": ""
            },
            "colorscale": [
             [
              0,
              "#0d0887"
             ],
             [
              0.1111111111111111,
              "#46039f"
             ],
             [
              0.2222222222222222,
              "#7201a8"
             ],
             [
              0.3333333333333333,
              "#9c179e"
             ],
             [
              0.4444444444444444,
              "#bd3786"
             ],
             [
              0.5555555555555556,
              "#d8576b"
             ],
             [
              0.6666666666666666,
              "#ed7953"
             ],
             [
              0.7777777777777778,
              "#fb9f3a"
             ],
             [
              0.8888888888888888,
              "#fdca26"
             ],
             [
              1,
              "#f0f921"
             ]
            ],
            "type": "surface"
           }
          ],
          "table": [
           {
            "cells": {
             "fill": {
              "color": "#EBF0F8"
             },
             "line": {
              "color": "white"
             }
            },
            "header": {
             "fill": {
              "color": "#C8D4E3"
             },
             "line": {
              "color": "white"
             }
            },
            "type": "table"
           }
          ]
         },
         "layout": {
          "annotationdefaults": {
           "arrowcolor": "#2a3f5f",
           "arrowhead": 0,
           "arrowwidth": 1
          },
          "autotypenumbers": "strict",
          "coloraxis": {
           "colorbar": {
            "outlinewidth": 0,
            "ticks": ""
           }
          },
          "colorscale": {
           "diverging": [
            [
             0,
             "#8e0152"
            ],
            [
             0.1,
             "#c51b7d"
            ],
            [
             0.2,
             "#de77ae"
            ],
            [
             0.3,
             "#f1b6da"
            ],
            [
             0.4,
             "#fde0ef"
            ],
            [
             0.5,
             "#f7f7f7"
            ],
            [
             0.6,
             "#e6f5d0"
            ],
            [
             0.7,
             "#b8e186"
            ],
            [
             0.8,
             "#7fbc41"
            ],
            [
             0.9,
             "#4d9221"
            ],
            [
             1,
             "#276419"
            ]
           ],
           "sequential": [
            [
             0,
             "#0d0887"
            ],
            [
             0.1111111111111111,
             "#46039f"
            ],
            [
             0.2222222222222222,
             "#7201a8"
            ],
            [
             0.3333333333333333,
             "#9c179e"
            ],
            [
             0.4444444444444444,
             "#bd3786"
            ],
            [
             0.5555555555555556,
             "#d8576b"
            ],
            [
             0.6666666666666666,
             "#ed7953"
            ],
            [
             0.7777777777777778,
             "#fb9f3a"
            ],
            [
             0.8888888888888888,
             "#fdca26"
            ],
            [
             1,
             "#f0f921"
            ]
           ],
           "sequentialminus": [
            [
             0,
             "#0d0887"
            ],
            [
             0.1111111111111111,
             "#46039f"
            ],
            [
             0.2222222222222222,
             "#7201a8"
            ],
            [
             0.3333333333333333,
             "#9c179e"
            ],
            [
             0.4444444444444444,
             "#bd3786"
            ],
            [
             0.5555555555555556,
             "#d8576b"
            ],
            [
             0.6666666666666666,
             "#ed7953"
            ],
            [
             0.7777777777777778,
             "#fb9f3a"
            ],
            [
             0.8888888888888888,
             "#fdca26"
            ],
            [
             1,
             "#f0f921"
            ]
           ]
          },
          "colorway": [
           "#636efa",
           "#EF553B",
           "#00cc96",
           "#ab63fa",
           "#FFA15A",
           "#19d3f3",
           "#FF6692",
           "#B6E880",
           "#FF97FF",
           "#FECB52"
          ],
          "font": {
           "color": "#2a3f5f"
          },
          "geo": {
           "bgcolor": "white",
           "lakecolor": "white",
           "landcolor": "white",
           "showlakes": true,
           "showland": true,
           "subunitcolor": "#C8D4E3"
          },
          "hoverlabel": {
           "align": "left"
          },
          "hovermode": "closest",
          "mapbox": {
           "style": "light"
          },
          "paper_bgcolor": "white",
          "plot_bgcolor": "white",
          "polar": {
           "angularaxis": {
            "gridcolor": "#EBF0F8",
            "linecolor": "#EBF0F8",
            "ticks": ""
           },
           "bgcolor": "white",
           "radialaxis": {
            "gridcolor": "#EBF0F8",
            "linecolor": "#EBF0F8",
            "ticks": ""
           }
          },
          "scene": {
           "xaxis": {
            "backgroundcolor": "white",
            "gridcolor": "#DFE8F3",
            "gridwidth": 2,
            "linecolor": "#EBF0F8",
            "showbackground": true,
            "ticks": "",
            "zerolinecolor": "#EBF0F8"
           },
           "yaxis": {
            "backgroundcolor": "white",
            "gridcolor": "#DFE8F3",
            "gridwidth": 2,
            "linecolor": "#EBF0F8",
            "showbackground": true,
            "ticks": "",
            "zerolinecolor": "#EBF0F8"
           },
           "zaxis": {
            "backgroundcolor": "white",
            "gridcolor": "#DFE8F3",
            "gridwidth": 2,
            "linecolor": "#EBF0F8",
            "showbackground": true,
            "ticks": "",
            "zerolinecolor": "#EBF0F8"
           }
          },
          "shapedefaults": {
           "line": {
            "color": "#2a3f5f"
           }
          },
          "ternary": {
           "aaxis": {
            "gridcolor": "#DFE8F3",
            "linecolor": "#A2B1C6",
            "ticks": ""
           },
           "baxis": {
            "gridcolor": "#DFE8F3",
            "linecolor": "#A2B1C6",
            "ticks": ""
           },
           "bgcolor": "white",
           "caxis": {
            "gridcolor": "#DFE8F3",
            "linecolor": "#A2B1C6",
            "ticks": ""
           }
          },
          "title": {
           "x": 0.05
          },
          "xaxis": {
           "automargin": true,
           "gridcolor": "#EBF0F8",
           "linecolor": "#EBF0F8",
           "ticks": "",
           "title": {
            "standoff": 15
           },
           "zerolinecolor": "#EBF0F8",
           "zerolinewidth": 2
          },
          "yaxis": {
           "automargin": true,
           "gridcolor": "#EBF0F8",
           "linecolor": "#EBF0F8",
           "ticks": "",
           "title": {
            "standoff": 15
           },
           "zerolinecolor": "#EBF0F8",
           "zerolinewidth": 2
          }
         }
        },
        "title": {
         "text": "Comments vs Posts Analysis: Volume vs Engagement",
         "x": 0.5,
         "xanchor": "center"
        },
        "width": 1400
       }
      }
     },
     "metadata": {},
     "output_type": "display_data"
    }
   ],
   "source": [
    "# Extract unique posts and calculate post counts by subreddit\n",
    "posts_only = df.drop_duplicates(subset=['post_id'])\n",
    "subreddit_posts = posts_only['subreddit'].value_counts().head(10)\n",
    "\n",
    "# Get comment counts for the same top subreddits (for fair comparison)\n",
    "top_subreddits = subreddit_posts.index\n",
    "subreddit_comments_top = df[df['subreddit'].isin(top_subreddits)]['subreddit'].value_counts()\n",
    "\n",
    "# Calculate engagement ratio: comments per post\n",
    "comments_per_post = (subreddit_comments_top / subreddit_posts).round(1)\n",
    "\n",
    "# Two different sorting orders\n",
    "sorted_by_posts = subreddit_posts.sort_values(ascending=False).index\n",
    "sorted_by_ratio = comments_per_post.sort_values(ascending=False).index\n",
    "\n",
    "# Create side-by-side tables\n",
    "fig = make_subplots(\n",
    "    rows=1, cols=2,\n",
    "    specs=[[{\"type\": \"table\"}, {\"type\": \"table\"}]],\n",
    "    subplot_titles=[\"Sorted by Posts\", \"Sorted by Engagement Ratio\"],\n",
    "    horizontal_spacing=0.05\n",
    ")\n",
    "\n",
    "# Left table: sorted by posts\n",
    "fig.add_trace(go.Table(\n",
    "    header=dict(\n",
    "        values=['Subreddit', 'Comments', 'Posts', 'Comments/Post'],\n",
    "        fill_color='lightblue',\n",
    "        font=dict(size=14),\n",
    "        align='center'\n",
    "    ),\n",
    "    cells=dict(\n",
    "        values=[\n",
    "            sorted_by_posts,\n",
    "            [subreddit_comments_top.get(sub, 0) for sub in sorted_by_posts],\n",
    "            [subreddit_posts.get(sub, 0) for sub in sorted_by_posts],\n",
    "            [comments_per_post.get(sub, 0) for sub in sorted_by_posts]\n",
    "        ],\n",
    "        fill_color='white',\n",
    "        font=dict(size=12),\n",
    "        align='center',\n",
    "        height=30\n",
    "    )\n",
    "), row=1, col=1)\n",
    "\n",
    "# Right table: sorted by ratio\n",
    "fig.add_trace(go.Table(\n",
    "    header=dict(\n",
    "        values=['Subreddit', 'Comments', 'Posts', 'Comments/Post'],\n",
    "        fill_color='lightgreen',\n",
    "        font=dict(size=14),\n",
    "        align='center'\n",
    "    ),\n",
    "    cells=dict(\n",
    "        values=[\n",
    "            sorted_by_ratio,\n",
    "            [subreddit_comments_top.get(sub, 0) for sub in sorted_by_ratio],\n",
    "            [subreddit_posts.get(sub, 0) for sub in sorted_by_ratio],\n",
    "            [comments_per_post.get(sub, 0) for sub in sorted_by_ratio]\n",
    "        ],\n",
    "        fill_color='white',\n",
    "        font=dict(size=12),\n",
    "        align='center',\n",
    "        height=30\n",
    "    )\n",
    "), row=1, col=2)\n",
    "\n",
    "fig.update_layout(\n",
    "    title=dict(text='Comments vs Posts Analysis: Volume vs Engagement', x=0.5, xanchor='center'),\n",
    "    height=700,\n",
    "    width=1400\n",
    ")\n",
    "fig.show()"
   ]
  },
  {
   "cell_type": "markdown",
   "id": "3dbe3f74",
   "metadata": {},
   "source": [
    "#### Comments vs Posts - Key Findings\n",
    "\n",
    "The side-by-side comparison reveals interesting patterns in community behavior \n",
    "and content types that will inform our data cleaning decisions.\n",
    "\n",
    "**High engagement communities:** `r/IsraelPalestine` leads with 129.2 comments \n",
    "per post, followed by `r/PublicFreakout` (118.8), `r/CrazyFuckingVideos` (84), \n",
    "and `r/CombatFootage` (65.7). These ratios suggest active discussion threads \n",
    "with substantial back-and-forth engagement.\n",
    "\n",
    "**Volume vs engagement trade-off:** Interestingly, `r/Palestine` ranks first \n",
    "in post volume (17,412 posts) but has a relatively modest engagement ratio \n",
    "(20.5 comments/post), suggesting frequent posting with lighter discussion. \n",
    "Conversely, `r/IsraelPalestine` balances high volume (9,349 posts) with deep \n",
    "engagement (129.2 ratio).\n",
    "\n",
    "**Content quality concerns:** While `r/PublicFreakout`, `r/CrazyFuckingVideos`, \n",
    "and `r/CombatFootage` show strong engagement metrics, their high ratios likely \n",
    "reflect viral video content rather than substantive political discourse. These \n",
    "communities tend to share dramatic footage that generates reactions and arguments, \n",
    "but may lack the nuanced stance-taking we need for our analysis.\n",
    "\n",
    "**Cleaning implications:** The engagement data suggests we should consider \n",
    "removing or down-weighting viral video subreddits during preprocessing. Their \n",
    "high comment ratios are misleading for stance analysis—they generate heat but \n",
    "not necessarily the political position-taking that's central to our research \n",
    "questions. `r/IsraelPalestine`, `r/worldnews`, `r/Palestine`, and `r/AskMiddleEast` \n",
    "appear more suitable for capturing genuine political discourse."
   ]
  },
  {
   "cell_type": "markdown",
   "id": "54ed7af6",
   "metadata": {},
   "source": [
    "\n",
    "### **Engagement Patterns**\n",
    "\n",
    "The analysis below examines engagement patterns to understand not just who \n",
    "writes, but who votes. Many Reddit users never comment but express their \n",
    "stance through upvotes and downvotes—this \"silent majority\" represents a \n",
    "crucial dimension of public opinion that pure comment analysis would miss.\n",
    "\n",
    "**Why engagement metrics matter:** A post with 50 comments might seem moderately \n",
    "important, but if it has 5,000 upvotes and 2,000 downvotes, it's clearly \n",
    "resonating with thousands of silent users who feel strongly enough to vote \n",
    "but don't engage in written discussion.\n",
    "\n",
    "**What we're measuring:**\n",
    "- **Post scores:** Net community sentiment (upvotes minus downvotes)\n",
    "- **Upvote ratios:** How divisive content is (lower = more polarizing)\n",
    "- **Ups/downs patterns:** Raw voting behavior showing silent user engagement\n",
    "- **Controversiality rates:** Where the silent majority is most divided\n",
    "\n",
    "**The silent majority insight:** Comments show us what the vocal minority \n",
    "discusses, but votes show us what the broader community actually feels. \n",
    "Understanding voting patterns helps us capture stance signals from users who \n",
    "read, react, and judge content without ever writing a word.\n",
    "\n",
    "**Expected patterns:** We anticipate seeing communities where voting volume \n",
    "far exceeds comment volume, revealing large silent audiences with clear \n",
    "stance preferences that traditional text analysis would completely miss."
   ]
  },
  {
   "cell_type": "code",
   "execution_count": 58,
   "id": "a6862fad",
   "metadata": {},
   "outputs": [
    {
     "name": "stdout",
     "output_type": "stream",
     "text": [
      "Analyzing engagement patterns by subreddit...\n"
     ]
    },
    {
     "name": "stderr",
     "output_type": "stream",
     "text": [
      "C:\\Users\\Danco\\AppData\\Local\\Temp\\ipykernel_5732\\1260083687.py:9: SettingWithCopyWarning:\n",
      "\n",
      "\n",
      "A value is trying to be set on a copy of a slice from a DataFrame.\n",
      "Try using .loc[row_indexer,col_indexer] = value instead\n",
      "\n",
      "See the caveats in the documentation: https://pandas.pydata.org/pandas-docs/stable/user_guide/indexing.html#returning-a-view-versus-a-copy\n",
      "\n"
     ]
    },
    {
     "data": {
      "application/vnd.plotly.v1+json": {
       "config": {
        "plotlyServerURL": "https://plot.ly"
       },
       "data": [
        {
         "cells": {
          "align": "center",
          "fill": {
           "color": "white"
          },
          "font": {
           "size": 12
          },
          "height": 35,
          "values": [
           [
            "AskMiddleEast",
            "CombatFootage",
            "IsraelPalestine",
            "NonCredibleDefense",
            "Palestine",
            "PublicFreakout",
            "worldnews",
            "worldnewsvideo"
           ],
           [
            1650186,
            4467244,
            2464922,
            3605612,
            7194317,
            14036927,
            40873556,
            1172014
           ],
           [
            7.7,
            29.5,
            2,
            39.7,
            20.1,
            57.9,
            51.2,
            12.4
           ],
           [
            175,
            2351,
            53.5,
            2532.6,
            1493.9,
            4826.3,
            4086.6,
            914.4
           ],
           [
            0.8,
            0.9,
            0.6,
            1,
            1,
            0.9,
            0.9,
            0.9
           ],
           [
            0.1,
            0.1,
            0.1,
            0,
            0,
            0.1,
            0.1,
            0
           ],
           [
            8606,
            2310,
            9366,
            1406,
            17437,
            2040,
            12354,
            5205
           ]
          ]
         },
         "header": {
          "align": "center",
          "fill": {
           "color": "#3498db"
          },
          "font": {
           "color": "white",
           "size": 14
          },
          "values": [
           "Subreddit",
           "Total Votes",
           "Avg Votes/Post",
           "Avg Score",
           "Upvote Ratio",
           "Controversy Rate",
           "Unique Posts"
          ]
         },
         "type": "table"
        }
       ],
       "layout": {
        "height": 450,
        "margin": {
         "b": 50,
         "l": 50,
         "r": 50,
         "t": 80
        },
        "template": {
         "data": {
          "bar": [
           {
            "error_x": {
             "color": "#2a3f5f"
            },
            "error_y": {
             "color": "#2a3f5f"
            },
            "marker": {
             "line": {
              "color": "white",
              "width": 0.5
             },
             "pattern": {
              "fillmode": "overlay",
              "size": 10,
              "solidity": 0.2
             }
            },
            "type": "bar"
           }
          ],
          "barpolar": [
           {
            "marker": {
             "line": {
              "color": "white",
              "width": 0.5
             },
             "pattern": {
              "fillmode": "overlay",
              "size": 10,
              "solidity": 0.2
             }
            },
            "type": "barpolar"
           }
          ],
          "carpet": [
           {
            "aaxis": {
             "endlinecolor": "#2a3f5f",
             "gridcolor": "#C8D4E3",
             "linecolor": "#C8D4E3",
             "minorgridcolor": "#C8D4E3",
             "startlinecolor": "#2a3f5f"
            },
            "baxis": {
             "endlinecolor": "#2a3f5f",
             "gridcolor": "#C8D4E3",
             "linecolor": "#C8D4E3",
             "minorgridcolor": "#C8D4E3",
             "startlinecolor": "#2a3f5f"
            },
            "type": "carpet"
           }
          ],
          "choropleth": [
           {
            "colorbar": {
             "outlinewidth": 0,
             "ticks": ""
            },
            "type": "choropleth"
           }
          ],
          "contour": [
           {
            "colorbar": {
             "outlinewidth": 0,
             "ticks": ""
            },
            "colorscale": [
             [
              0,
              "#0d0887"
             ],
             [
              0.1111111111111111,
              "#46039f"
             ],
             [
              0.2222222222222222,
              "#7201a8"
             ],
             [
              0.3333333333333333,
              "#9c179e"
             ],
             [
              0.4444444444444444,
              "#bd3786"
             ],
             [
              0.5555555555555556,
              "#d8576b"
             ],
             [
              0.6666666666666666,
              "#ed7953"
             ],
             [
              0.7777777777777778,
              "#fb9f3a"
             ],
             [
              0.8888888888888888,
              "#fdca26"
             ],
             [
              1,
              "#f0f921"
             ]
            ],
            "type": "contour"
           }
          ],
          "contourcarpet": [
           {
            "colorbar": {
             "outlinewidth": 0,
             "ticks": ""
            },
            "type": "contourcarpet"
           }
          ],
          "heatmap": [
           {
            "colorbar": {
             "outlinewidth": 0,
             "ticks": ""
            },
            "colorscale": [
             [
              0,
              "#0d0887"
             ],
             [
              0.1111111111111111,
              "#46039f"
             ],
             [
              0.2222222222222222,
              "#7201a8"
             ],
             [
              0.3333333333333333,
              "#9c179e"
             ],
             [
              0.4444444444444444,
              "#bd3786"
             ],
             [
              0.5555555555555556,
              "#d8576b"
             ],
             [
              0.6666666666666666,
              "#ed7953"
             ],
             [
              0.7777777777777778,
              "#fb9f3a"
             ],
             [
              0.8888888888888888,
              "#fdca26"
             ],
             [
              1,
              "#f0f921"
             ]
            ],
            "type": "heatmap"
           }
          ],
          "histogram": [
           {
            "marker": {
             "pattern": {
              "fillmode": "overlay",
              "size": 10,
              "solidity": 0.2
             }
            },
            "type": "histogram"
           }
          ],
          "histogram2d": [
           {
            "colorbar": {
             "outlinewidth": 0,
             "ticks": ""
            },
            "colorscale": [
             [
              0,
              "#0d0887"
             ],
             [
              0.1111111111111111,
              "#46039f"
             ],
             [
              0.2222222222222222,
              "#7201a8"
             ],
             [
              0.3333333333333333,
              "#9c179e"
             ],
             [
              0.4444444444444444,
              "#bd3786"
             ],
             [
              0.5555555555555556,
              "#d8576b"
             ],
             [
              0.6666666666666666,
              "#ed7953"
             ],
             [
              0.7777777777777778,
              "#fb9f3a"
             ],
             [
              0.8888888888888888,
              "#fdca26"
             ],
             [
              1,
              "#f0f921"
             ]
            ],
            "type": "histogram2d"
           }
          ],
          "histogram2dcontour": [
           {
            "colorbar": {
             "outlinewidth": 0,
             "ticks": ""
            },
            "colorscale": [
             [
              0,
              "#0d0887"
             ],
             [
              0.1111111111111111,
              "#46039f"
             ],
             [
              0.2222222222222222,
              "#7201a8"
             ],
             [
              0.3333333333333333,
              "#9c179e"
             ],
             [
              0.4444444444444444,
              "#bd3786"
             ],
             [
              0.5555555555555556,
              "#d8576b"
             ],
             [
              0.6666666666666666,
              "#ed7953"
             ],
             [
              0.7777777777777778,
              "#fb9f3a"
             ],
             [
              0.8888888888888888,
              "#fdca26"
             ],
             [
              1,
              "#f0f921"
             ]
            ],
            "type": "histogram2dcontour"
           }
          ],
          "mesh3d": [
           {
            "colorbar": {
             "outlinewidth": 0,
             "ticks": ""
            },
            "type": "mesh3d"
           }
          ],
          "parcoords": [
           {
            "line": {
             "colorbar": {
              "outlinewidth": 0,
              "ticks": ""
             }
            },
            "type": "parcoords"
           }
          ],
          "pie": [
           {
            "automargin": true,
            "type": "pie"
           }
          ],
          "scatter": [
           {
            "fillpattern": {
             "fillmode": "overlay",
             "size": 10,
             "solidity": 0.2
            },
            "type": "scatter"
           }
          ],
          "scatter3d": [
           {
            "line": {
             "colorbar": {
              "outlinewidth": 0,
              "ticks": ""
             }
            },
            "marker": {
             "colorbar": {
              "outlinewidth": 0,
              "ticks": ""
             }
            },
            "type": "scatter3d"
           }
          ],
          "scattercarpet": [
           {
            "marker": {
             "colorbar": {
              "outlinewidth": 0,
              "ticks": ""
             }
            },
            "type": "scattercarpet"
           }
          ],
          "scattergeo": [
           {
            "marker": {
             "colorbar": {
              "outlinewidth": 0,
              "ticks": ""
             }
            },
            "type": "scattergeo"
           }
          ],
          "scattergl": [
           {
            "marker": {
             "colorbar": {
              "outlinewidth": 0,
              "ticks": ""
             }
            },
            "type": "scattergl"
           }
          ],
          "scattermap": [
           {
            "marker": {
             "colorbar": {
              "outlinewidth": 0,
              "ticks": ""
             }
            },
            "type": "scattermap"
           }
          ],
          "scattermapbox": [
           {
            "marker": {
             "colorbar": {
              "outlinewidth": 0,
              "ticks": ""
             }
            },
            "type": "scattermapbox"
           }
          ],
          "scatterpolar": [
           {
            "marker": {
             "colorbar": {
              "outlinewidth": 0,
              "ticks": ""
             }
            },
            "type": "scatterpolar"
           }
          ],
          "scatterpolargl": [
           {
            "marker": {
             "colorbar": {
              "outlinewidth": 0,
              "ticks": ""
             }
            },
            "type": "scatterpolargl"
           }
          ],
          "scatterternary": [
           {
            "marker": {
             "colorbar": {
              "outlinewidth": 0,
              "ticks": ""
             }
            },
            "type": "scatterternary"
           }
          ],
          "surface": [
           {
            "colorbar": {
             "outlinewidth": 0,
             "ticks": ""
            },
            "colorscale": [
             [
              0,
              "#0d0887"
             ],
             [
              0.1111111111111111,
              "#46039f"
             ],
             [
              0.2222222222222222,
              "#7201a8"
             ],
             [
              0.3333333333333333,
              "#9c179e"
             ],
             [
              0.4444444444444444,
              "#bd3786"
             ],
             [
              0.5555555555555556,
              "#d8576b"
             ],
             [
              0.6666666666666666,
              "#ed7953"
             ],
             [
              0.7777777777777778,
              "#fb9f3a"
             ],
             [
              0.8888888888888888,
              "#fdca26"
             ],
             [
              1,
              "#f0f921"
             ]
            ],
            "type": "surface"
           }
          ],
          "table": [
           {
            "cells": {
             "fill": {
              "color": "#EBF0F8"
             },
             "line": {
              "color": "white"
             }
            },
            "header": {
             "fill": {
              "color": "#C8D4E3"
             },
             "line": {
              "color": "white"
             }
            },
            "type": "table"
           }
          ]
         },
         "layout": {
          "annotationdefaults": {
           "arrowcolor": "#2a3f5f",
           "arrowhead": 0,
           "arrowwidth": 1
          },
          "autotypenumbers": "strict",
          "coloraxis": {
           "colorbar": {
            "outlinewidth": 0,
            "ticks": ""
           }
          },
          "colorscale": {
           "diverging": [
            [
             0,
             "#8e0152"
            ],
            [
             0.1,
             "#c51b7d"
            ],
            [
             0.2,
             "#de77ae"
            ],
            [
             0.3,
             "#f1b6da"
            ],
            [
             0.4,
             "#fde0ef"
            ],
            [
             0.5,
             "#f7f7f7"
            ],
            [
             0.6,
             "#e6f5d0"
            ],
            [
             0.7,
             "#b8e186"
            ],
            [
             0.8,
             "#7fbc41"
            ],
            [
             0.9,
             "#4d9221"
            ],
            [
             1,
             "#276419"
            ]
           ],
           "sequential": [
            [
             0,
             "#0d0887"
            ],
            [
             0.1111111111111111,
             "#46039f"
            ],
            [
             0.2222222222222222,
             "#7201a8"
            ],
            [
             0.3333333333333333,
             "#9c179e"
            ],
            [
             0.4444444444444444,
             "#bd3786"
            ],
            [
             0.5555555555555556,
             "#d8576b"
            ],
            [
             0.6666666666666666,
             "#ed7953"
            ],
            [
             0.7777777777777778,
             "#fb9f3a"
            ],
            [
             0.8888888888888888,
             "#fdca26"
            ],
            [
             1,
             "#f0f921"
            ]
           ],
           "sequentialminus": [
            [
             0,
             "#0d0887"
            ],
            [
             0.1111111111111111,
             "#46039f"
            ],
            [
             0.2222222222222222,
             "#7201a8"
            ],
            [
             0.3333333333333333,
             "#9c179e"
            ],
            [
             0.4444444444444444,
             "#bd3786"
            ],
            [
             0.5555555555555556,
             "#d8576b"
            ],
            [
             0.6666666666666666,
             "#ed7953"
            ],
            [
             0.7777777777777778,
             "#fb9f3a"
            ],
            [
             0.8888888888888888,
             "#fdca26"
            ],
            [
             1,
             "#f0f921"
            ]
           ]
          },
          "colorway": [
           "#636efa",
           "#EF553B",
           "#00cc96",
           "#ab63fa",
           "#FFA15A",
           "#19d3f3",
           "#FF6692",
           "#B6E880",
           "#FF97FF",
           "#FECB52"
          ],
          "font": {
           "color": "#2a3f5f"
          },
          "geo": {
           "bgcolor": "white",
           "lakecolor": "white",
           "landcolor": "white",
           "showlakes": true,
           "showland": true,
           "subunitcolor": "#C8D4E3"
          },
          "hoverlabel": {
           "align": "left"
          },
          "hovermode": "closest",
          "mapbox": {
           "style": "light"
          },
          "paper_bgcolor": "white",
          "plot_bgcolor": "white",
          "polar": {
           "angularaxis": {
            "gridcolor": "#EBF0F8",
            "linecolor": "#EBF0F8",
            "ticks": ""
           },
           "bgcolor": "white",
           "radialaxis": {
            "gridcolor": "#EBF0F8",
            "linecolor": "#EBF0F8",
            "ticks": ""
           }
          },
          "scene": {
           "xaxis": {
            "backgroundcolor": "white",
            "gridcolor": "#DFE8F3",
            "gridwidth": 2,
            "linecolor": "#EBF0F8",
            "showbackground": true,
            "ticks": "",
            "zerolinecolor": "#EBF0F8"
           },
           "yaxis": {
            "backgroundcolor": "white",
            "gridcolor": "#DFE8F3",
            "gridwidth": 2,
            "linecolor": "#EBF0F8",
            "showbackground": true,
            "ticks": "",
            "zerolinecolor": "#EBF0F8"
           },
           "zaxis": {
            "backgroundcolor": "white",
            "gridcolor": "#DFE8F3",
            "gridwidth": 2,
            "linecolor": "#EBF0F8",
            "showbackground": true,
            "ticks": "",
            "zerolinecolor": "#EBF0F8"
           }
          },
          "shapedefaults": {
           "line": {
            "color": "#2a3f5f"
           }
          },
          "ternary": {
           "aaxis": {
            "gridcolor": "#DFE8F3",
            "linecolor": "#A2B1C6",
            "ticks": ""
           },
           "baxis": {
            "gridcolor": "#DFE8F3",
            "linecolor": "#A2B1C6",
            "ticks": ""
           },
           "bgcolor": "white",
           "caxis": {
            "gridcolor": "#DFE8F3",
            "linecolor": "#A2B1C6",
            "ticks": ""
           }
          },
          "title": {
           "x": 0.05
          },
          "xaxis": {
           "automargin": true,
           "gridcolor": "#EBF0F8",
           "linecolor": "#EBF0F8",
           "ticks": "",
           "title": {
            "standoff": 15
           },
           "zerolinecolor": "#EBF0F8",
           "zerolinewidth": 2
          },
          "yaxis": {
           "automargin": true,
           "gridcolor": "#EBF0F8",
           "linecolor": "#EBF0F8",
           "ticks": "",
           "title": {
            "standoff": 15
           },
           "zerolinecolor": "#EBF0F8",
           "zerolinewidth": 2
          }
         }
        },
        "title": {
         "font": {
          "size": 18
         },
         "text": "<b>Silent Majority Engagement: Total Community vs Per-Post Activity</b>",
         "x": 0.5,
         "xanchor": "center"
        },
        "width": 1400
       }
      }
     },
     "metadata": {},
     "output_type": "display_data"
    },
    {
     "data": {
      "application/vnd.plotly.v1+json": {
       "config": {
        "plotlyServerURL": "https://plot.ly"
       },
       "data": [
        {
         "marker": {
          "color": "#e67e22"
         },
         "showlegend": false,
         "type": "bar",
         "x": [
          "AskMiddleEast",
          "CombatFootage",
          "IsraelPalestine",
          "NonCredibleDefense",
          "Palestine",
          "PublicFreakout",
          "worldnews",
          "worldnewsvideo"
         ],
         "xaxis": "x",
         "y": {
          "bdata": "Ci4ZACwqRACanCUAbAQ3AM3GbQC/L9YAVK5vAi7iEQA=",
          "dtype": "i4"
         },
         "yaxis": "y"
        },
        {
         "marker": {
          "color": "#3498db"
         },
         "showlegend": false,
         "type": "bar",
         "x": [
          "AskMiddleEast",
          "CombatFootage",
          "IsraelPalestine",
          "NonCredibleDefense",
          "Palestine",
          "PublicFreakout",
          "worldnews",
          "worldnewsvideo"
         ],
         "xaxis": "x2",
         "y": {
          "bdata": "zczMzMzMHkAAAAAAAIA9QAAAAAAAAABAmpmZmZnZQ0CamZmZmRk0QDMzMzMz80xAmpmZmZmZSUDNzMzMzMwoQA==",
          "dtype": "f8"
         },
         "yaxis": "y2"
        },
        {
         "marker": {
          "color": "#e74c3c"
         },
         "showlegend": false,
         "type": "bar",
         "x": [
          "AskMiddleEast",
          "CombatFootage",
          "IsraelPalestine",
          "NonCredibleDefense",
          "Palestine",
          "PublicFreakout",
          "worldnews",
          "worldnewsvideo"
         ],
         "xaxis": "x3",
         "y": {
          "bdata": "mpmZmZmZuT+amZmZmZm5P5qZmZmZmbk/AAAAAAAAAAAAAAAAAAAAAJqZmZmZmbk/mpmZmZmZuT8AAAAAAAAAAA==",
          "dtype": "f8"
         },
         "yaxis": "y3"
        },
        {
         "marker": {
          "color": "#27ae60",
          "size": 12
         },
         "mode": "markers+text",
         "showlegend": false,
         "text": [
          "AskMiddleEast",
          "CombatFootage",
          "IsraelPalestine",
          "NonCredibleDefense",
          "Palestine",
          "PublicFreakout",
          "worldnews",
          "worldnewsvideo"
         ],
         "textposition": "top center",
         "type": "scatter",
         "x": {
          "bdata": "Ci4ZACwqRACanCUAbAQ3AM3GbQC/L9YAVK5vAi7iEQA=",
          "dtype": "i4"
         },
         "xaxis": "x4",
         "y": {
          "bdata": "zczMzMzMHkAAAAAAAIA9QAAAAAAAAABAmpmZmZnZQ0CamZmZmRk0QDMzMzMz80xAmpmZmZmZSUDNzMzMzMwoQA==",
          "dtype": "f8"
         },
         "yaxis": "y4"
        }
       ],
       "layout": {
        "annotations": [
         {
          "font": {
           "size": 16
          },
          "showarrow": false,
          "text": "<b>Total Community Votes</b><br><sub>Silent majority size</sub>",
          "x": 0.225,
          "xanchor": "center",
          "xref": "paper",
          "y": 1,
          "yanchor": "bottom",
          "yref": "paper"
         },
         {
          "font": {
           "size": 16
          },
          "showarrow": false,
          "text": "<b>Average Votes per Post</b><br><sub>Engagement intensity</sub>",
          "x": 0.775,
          "xanchor": "center",
          "xref": "paper",
          "y": 1,
          "yanchor": "bottom",
          "yref": "paper"
         },
         {
          "font": {
           "size": 16
          },
          "showarrow": false,
          "text": "<b>Controversy Rate</b><br><sub>% of posts flagged controversial</sub>",
          "x": 0.225,
          "xanchor": "center",
          "xref": "paper",
          "y": 0.375,
          "yanchor": "bottom",
          "yref": "paper"
         },
         {
          "font": {
           "size": 16
          },
          "showarrow": false,
          "text": "<b>Community Size vs Intensity</b><br><sub>Total votes vs avg per post</sub>",
          "x": 0.775,
          "xanchor": "center",
          "xref": "paper",
          "y": 0.375,
          "yanchor": "bottom",
          "yref": "paper"
         }
        ],
        "height": 900,
        "paper_bgcolor": "white",
        "template": {
         "data": {
          "bar": [
           {
            "error_x": {
             "color": "#2a3f5f"
            },
            "error_y": {
             "color": "#2a3f5f"
            },
            "marker": {
             "line": {
              "color": "white",
              "width": 0.5
             },
             "pattern": {
              "fillmode": "overlay",
              "size": 10,
              "solidity": 0.2
             }
            },
            "type": "bar"
           }
          ],
          "barpolar": [
           {
            "marker": {
             "line": {
              "color": "white",
              "width": 0.5
             },
             "pattern": {
              "fillmode": "overlay",
              "size": 10,
              "solidity": 0.2
             }
            },
            "type": "barpolar"
           }
          ],
          "carpet": [
           {
            "aaxis": {
             "endlinecolor": "#2a3f5f",
             "gridcolor": "#C8D4E3",
             "linecolor": "#C8D4E3",
             "minorgridcolor": "#C8D4E3",
             "startlinecolor": "#2a3f5f"
            },
            "baxis": {
             "endlinecolor": "#2a3f5f",
             "gridcolor": "#C8D4E3",
             "linecolor": "#C8D4E3",
             "minorgridcolor": "#C8D4E3",
             "startlinecolor": "#2a3f5f"
            },
            "type": "carpet"
           }
          ],
          "choropleth": [
           {
            "colorbar": {
             "outlinewidth": 0,
             "ticks": ""
            },
            "type": "choropleth"
           }
          ],
          "contour": [
           {
            "colorbar": {
             "outlinewidth": 0,
             "ticks": ""
            },
            "colorscale": [
             [
              0,
              "#0d0887"
             ],
             [
              0.1111111111111111,
              "#46039f"
             ],
             [
              0.2222222222222222,
              "#7201a8"
             ],
             [
              0.3333333333333333,
              "#9c179e"
             ],
             [
              0.4444444444444444,
              "#bd3786"
             ],
             [
              0.5555555555555556,
              "#d8576b"
             ],
             [
              0.6666666666666666,
              "#ed7953"
             ],
             [
              0.7777777777777778,
              "#fb9f3a"
             ],
             [
              0.8888888888888888,
              "#fdca26"
             ],
             [
              1,
              "#f0f921"
             ]
            ],
            "type": "contour"
           }
          ],
          "contourcarpet": [
           {
            "colorbar": {
             "outlinewidth": 0,
             "ticks": ""
            },
            "type": "contourcarpet"
           }
          ],
          "heatmap": [
           {
            "colorbar": {
             "outlinewidth": 0,
             "ticks": ""
            },
            "colorscale": [
             [
              0,
              "#0d0887"
             ],
             [
              0.1111111111111111,
              "#46039f"
             ],
             [
              0.2222222222222222,
              "#7201a8"
             ],
             [
              0.3333333333333333,
              "#9c179e"
             ],
             [
              0.4444444444444444,
              "#bd3786"
             ],
             [
              0.5555555555555556,
              "#d8576b"
             ],
             [
              0.6666666666666666,
              "#ed7953"
             ],
             [
              0.7777777777777778,
              "#fb9f3a"
             ],
             [
              0.8888888888888888,
              "#fdca26"
             ],
             [
              1,
              "#f0f921"
             ]
            ],
            "type": "heatmap"
           }
          ],
          "histogram": [
           {
            "marker": {
             "pattern": {
              "fillmode": "overlay",
              "size": 10,
              "solidity": 0.2
             }
            },
            "type": "histogram"
           }
          ],
          "histogram2d": [
           {
            "colorbar": {
             "outlinewidth": 0,
             "ticks": ""
            },
            "colorscale": [
             [
              0,
              "#0d0887"
             ],
             [
              0.1111111111111111,
              "#46039f"
             ],
             [
              0.2222222222222222,
              "#7201a8"
             ],
             [
              0.3333333333333333,
              "#9c179e"
             ],
             [
              0.4444444444444444,
              "#bd3786"
             ],
             [
              0.5555555555555556,
              "#d8576b"
             ],
             [
              0.6666666666666666,
              "#ed7953"
             ],
             [
              0.7777777777777778,
              "#fb9f3a"
             ],
             [
              0.8888888888888888,
              "#fdca26"
             ],
             [
              1,
              "#f0f921"
             ]
            ],
            "type": "histogram2d"
           }
          ],
          "histogram2dcontour": [
           {
            "colorbar": {
             "outlinewidth": 0,
             "ticks": ""
            },
            "colorscale": [
             [
              0,
              "#0d0887"
             ],
             [
              0.1111111111111111,
              "#46039f"
             ],
             [
              0.2222222222222222,
              "#7201a8"
             ],
             [
              0.3333333333333333,
              "#9c179e"
             ],
             [
              0.4444444444444444,
              "#bd3786"
             ],
             [
              0.5555555555555556,
              "#d8576b"
             ],
             [
              0.6666666666666666,
              "#ed7953"
             ],
             [
              0.7777777777777778,
              "#fb9f3a"
             ],
             [
              0.8888888888888888,
              "#fdca26"
             ],
             [
              1,
              "#f0f921"
             ]
            ],
            "type": "histogram2dcontour"
           }
          ],
          "mesh3d": [
           {
            "colorbar": {
             "outlinewidth": 0,
             "ticks": ""
            },
            "type": "mesh3d"
           }
          ],
          "parcoords": [
           {
            "line": {
             "colorbar": {
              "outlinewidth": 0,
              "ticks": ""
             }
            },
            "type": "parcoords"
           }
          ],
          "pie": [
           {
            "automargin": true,
            "type": "pie"
           }
          ],
          "scatter": [
           {
            "fillpattern": {
             "fillmode": "overlay",
             "size": 10,
             "solidity": 0.2
            },
            "type": "scatter"
           }
          ],
          "scatter3d": [
           {
            "line": {
             "colorbar": {
              "outlinewidth": 0,
              "ticks": ""
             }
            },
            "marker": {
             "colorbar": {
              "outlinewidth": 0,
              "ticks": ""
             }
            },
            "type": "scatter3d"
           }
          ],
          "scattercarpet": [
           {
            "marker": {
             "colorbar": {
              "outlinewidth": 0,
              "ticks": ""
             }
            },
            "type": "scattercarpet"
           }
          ],
          "scattergeo": [
           {
            "marker": {
             "colorbar": {
              "outlinewidth": 0,
              "ticks": ""
             }
            },
            "type": "scattergeo"
           }
          ],
          "scattergl": [
           {
            "marker": {
             "colorbar": {
              "outlinewidth": 0,
              "ticks": ""
             }
            },
            "type": "scattergl"
           }
          ],
          "scattermap": [
           {
            "marker": {
             "colorbar": {
              "outlinewidth": 0,
              "ticks": ""
             }
            },
            "type": "scattermap"
           }
          ],
          "scattermapbox": [
           {
            "marker": {
             "colorbar": {
              "outlinewidth": 0,
              "ticks": ""
             }
            },
            "type": "scattermapbox"
           }
          ],
          "scatterpolar": [
           {
            "marker": {
             "colorbar": {
              "outlinewidth": 0,
              "ticks": ""
             }
            },
            "type": "scatterpolar"
           }
          ],
          "scatterpolargl": [
           {
            "marker": {
             "colorbar": {
              "outlinewidth": 0,
              "ticks": ""
             }
            },
            "type": "scatterpolargl"
           }
          ],
          "scatterternary": [
           {
            "marker": {
             "colorbar": {
              "outlinewidth": 0,
              "ticks": ""
             }
            },
            "type": "scatterternary"
           }
          ],
          "surface": [
           {
            "colorbar": {
             "outlinewidth": 0,
             "ticks": ""
            },
            "colorscale": [
             [
              0,
              "#0d0887"
             ],
             [
              0.1111111111111111,
              "#46039f"
             ],
             [
              0.2222222222222222,
              "#7201a8"
             ],
             [
              0.3333333333333333,
              "#9c179e"
             ],
             [
              0.4444444444444444,
              "#bd3786"
             ],
             [
              0.5555555555555556,
              "#d8576b"
             ],
             [
              0.6666666666666666,
              "#ed7953"
             ],
             [
              0.7777777777777778,
              "#fb9f3a"
             ],
             [
              0.8888888888888888,
              "#fdca26"
             ],
             [
              1,
              "#f0f921"
             ]
            ],
            "type": "surface"
           }
          ],
          "table": [
           {
            "cells": {
             "fill": {
              "color": "#EBF0F8"
             },
             "line": {
              "color": "white"
             }
            },
            "header": {
             "fill": {
              "color": "#C8D4E3"
             },
             "line": {
              "color": "white"
             }
            },
            "type": "table"
           }
          ]
         },
         "layout": {
          "annotationdefaults": {
           "arrowcolor": "#2a3f5f",
           "arrowhead": 0,
           "arrowwidth": 1
          },
          "autotypenumbers": "strict",
          "coloraxis": {
           "colorbar": {
            "outlinewidth": 0,
            "ticks": ""
           }
          },
          "colorscale": {
           "diverging": [
            [
             0,
             "#8e0152"
            ],
            [
             0.1,
             "#c51b7d"
            ],
            [
             0.2,
             "#de77ae"
            ],
            [
             0.3,
             "#f1b6da"
            ],
            [
             0.4,
             "#fde0ef"
            ],
            [
             0.5,
             "#f7f7f7"
            ],
            [
             0.6,
             "#e6f5d0"
            ],
            [
             0.7,
             "#b8e186"
            ],
            [
             0.8,
             "#7fbc41"
            ],
            [
             0.9,
             "#4d9221"
            ],
            [
             1,
             "#276419"
            ]
           ],
           "sequential": [
            [
             0,
             "#0d0887"
            ],
            [
             0.1111111111111111,
             "#46039f"
            ],
            [
             0.2222222222222222,
             "#7201a8"
            ],
            [
             0.3333333333333333,
             "#9c179e"
            ],
            [
             0.4444444444444444,
             "#bd3786"
            ],
            [
             0.5555555555555556,
             "#d8576b"
            ],
            [
             0.6666666666666666,
             "#ed7953"
            ],
            [
             0.7777777777777778,
             "#fb9f3a"
            ],
            [
             0.8888888888888888,
             "#fdca26"
            ],
            [
             1,
             "#f0f921"
            ]
           ],
           "sequentialminus": [
            [
             0,
             "#0d0887"
            ],
            [
             0.1111111111111111,
             "#46039f"
            ],
            [
             0.2222222222222222,
             "#7201a8"
            ],
            [
             0.3333333333333333,
             "#9c179e"
            ],
            [
             0.4444444444444444,
             "#bd3786"
            ],
            [
             0.5555555555555556,
             "#d8576b"
            ],
            [
             0.6666666666666666,
             "#ed7953"
            ],
            [
             0.7777777777777778,
             "#fb9f3a"
            ],
            [
             0.8888888888888888,
             "#fdca26"
            ],
            [
             1,
             "#f0f921"
            ]
           ]
          },
          "colorway": [
           "#636efa",
           "#EF553B",
           "#00cc96",
           "#ab63fa",
           "#FFA15A",
           "#19d3f3",
           "#FF6692",
           "#B6E880",
           "#FF97FF",
           "#FECB52"
          ],
          "font": {
           "color": "#2a3f5f"
          },
          "geo": {
           "bgcolor": "white",
           "lakecolor": "white",
           "landcolor": "white",
           "showlakes": true,
           "showland": true,
           "subunitcolor": "#C8D4E3"
          },
          "hoverlabel": {
           "align": "left"
          },
          "hovermode": "closest",
          "mapbox": {
           "style": "light"
          },
          "paper_bgcolor": "white",
          "plot_bgcolor": "white",
          "polar": {
           "angularaxis": {
            "gridcolor": "#EBF0F8",
            "linecolor": "#EBF0F8",
            "ticks": ""
           },
           "bgcolor": "white",
           "radialaxis": {
            "gridcolor": "#EBF0F8",
            "linecolor": "#EBF0F8",
            "ticks": ""
           }
          },
          "scene": {
           "xaxis": {
            "backgroundcolor": "white",
            "gridcolor": "#DFE8F3",
            "gridwidth": 2,
            "linecolor": "#EBF0F8",
            "showbackground": true,
            "ticks": "",
            "zerolinecolor": "#EBF0F8"
           },
           "yaxis": {
            "backgroundcolor": "white",
            "gridcolor": "#DFE8F3",
            "gridwidth": 2,
            "linecolor": "#EBF0F8",
            "showbackground": true,
            "ticks": "",
            "zerolinecolor": "#EBF0F8"
           },
           "zaxis": {
            "backgroundcolor": "white",
            "gridcolor": "#DFE8F3",
            "gridwidth": 2,
            "linecolor": "#EBF0F8",
            "showbackground": true,
            "ticks": "",
            "zerolinecolor": "#EBF0F8"
           }
          },
          "shapedefaults": {
           "line": {
            "color": "#2a3f5f"
           }
          },
          "ternary": {
           "aaxis": {
            "gridcolor": "#DFE8F3",
            "linecolor": "#A2B1C6",
            "ticks": ""
           },
           "baxis": {
            "gridcolor": "#DFE8F3",
            "linecolor": "#A2B1C6",
            "ticks": ""
           },
           "bgcolor": "white",
           "caxis": {
            "gridcolor": "#DFE8F3",
            "linecolor": "#A2B1C6",
            "ticks": ""
           }
          },
          "title": {
           "x": 0.05
          },
          "xaxis": {
           "automargin": true,
           "gridcolor": "#EBF0F8",
           "linecolor": "#EBF0F8",
           "ticks": "",
           "title": {
            "standoff": 15
           },
           "zerolinecolor": "#EBF0F8",
           "zerolinewidth": 2
          },
          "yaxis": {
           "automargin": true,
           "gridcolor": "#EBF0F8",
           "linecolor": "#EBF0F8",
           "ticks": "",
           "title": {
            "standoff": 15
           },
           "zerolinecolor": "#EBF0F8",
           "zerolinewidth": 2
          }
         }
        },
        "title": {
         "font": {
          "color": "#34495e",
          "size": 20
         },
         "text": "<b>Silent Majority Analysis: Community Size vs Engagement Intensity</b>",
         "x": 0.5,
         "xanchor": "center"
        },
        "width": 1400,
        "xaxis": {
         "anchor": "y",
         "domain": [
          0,
          0.45
         ],
         "tickangle": 45
        },
        "xaxis2": {
         "anchor": "y2",
         "domain": [
          0.55,
          1
         ],
         "tickangle": 45
        },
        "xaxis3": {
         "anchor": "y3",
         "domain": [
          0,
          0.45
         ],
         "tickangle": 45
        },
        "xaxis4": {
         "anchor": "y4",
         "domain": [
          0.55,
          1
         ]
        },
        "yaxis": {
         "anchor": "x",
         "domain": [
          0.625,
          1
         ]
        },
        "yaxis2": {
         "anchor": "x2",
         "domain": [
          0.625,
          1
         ]
        },
        "yaxis3": {
         "anchor": "x3",
         "domain": [
          0,
          0.375
         ]
        },
        "yaxis4": {
         "anchor": "x4",
         "domain": [
          0,
          0.375
         ]
        }
       }
      }
     },
     "metadata": {},
     "output_type": "display_data"
    }
   ],
   "source": [
    "# Engagement statistics analysis (using original dataset)\n",
    "print(\"Analyzing engagement patterns by subreddit...\")\n",
    "\n",
    "# Get top subreddits for focused analysis\n",
    "top_subs = df['subreddit'].value_counts().head(8).index\n",
    "df_top = df[df['subreddit'].isin(top_subs)]\n",
    "\n",
    "# Calculate total votes first\n",
    "df_top['total_votes'] = df_top['ups'] + df_top['downs']\n",
    "\n",
    "# Calculate key engagement metrics per subreddit\n",
    "engagement_stats = df_top.groupby('subreddit').agg({\n",
    "    'post_score': 'mean',\n",
    "    'post_upvote_ratio': 'mean', \n",
    "    'ups': 'sum',  # Total ups for entire subreddit\n",
    "    'downs': 'sum',  # Total downs for entire subreddit\n",
    "    'total_votes': ['sum', 'mean'],  # Both total and average\n",
    "    'controversiality': 'mean',\n",
    "    'post_id': 'nunique'\n",
    "}).round(1)\n",
    "\n",
    "# Flatten column names\n",
    "engagement_stats.columns = [\n",
    "    'avg_score', 'avg_upvote_ratio', 'total_ups', 'total_downs', \n",
    "    'total_votes_sum', 'total_votes_mean', 'controversy_rate', 'unique_posts'\n",
    "]\n",
    "\n",
    "# Reset index\n",
    "engagement_stats = engagement_stats.reset_index()\n",
    "\n",
    "# Create readable display with both total and average votes\n",
    "engagement_display = pd.DataFrame({\n",
    "    'Subreddit': engagement_stats['subreddit'],\n",
    "    'Total Votes': engagement_stats['total_votes_sum'].astype(int),  # Total votes across all posts\n",
    "    'Avg Votes/Post': engagement_stats['total_votes_mean'].round(1),  # Average votes per post\n",
    "    'Avg Score': engagement_stats['avg_score'].round(1),\n",
    "    'Upvote Ratio': engagement_stats['avg_upvote_ratio'].round(3),\n",
    "    'Controversy Rate': engagement_stats['controversy_rate'].round(3),\n",
    "    'Unique Posts': engagement_stats['unique_posts'].astype(int)\n",
    "})\n",
    "\n",
    "# Create clean engagement table\n",
    "fig = go.Figure(data=[go.Table(\n",
    "    header=dict(\n",
    "        values=list(engagement_display.columns),\n",
    "        fill_color=PRIMARY_BLUE,\n",
    "        font=dict(size=14, color='white'),\n",
    "        align='center'\n",
    "    ),\n",
    "    cells=dict(\n",
    "        values=[engagement_display[col] for col in engagement_display.columns],\n",
    "        fill_color='white',\n",
    "        font=dict(size=12),\n",
    "        align='center',\n",
    "        height=35\n",
    "    )\n",
    ")])\n",
    "\n",
    "fig.update_layout(\n",
    "    title=dict(text='<b>Silent Majority Engagement: Total Community vs Per-Post Activity</b>', x=0.5, xanchor='center', font=dict(size=18)),\n",
    "    height=450,\n",
    "    width=1400,\n",
    "    margin=dict(l=50, r=50, t=80, b=50)\n",
    ")\n",
    "fig.show()\n",
    "\n",
    "# Create visualization highlighting both metrics\n",
    "fig2 = make_subplots(\n",
    "    rows=2, cols=2,\n",
    "    subplot_titles=[\n",
    "        '<b>Total Community Votes</b><br><sub>Silent majority size</sub>', \n",
    "        '<b>Average Votes per Post</b><br><sub>Engagement intensity</sub>', \n",
    "        '<b>Controversy Rate</b><br><sub>% of posts flagged controversial</sub>', \n",
    "        '<b>Community Size vs Intensity</b><br><sub>Total votes vs avg per post</sub>'\n",
    "    ],\n",
    "    specs=[[{\"type\": \"bar\"}, {\"type\": \"bar\"}], [{\"type\": \"bar\"}, {\"type\": \"scatter\"}]]\n",
    ")\n",
    "\n",
    "# Total community votes\n",
    "fig2.add_trace(go.Bar(\n",
    "    x=engagement_display['Subreddit'],\n",
    "    y=engagement_display['Total Votes'],\n",
    "    marker_color=ACCENT_ORANGE,\n",
    "    showlegend=False\n",
    "), row=1, col=1)\n",
    "\n",
    "# Average votes per post\n",
    "fig2.add_trace(go.Bar(\n",
    "    x=engagement_display['Subreddit'],\n",
    "    y=engagement_display['Avg Votes/Post'],\n",
    "    marker_color=PRIMARY_BLUE,\n",
    "    showlegend=False\n",
    "), row=1, col=2)\n",
    "\n",
    "# Controversiality\n",
    "fig2.add_trace(go.Bar(\n",
    "    x=engagement_display['Subreddit'],\n",
    "    y=engagement_display['Controversy Rate'],\n",
    "    marker_color=ACCENT_RED,\n",
    "    showlegend=False\n",
    "), row=2, col=1)\n",
    "\n",
    "# Size vs intensity scatter\n",
    "fig2.add_trace(go.Scatter(\n",
    "    x=engagement_display['Total Votes'],\n",
    "    y=engagement_display['Avg Votes/Post'],\n",
    "    mode='markers+text',\n",
    "    marker=dict(size=12, color=SUCCESS_GREEN),\n",
    "    text=engagement_display['Subreddit'],\n",
    "    textposition='top center',\n",
    "    showlegend=False\n",
    "), row=2, col=2)\n",
    "\n",
    "fig2.update_layout(\n",
    "    height=900,\n",
    "    width=1400,\n",
    "    title=dict(\n",
    "        text='<b>Silent Majority Analysis: Community Size vs Engagement Intensity</b>', \n",
    "        x=0.5, \n",
    "        xanchor='center',\n",
    "        font=dict(size=20, color=DARK_GREY)\n",
    "    ),\n",
    "    paper_bgcolor='white'\n",
    ")\n",
    "\n",
    "# Format axes\n",
    "for i in range(1, 3):\n",
    "    for j in range(1, 3):\n",
    "        if not (i == 2 and j == 2):\n",
    "            fig2.update_xaxes(tickangle=45, row=i, col=j)\n",
    "\n",
    "fig2.show()"
   ]
  },
  {
   "cell_type": "markdown",
   "id": "f018742e",
   "metadata": {},
   "source": [
    "#### Silent Majority Engagement: Key Findings\n",
    "\n",
    "The engagement analysis reveals fascinating patterns about where the real crowds \n",
    "are and how they participate in the Israel-Palestine discussion on Reddit.\n",
    "\n",
    "**Massive silent participation:** The numbers are striking—`r/worldnews` has over \n",
    "40 million total votes despite having only 12,337 posts, while `r/Palestine` \n",
    "has 7.1 million votes across 17,412 posts. This shows that for every person \n",
    "who writes, hundreds more are reading and voting, expressing their stance \n",
    "silently through upvotes and downvotes.\n",
    "\n",
    "**Two distinct engagement patterns emerge:**\n",
    "- **High-volume, moderate intensity:** `r/worldnews` and `r/PublicFreakout` \n",
    "  attract massive silent audiences (40M+ and 14M+ votes respectively) with \n",
    "  strong per-post engagement (51-58 votes per post)\n",
    "- **Lower volume, mixed intensity:** `r/IsraelPalestine` has fewer total votes \n",
    "  (2.4M) but represents the most balanced discussion space, while `r/Palestine` \n",
    "  shows high volume (7.1M votes) with moderate intensity (20 votes per post)\n",
    "\n",
    "**Controversy patterns:** Most subreddits show similar controversy rates (0.1), \n",
    "suggesting that Reddit's controversy algorithm flags about 10% of posts across \n",
    "communities. Notably, `r/Palestine` and `r/NonCredibleDefense` show zero \n",
    "controversy, possibly indicating more echo-chamber dynamics.\n",
    "\n",
    "**Critical insight for our analysis:** While `r/IsraelPalestine` might offer \n",
    "the most balanced deep conversations (low controversy, diverse discussion), \n",
    "our goal is measuring sentiment toward each entity over time. **`r/worldnews` \n",
    "represents the mainstream public opinion** with its 40+ million votes—this \n",
    "is where general Reddit users encounter and react to Israel-Palestine content. \n",
    "This massive silent majority should carry significant weight in our temporal \n",
    "sentiment analysis, as it captures broader public reaction rather than just \n",
    "the views of users specifically seeking out conflict-focused communities.\n",
    "\n",
    "**Sampling implication:** Comments-based or engagement-weighted stratification \n",
    "would better capture this silent majority sentiment than pure posts-based \n",
    "sampling, ensuring we measure the pulse of the broader Reddit population, \n",
    "not just the most vocal participants."
   ]
  },
  {
   "cell_type": "markdown",
   "id": "25922fb5",
   "metadata": {},
   "source": [
    "### **Temporal Activity Patterns**\n",
    "\n",
    "The chart below shows comment volume over time to understand how discussion \n",
    "intensity evolved throughout the dataset period, particularly around major \n",
    "events like the October 7th attacks.\n",
    "\n",
    "**What we're tracking:**\n",
    "- **Monthly comment counts:** Raw activity levels to spot surges and lulls\n",
    "- **6-month rolling average:** Smoothed trend line to filter out noise and \n",
    "  reveal sustained shifts in attention\n",
    "\n",
    "**Expected pattern:** We anticipate a sharp activity surge around October-November \n",
    "2023 following the October 7th attacks, followed by sustained elevated discussion \n",
    "levels. The rolling average should help us distinguish between event-driven spikes \n",
    "and longer-term changes in platform engagement with the conflict.\n",
    "\n",
    "**Why this matters:** Understanding the temporal dynamics helps us contextualize \n",
    "stance shifts—are they driven by specific events or gradual opinion evolution? \n",
    "High-activity periods may also require different sampling strategies to ensure \n",
    "representative coverage across both baseline and crisis periods."
   ]
  },
  {
   "cell_type": "code",
   "execution_count": 59,
   "id": "2ef5458a",
   "metadata": {},
   "outputs": [
    {
     "name": "stdout",
     "output_type": "stream",
     "text": [
      "Analyzing temporal patterns...\n",
      "Dataset spans 25 months\n",
      "Peak activity: 2023-11 with 289,402 comments\n"
     ]
    },
    {
     "data": {
      "application/vnd.plotly.v1+json": {
       "config": {
        "plotlyServerURL": "https://plot.ly"
       },
       "data": [
        {
         "hovertemplate": "Month=%{x}<br>Comments=%{y}<extra></extra>",
         "legendgroup": "",
         "marker": {
          "color": "#D2691E",
          "pattern": {
           "shape": ""
          }
         },
         "name": "",
         "orientation": "v",
         "showlegend": false,
         "textposition": "auto",
         "type": "bar",
         "x": [
          "2023-09",
          "2023-10",
          "2023-11",
          "2023-12",
          "2024-01",
          "2024-02",
          "2024-03",
          "2024-04",
          "2024-05",
          "2024-06",
          "2024-07",
          "2024-08",
          "2024-09",
          "2024-10",
          "2024-11",
          "2024-12",
          "2025-01",
          "2025-02",
          "2025-03",
          "2025-04",
          "2025-05",
          "2025-06",
          "2025-07",
          "2025-08",
          "2025-09"
         ],
         "xaxis": "x",
         "y": {
          "bdata": "8gcAAL5kAAB6agQARSAEAKD5AgCzZgIAiX4CAH27AgBt0QIABwYCABCWAQD72gEAW/oBAH5mAgCuigEAyU8BACo+AQCkAAEAWB0BAJJbAQDx/wEAfeICAJUHAgAmDgIApTcBAA==",
          "dtype": "i4"
         },
         "yaxis": "y"
        },
        {
         "line": {
          "color": "#8B4513",
          "width": 3
         },
         "mode": "lines",
         "name": "6-month average",
         "type": "scatter",
         "x": [
          "2023-09",
          "2023-10",
          "2023-11",
          "2023-12",
          "2024-01",
          "2024-02",
          "2024-03",
          "2024-04",
          "2024-05",
          "2024-06",
          "2024-07",
          "2024-08",
          "2024-09",
          "2024-10",
          "2024-11",
          "2024-12",
          "2025-01",
          "2025-02",
          "2025-03",
          "2025-04",
          "2025-05",
          "2025-06",
          "2025-07",
          "2025-08",
          "2025-09"
         ],
         "y": {
          "bdata": "AAAAAADIn0AAAAAAACzLQAAAAADg0PlAAAAAAN7uAUEzMzMzSxsDQVVVVVWtHwNBq6qqqnZoBkGrqqqqyoYJQQAAAABkZQdBAAAAALyXBEGrqqqqpr0CQQAAAABcAwJBq6qqqh5TAUGrqqqqyuEAQauqqqpCXP5AAAAAAEh2/ECrqqqq4ov7QFVVVVWlRflAAAAAAEj49kBVVVVVfTD0QAAAAAAwafVAAAAAABCb+UBVVVVVLbT7QFVVVVXdgv5AAAAAAADJ/kA=",
          "dtype": "f8"
         }
        }
       ],
       "layout": {
        "bargap": 0.1,
        "barmode": "relative",
        "height": 500,
        "legend": {
         "orientation": "h",
         "tracegroupgap": 0,
         "x": 0.5,
         "xanchor": "center",
         "y": 1.02,
         "yanchor": "bottom"
        },
        "paper_bgcolor": "white",
        "plot_bgcolor": "white",
        "template": {
         "data": {
          "bar": [
           {
            "error_x": {
             "color": "#2a3f5f"
            },
            "error_y": {
             "color": "#2a3f5f"
            },
            "marker": {
             "line": {
              "color": "white",
              "width": 0.5
             },
             "pattern": {
              "fillmode": "overlay",
              "size": 10,
              "solidity": 0.2
             }
            },
            "type": "bar"
           }
          ],
          "barpolar": [
           {
            "marker": {
             "line": {
              "color": "white",
              "width": 0.5
             },
             "pattern": {
              "fillmode": "overlay",
              "size": 10,
              "solidity": 0.2
             }
            },
            "type": "barpolar"
           }
          ],
          "carpet": [
           {
            "aaxis": {
             "endlinecolor": "#2a3f5f",
             "gridcolor": "#C8D4E3",
             "linecolor": "#C8D4E3",
             "minorgridcolor": "#C8D4E3",
             "startlinecolor": "#2a3f5f"
            },
            "baxis": {
             "endlinecolor": "#2a3f5f",
             "gridcolor": "#C8D4E3",
             "linecolor": "#C8D4E3",
             "minorgridcolor": "#C8D4E3",
             "startlinecolor": "#2a3f5f"
            },
            "type": "carpet"
           }
          ],
          "choropleth": [
           {
            "colorbar": {
             "outlinewidth": 0,
             "ticks": ""
            },
            "type": "choropleth"
           }
          ],
          "contour": [
           {
            "colorbar": {
             "outlinewidth": 0,
             "ticks": ""
            },
            "colorscale": [
             [
              0,
              "#0d0887"
             ],
             [
              0.1111111111111111,
              "#46039f"
             ],
             [
              0.2222222222222222,
              "#7201a8"
             ],
             [
              0.3333333333333333,
              "#9c179e"
             ],
             [
              0.4444444444444444,
              "#bd3786"
             ],
             [
              0.5555555555555556,
              "#d8576b"
             ],
             [
              0.6666666666666666,
              "#ed7953"
             ],
             [
              0.7777777777777778,
              "#fb9f3a"
             ],
             [
              0.8888888888888888,
              "#fdca26"
             ],
             [
              1,
              "#f0f921"
             ]
            ],
            "type": "contour"
           }
          ],
          "contourcarpet": [
           {
            "colorbar": {
             "outlinewidth": 0,
             "ticks": ""
            },
            "type": "contourcarpet"
           }
          ],
          "heatmap": [
           {
            "colorbar": {
             "outlinewidth": 0,
             "ticks": ""
            },
            "colorscale": [
             [
              0,
              "#0d0887"
             ],
             [
              0.1111111111111111,
              "#46039f"
             ],
             [
              0.2222222222222222,
              "#7201a8"
             ],
             [
              0.3333333333333333,
              "#9c179e"
             ],
             [
              0.4444444444444444,
              "#bd3786"
             ],
             [
              0.5555555555555556,
              "#d8576b"
             ],
             [
              0.6666666666666666,
              "#ed7953"
             ],
             [
              0.7777777777777778,
              "#fb9f3a"
             ],
             [
              0.8888888888888888,
              "#fdca26"
             ],
             [
              1,
              "#f0f921"
             ]
            ],
            "type": "heatmap"
           }
          ],
          "histogram": [
           {
            "marker": {
             "pattern": {
              "fillmode": "overlay",
              "size": 10,
              "solidity": 0.2
             }
            },
            "type": "histogram"
           }
          ],
          "histogram2d": [
           {
            "colorbar": {
             "outlinewidth": 0,
             "ticks": ""
            },
            "colorscale": [
             [
              0,
              "#0d0887"
             ],
             [
              0.1111111111111111,
              "#46039f"
             ],
             [
              0.2222222222222222,
              "#7201a8"
             ],
             [
              0.3333333333333333,
              "#9c179e"
             ],
             [
              0.4444444444444444,
              "#bd3786"
             ],
             [
              0.5555555555555556,
              "#d8576b"
             ],
             [
              0.6666666666666666,
              "#ed7953"
             ],
             [
              0.7777777777777778,
              "#fb9f3a"
             ],
             [
              0.8888888888888888,
              "#fdca26"
             ],
             [
              1,
              "#f0f921"
             ]
            ],
            "type": "histogram2d"
           }
          ],
          "histogram2dcontour": [
           {
            "colorbar": {
             "outlinewidth": 0,
             "ticks": ""
            },
            "colorscale": [
             [
              0,
              "#0d0887"
             ],
             [
              0.1111111111111111,
              "#46039f"
             ],
             [
              0.2222222222222222,
              "#7201a8"
             ],
             [
              0.3333333333333333,
              "#9c179e"
             ],
             [
              0.4444444444444444,
              "#bd3786"
             ],
             [
              0.5555555555555556,
              "#d8576b"
             ],
             [
              0.6666666666666666,
              "#ed7953"
             ],
             [
              0.7777777777777778,
              "#fb9f3a"
             ],
             [
              0.8888888888888888,
              "#fdca26"
             ],
             [
              1,
              "#f0f921"
             ]
            ],
            "type": "histogram2dcontour"
           }
          ],
          "mesh3d": [
           {
            "colorbar": {
             "outlinewidth": 0,
             "ticks": ""
            },
            "type": "mesh3d"
           }
          ],
          "parcoords": [
           {
            "line": {
             "colorbar": {
              "outlinewidth": 0,
              "ticks": ""
             }
            },
            "type": "parcoords"
           }
          ],
          "pie": [
           {
            "automargin": true,
            "type": "pie"
           }
          ],
          "scatter": [
           {
            "fillpattern": {
             "fillmode": "overlay",
             "size": 10,
             "solidity": 0.2
            },
            "type": "scatter"
           }
          ],
          "scatter3d": [
           {
            "line": {
             "colorbar": {
              "outlinewidth": 0,
              "ticks": ""
             }
            },
            "marker": {
             "colorbar": {
              "outlinewidth": 0,
              "ticks": ""
             }
            },
            "type": "scatter3d"
           }
          ],
          "scattercarpet": [
           {
            "marker": {
             "colorbar": {
              "outlinewidth": 0,
              "ticks": ""
             }
            },
            "type": "scattercarpet"
           }
          ],
          "scattergeo": [
           {
            "marker": {
             "colorbar": {
              "outlinewidth": 0,
              "ticks": ""
             }
            },
            "type": "scattergeo"
           }
          ],
          "scattergl": [
           {
            "marker": {
             "colorbar": {
              "outlinewidth": 0,
              "ticks": ""
             }
            },
            "type": "scattergl"
           }
          ],
          "scattermap": [
           {
            "marker": {
             "colorbar": {
              "outlinewidth": 0,
              "ticks": ""
             }
            },
            "type": "scattermap"
           }
          ],
          "scattermapbox": [
           {
            "marker": {
             "colorbar": {
              "outlinewidth": 0,
              "ticks": ""
             }
            },
            "type": "scattermapbox"
           }
          ],
          "scatterpolar": [
           {
            "marker": {
             "colorbar": {
              "outlinewidth": 0,
              "ticks": ""
             }
            },
            "type": "scatterpolar"
           }
          ],
          "scatterpolargl": [
           {
            "marker": {
             "colorbar": {
              "outlinewidth": 0,
              "ticks": ""
             }
            },
            "type": "scatterpolargl"
           }
          ],
          "scatterternary": [
           {
            "marker": {
             "colorbar": {
              "outlinewidth": 0,
              "ticks": ""
             }
            },
            "type": "scatterternary"
           }
          ],
          "surface": [
           {
            "colorbar": {
             "outlinewidth": 0,
             "ticks": ""
            },
            "colorscale": [
             [
              0,
              "#0d0887"
             ],
             [
              0.1111111111111111,
              "#46039f"
             ],
             [
              0.2222222222222222,
              "#7201a8"
             ],
             [
              0.3333333333333333,
              "#9c179e"
             ],
             [
              0.4444444444444444,
              "#bd3786"
             ],
             [
              0.5555555555555556,
              "#d8576b"
             ],
             [
              0.6666666666666666,
              "#ed7953"
             ],
             [
              0.7777777777777778,
              "#fb9f3a"
             ],
             [
              0.8888888888888888,
              "#fdca26"
             ],
             [
              1,
              "#f0f921"
             ]
            ],
            "type": "surface"
           }
          ],
          "table": [
           {
            "cells": {
             "fill": {
              "color": "#EBF0F8"
             },
             "line": {
              "color": "white"
             }
            },
            "header": {
             "fill": {
              "color": "#C8D4E3"
             },
             "line": {
              "color": "white"
             }
            },
            "type": "table"
           }
          ]
         },
         "layout": {
          "annotationdefaults": {
           "arrowcolor": "#2a3f5f",
           "arrowhead": 0,
           "arrowwidth": 1
          },
          "autotypenumbers": "strict",
          "coloraxis": {
           "colorbar": {
            "outlinewidth": 0,
            "ticks": ""
           }
          },
          "colorscale": {
           "diverging": [
            [
             0,
             "#8e0152"
            ],
            [
             0.1,
             "#c51b7d"
            ],
            [
             0.2,
             "#de77ae"
            ],
            [
             0.3,
             "#f1b6da"
            ],
            [
             0.4,
             "#fde0ef"
            ],
            [
             0.5,
             "#f7f7f7"
            ],
            [
             0.6,
             "#e6f5d0"
            ],
            [
             0.7,
             "#b8e186"
            ],
            [
             0.8,
             "#7fbc41"
            ],
            [
             0.9,
             "#4d9221"
            ],
            [
             1,
             "#276419"
            ]
           ],
           "sequential": [
            [
             0,
             "#0d0887"
            ],
            [
             0.1111111111111111,
             "#46039f"
            ],
            [
             0.2222222222222222,
             "#7201a8"
            ],
            [
             0.3333333333333333,
             "#9c179e"
            ],
            [
             0.4444444444444444,
             "#bd3786"
            ],
            [
             0.5555555555555556,
             "#d8576b"
            ],
            [
             0.6666666666666666,
             "#ed7953"
            ],
            [
             0.7777777777777778,
             "#fb9f3a"
            ],
            [
             0.8888888888888888,
             "#fdca26"
            ],
            [
             1,
             "#f0f921"
            ]
           ],
           "sequentialminus": [
            [
             0,
             "#0d0887"
            ],
            [
             0.1111111111111111,
             "#46039f"
            ],
            [
             0.2222222222222222,
             "#7201a8"
            ],
            [
             0.3333333333333333,
             "#9c179e"
            ],
            [
             0.4444444444444444,
             "#bd3786"
            ],
            [
             0.5555555555555556,
             "#d8576b"
            ],
            [
             0.6666666666666666,
             "#ed7953"
            ],
            [
             0.7777777777777778,
             "#fb9f3a"
            ],
            [
             0.8888888888888888,
             "#fdca26"
            ],
            [
             1,
             "#f0f921"
            ]
           ]
          },
          "colorway": [
           "#636efa",
           "#EF553B",
           "#00cc96",
           "#ab63fa",
           "#FFA15A",
           "#19d3f3",
           "#FF6692",
           "#B6E880",
           "#FF97FF",
           "#FECB52"
          ],
          "font": {
           "color": "#2a3f5f"
          },
          "geo": {
           "bgcolor": "white",
           "lakecolor": "white",
           "landcolor": "white",
           "showlakes": true,
           "showland": true,
           "subunitcolor": "#C8D4E3"
          },
          "hoverlabel": {
           "align": "left"
          },
          "hovermode": "closest",
          "mapbox": {
           "style": "light"
          },
          "paper_bgcolor": "white",
          "plot_bgcolor": "white",
          "polar": {
           "angularaxis": {
            "gridcolor": "#EBF0F8",
            "linecolor": "#EBF0F8",
            "ticks": ""
           },
           "bgcolor": "white",
           "radialaxis": {
            "gridcolor": "#EBF0F8",
            "linecolor": "#EBF0F8",
            "ticks": ""
           }
          },
          "scene": {
           "xaxis": {
            "backgroundcolor": "white",
            "gridcolor": "#DFE8F3",
            "gridwidth": 2,
            "linecolor": "#EBF0F8",
            "showbackground": true,
            "ticks": "",
            "zerolinecolor": "#EBF0F8"
           },
           "yaxis": {
            "backgroundcolor": "white",
            "gridcolor": "#DFE8F3",
            "gridwidth": 2,
            "linecolor": "#EBF0F8",
            "showbackground": true,
            "ticks": "",
            "zerolinecolor": "#EBF0F8"
           },
           "zaxis": {
            "backgroundcolor": "white",
            "gridcolor": "#DFE8F3",
            "gridwidth": 2,
            "linecolor": "#EBF0F8",
            "showbackground": true,
            "ticks": "",
            "zerolinecolor": "#EBF0F8"
           }
          },
          "shapedefaults": {
           "line": {
            "color": "#2a3f5f"
           }
          },
          "ternary": {
           "aaxis": {
            "gridcolor": "#DFE8F3",
            "linecolor": "#A2B1C6",
            "ticks": ""
           },
           "baxis": {
            "gridcolor": "#DFE8F3",
            "linecolor": "#A2B1C6",
            "ticks": ""
           },
           "bgcolor": "white",
           "caxis": {
            "gridcolor": "#DFE8F3",
            "linecolor": "#A2B1C6",
            "ticks": ""
           }
          },
          "title": {
           "x": 0.05
          },
          "xaxis": {
           "automargin": true,
           "gridcolor": "#EBF0F8",
           "linecolor": "#EBF0F8",
           "ticks": "",
           "title": {
            "standoff": 15
           },
           "zerolinecolor": "#EBF0F8",
           "zerolinewidth": 2
          },
          "yaxis": {
           "automargin": true,
           "gridcolor": "#EBF0F8",
           "linecolor": "#EBF0F8",
           "ticks": "",
           "title": {
            "standoff": 15
           },
           "zerolinecolor": "#EBF0F8",
           "zerolinewidth": 2
          }
         }
        },
        "title": {
         "font": {
          "color": "#34495e",
          "size": 18
         },
         "text": "Comment Activity Over Time (Monthly)",
         "x": 0.5,
         "xanchor": "center"
        },
        "width": 1400,
        "xaxis": {
         "anchor": "y",
         "domain": [
          0,
          1
         ],
         "tickangle": 45,
         "tickfont": {
          "size": 11
         },
         "title": {
          "font": {
           "size": 14
          },
          "text": "Month"
         },
         "type": "category"
        },
        "yaxis": {
         "anchor": "x",
         "domain": [
          0,
          1
         ],
         "tickfont": {
          "size": 11
         },
         "title": {
          "font": {
           "size": 14
          },
          "text": "Comments"
         }
        }
       }
      }
     },
     "metadata": {},
     "output_type": "display_data"
    }
   ],
   "source": [
    "# Monthly activity analysis - show temporal patterns\n",
    "print(\"Analyzing temporal patterns...\")\n",
    "\n",
    "# Create monthly comment counts with proper monthly grouping\n",
    "df_with_month = df.copy()\n",
    "df_with_month['month_year'] = pd.to_datetime(df_with_month['post_created_time']).dt.to_period('M')\n",
    "\n",
    "monthly_counts = (df_with_month.groupby('month_year')\n",
    "                  .size()\n",
    "                  .reset_index(name='comment_count'))\n",
    "\n",
    "monthly_counts['month_name'] = monthly_counts['month_year'].astype(str)\n",
    "\n",
    "# Sort chronologically and add rolling average\n",
    "monthly_counts = monthly_counts.sort_values('month_year')\n",
    "monthly_counts['rolling_avg'] = monthly_counts['comment_count'].rolling(6, min_periods=1).mean()\n",
    "\n",
    "print(f\"Dataset spans {len(monthly_counts)} months\")\n",
    "print(f\"Peak activity: {monthly_counts.loc[monthly_counts['comment_count'].idxmax(), 'month_name']} \"\n",
    "      f\"with {monthly_counts['comment_count'].max():,} comments\")\n",
    "\n",
    "# Create time series visualization with explicit monthly bars\n",
    "fig = px.bar(\n",
    "    monthly_counts, \n",
    "    x='month_name', \n",
    "    y='comment_count',\n",
    "    title='Comment Activity Over Time (Monthly)',\n",
    "    labels={'month_name': 'Month', 'comment_count': 'Comments'},\n",
    "    color_discrete_sequence=[TIME_SERIES_BAR]\n",
    ")\n",
    "\n",
    "# Add trend line\n",
    "fig.add_trace(go.Scatter(\n",
    "    x=monthly_counts['month_name'], \n",
    "    y=monthly_counts['rolling_avg'],\n",
    "    name='6-month average',\n",
    "    mode='lines',\n",
    "    line=dict(color=TIME_SERIES_LINE, width=3)\n",
    "))\n",
    "\n",
    "# Enhanced styling with proper monthly spacing\n",
    "fig.update_layout(\n",
    "    height=500, \n",
    "    width=1400,\n",
    "    bargap=0.1,  # Small gap between monthly bars\n",
    "    paper_bgcolor='white',\n",
    "    plot_bgcolor='white',\n",
    "    title=dict(x=0.5, xanchor='center', font=dict(size=18, color=DARK_GREY)),\n",
    "    xaxis=dict(\n",
    "        tickangle=45,\n",
    "        title_font=dict(size=14),\n",
    "        tickfont=dict(size=11),\n",
    "        type='category'  # Ensures each month gets its own bar\n",
    "    ),\n",
    "    yaxis=dict(\n",
    "        title_font=dict(size=14),\n",
    "        tickfont=dict(size=11)\n",
    "    ),\n",
    "    legend=dict(\n",
    "        orientation='h',\n",
    "        yanchor='bottom', y=1.02,\n",
    "        xanchor='center', x=0.5\n",
    "    )\n",
    ")\n",
    "\n",
    "fig.show()"
   ]
  },
  {
   "cell_type": "markdown",
   "id": "90d5d139",
   "metadata": {},
   "source": [
    "### Interpretation\n",
    "Activity begins to climb in October 2023 and then surges sharply in November 2023. This peak aligns with reactions to the October 7 attack and its aftermath, suggesting a short lag between the event and the broader social‑media response.\n",
    "\n",
    "Alsp - Using a 6‑month running average, activity has eased from the early peak but remains high. June 2025 records ~189K posts— the fourth‑highest monthly total since September 2023.\n",
    "\n",
    "https://en.wikipedia.org/wiki/October_7_attacks\n",
    "\n",
    "\n",
    "<img src=\"assets/october_7.png\" alt=\"Alt text\" width=\"800\">"
   ]
  },
  {
   "cell_type": "markdown",
   "id": "05d9e021",
   "metadata": {},
   "source": [
    "### **Initial EDA Summary**\n",
    "\n",
    "Our first-pass analysis reveals a high-quality, well-structured dataset that's \n",
    "ready for meaningful analysis with minimal preprocessing required.\n",
    "\n",
    "**Data quality excellence:** The dataset demonstrates exceptional integrity with \n",
    "zero duplicate `comment_id`s across 3.27 million records and minimal missing \n",
    "values (only 8 columns with any nulls, worst case <0.1%). The 8.7 GB memory \n",
    "footprint reflects rich metadata across 24 columns with diverse data types, \n",
    "suggesting comprehensive data collection.\n",
    "\n",
    "**Temporal coverage and patterns:** The dataset spans from September 2023 to \n",
    "present, perfectly capturing the pre- and post-**October 7th attacks** evolution. \n",
    "Activity shows a dramatic surge from October 2023 (~300K comments) peaking in \n",
    "November 2023, directly aligning with reactions to the October 7th attacks and \n",
    "aftermath. The 6-month rolling average reveals that while activity has moderated \n",
    "from the initial peak, discussion remains elevated well above pre-attack levels, \n",
    "with June 2025 still recording ~189K comments—the fourth-highest monthly total.\n",
    "\n",
    "**Community concentration:** Discussion is heavily concentrated in a few key \n",
    "subreddits, with the top three (`r/IsraelPalestine` 37.5%, `r/worldnews` 24.7%, \n",
    "`r/Palestine` 11.1%) accounting for nearly three-quarters of all activity. This \n",
    "concentration pattern will require subreddit-stratified analysis to avoid \n",
    "conflating platform-wide trends with specific community dynamics.\n",
    "\n",
    "**Engagement patterns:** Communities show distinct discussion styles—\n",
    "`r/IsraelPalestine` combines high volume with deep engagement (129.2 comments/post), \n",
    "while `r/Palestine` favors frequent posting with lighter discussion (20.5 ratio). \n",
    "Viral content subreddits (`r/PublicFreakout`, `r/CrazyFuckingVideos`) show high \n",
    "engagement but may lack substantive political discussion.\n",
    "\n",
    "**Ready for analysis:** The dataset requires minimal cleaning—primarily filtering \n",
    "out viral content communities and constructing text fields from titles and bodies. \n",
    "The strong data quality foundation and clear temporal patterns enable confident \n",
    "progression to stance labeling and temporal analysis phases.\n",
    "\n",
    "----------------"
   ]
  },
  {
   "cell_type": "markdown",
   "id": "91135755",
   "metadata": {},
   "source": [
    "## **Data Preparation**\n",
    "\n",
    "Now that we understand the dataset structure and quality, we'll prepare it for \n",
    "stance analysis by focusing on unique posts, filtering out noise, and constructing \n",
    "clean text fields.\n",
    "\n",
    "### Key preprocessing steps\n",
    "\n",
    "**Extract unique posts:** Convert from comment-heavy format to post-centric view \n",
    "by deduplicating on `post_id`. This eliminates the nested reply structure and \n",
    "gives us one record per original submission, making stance labeling more \n",
    "straightforward and avoiding context-dependent comment interpretation.\n",
    "\n",
    "**Filter uninformative subreddits:** Remove communities that generate high \n",
    "engagement through viral content rather than substantive political discourse. \n",
    "Based on our EDA findings, we'll exclude `r/PublicFreakout`, `r/CrazyFuckingVideos`, \n",
    "and `r/CombatFootage` as they primarily share dramatic footage that generates \n",
    "reactions but lacks the nuanced stance-taking central to our analysis.\n",
    "\n",
    "**Construct text field:** Combine `post_title` and `post_self_text` into a single \n",
    "`text` column for analysis. Post titles provide the main topic framing, while \n",
    "self-text adds context and elaboration. We'll handle missing self-text gracefully \n",
    "(common in link posts) by using title-only when body text is unavailable.\n",
    "\n",
    "**Retain engagement signals:** Keep `post_score` and `post_upvote_ratio` as \n",
    "indicators of community reception and controversy. These metrics help us understand \n",
    "which posts resonated with their audiences and may correlate with stance clarity \n",
    "or polarization.\n",
    "\n",
    "**Temporal standardization:** Ensure `post_created_time` is properly parsed to \n",
    "UTC datetime and derive `date` and `month` fields for time-series analysis.\n",
    "\n",
    "#### Expected output\n",
    "\n",
    "A clean, post-level dataset focused on communities with substantive political \n",
    "discussion, ready for stratified sampling and manual stance labeling."
   ]
  },
  {
   "cell_type": "markdown",
   "id": "7094dee0",
   "metadata": {},
   "source": [
    "#### Step 1: Extract unique posts (deduplicate on post_id)"
   ]
  },
  {
   "cell_type": "code",
   "execution_count": 60,
   "id": "232497a8",
   "metadata": {},
   "outputs": [
    {
     "name": "stdout",
     "output_type": "stream",
     "text": [
      "Extracting unique posts...\n",
      "Reduced from 3,276,061 comments to 61,249 unique posts\n"
     ]
    }
   ],
   "source": [
    "# Step 1: Extract unique posts (deduplicate on post_id)\n",
    "print(\"Extracting unique posts...\")\n",
    "df_posts = df.drop_duplicates(subset=['post_id']).copy()\n",
    "print(f\"Reduced from {len(df):,} comments to {len(df_posts):,} unique posts\")"
   ]
  },
  {
   "cell_type": "markdown",
   "id": "88709e6b",
   "metadata": {},
   "source": [
    "#### Step 2: Filter out uninformative subreddits (viral content communities)"
   ]
  },
  {
   "cell_type": "code",
   "execution_count": 61,
   "id": "30c0bf47",
   "metadata": {},
   "outputs": [
    {
     "name": "stdout",
     "output_type": "stream",
     "text": [
      "\n",
      "Filtering out uninformative subreddits: ['PublicFreakout', 'CrazyFuckingVideos', 'CombatFootage']\n",
      "Removed 4,859 posts from viral content subreddits\n",
      "Remaining posts: 56,390\n"
     ]
    }
   ],
   "source": [
    "# Step 2: Filter out uninformative subreddits (viral content communities)\n",
    "uninformative_subs = ['PublicFreakout', 'CrazyFuckingVideos', 'CombatFootage']\n",
    "print(f\"\\nFiltering out uninformative subreddits: {uninformative_subs}\")\n",
    "\n",
    "df_filtered = df_posts[~df_posts['subreddit'].isin(uninformative_subs)].copy()\n",
    "print(f\"Removed {len(df_posts) - len(df_filtered):,} posts from viral content subreddits\")\n",
    "print(f\"Remaining posts: {len(df_filtered):,}\")"
   ]
  },
  {
   "cell_type": "markdown",
   "id": "03263b9c",
   "metadata": {},
   "source": [
    "#### Step 3: Construct combined text field (title + self_text)"
   ]
  },
  {
   "cell_type": "code",
   "execution_count": 62,
   "id": "fd7d22a9",
   "metadata": {},
   "outputs": [
    {
     "name": "stdout",
     "output_type": "stream",
     "text": [
      "\n",
      "Constructing text field from title and body...\n"
     ]
    },
    {
     "name": "stdout",
     "output_type": "stream",
     "text": [
      "Posts with valid text: 56,390\n"
     ]
    }
   ],
   "source": [
    "# Step 3: Construct combined text field (title + self_text)\n",
    "print(\"\\nConstructing text field from title and body...\")\n",
    "df_filtered['text'] = (\n",
    "    df_filtered['post_title'].fillna('') + ' ' + \n",
    "    df_filtered['post_self_text'].fillna('')\n",
    ").str.strip()\n",
    "\n",
    "# Remove posts with empty text\n",
    "df_filtered = df_filtered[df_filtered['text'].str.len() > 0].copy()\n",
    "print(f\"Posts with valid text: {len(df_filtered):,}\")"
   ]
  },
  {
   "cell_type": "markdown",
   "id": "fb2f5ece",
   "metadata": {},
   "source": [
    "#### Step 4: Keep essential columns for analysis"
   ]
  },
  {
   "cell_type": "code",
   "execution_count": 63,
   "id": "3aae187c",
   "metadata": {},
   "outputs": [],
   "source": [
    "# Step 4: Keep essential columns for analysis\n",
    "columns_to_keep = [\n",
    "    'post_id', 'subreddit', 'text', 'post_created_time', \n",
    "    'post_score', 'post_upvote_ratio', 'author_name'\n",
    "]\n",
    "df_clean = df_filtered[columns_to_keep].copy()"
   ]
  },
  {
   "cell_type": "markdown",
   "id": "09a10610",
   "metadata": {},
   "source": [
    "#### Step 5: Standardize temporal fields"
   ]
  },
  {
   "cell_type": "code",
   "execution_count": 64,
   "id": "6163d3ce",
   "metadata": {},
   "outputs": [
    {
     "name": "stdout",
     "output_type": "stream",
     "text": [
      "\n",
      "Standardizing temporal fields...\n"
     ]
    },
    {
     "name": "stderr",
     "output_type": "stream",
     "text": [
      "C:\\Users\\Danco\\AppData\\Local\\Temp\\ipykernel_5732\\532794357.py:5: UserWarning:\n",
      "\n",
      "Converting to PeriodArray/Index representation will drop timezone information.\n",
      "\n"
     ]
    }
   ],
   "source": [
    "# Step 5: Standardize temporal fields\n",
    "print(\"\\nStandardizing temporal fields...\")\n",
    "df_clean['created_time'] = pd.to_datetime(df_clean['post_created_time'], errors='coerce', utc=True)\n",
    "df_clean['date'] = df_clean['created_time'].dt.date\n",
    "df_clean['month'] = df_clean['created_time'].dt.to_period('M')"
   ]
  },
  {
   "cell_type": "code",
   "execution_count": 65,
   "id": "04b8a6cd",
   "metadata": {},
   "outputs": [
    {
     "name": "stdout",
     "output_type": "stream",
     "text": [
      "📊 DataFrame Summary\n",
      "==================================================\n",
      "Shape: 56,390 rows × 10 columns | Memory: 78.5 MB\n",
      "Types: 6 object | 1 int64 | 1 float64 | 1 datetime64[ns, UTC] | 1 period[M]\n",
      "Missing: None\n",
      "Duplicates: 0 duplicate rows\n",
      "\n"
     ]
    }
   ],
   "source": [
    "show_dataframe_summary(df_clean)"
   ]
  },
  {
   "cell_type": "markdown",
   "id": "5eff6d90",
   "metadata": {},
   "source": [
    "### **Subreddit Distribution After Data Cleaning**\n",
    "\n",
    "Now let's examine how the subreddit landscape changes after our data preparation \n",
    "steps: extracting unique posts, filtering out viral content communities, and \n",
    "focusing on substantive political discussion.\n",
    "\n",
    "**What we're comparing:**\n",
    "- Distribution after removing duplicates and filtering to posts only\n",
    "- Impact of excluding viral content subreddits (PublicFreakout, CrazyFuckingVideos, CombatFootage)\n",
    "- How community hierarchy shifts when we focus on original content rather than comment volume\n",
    "\n",
    "This cleaned view shows us the true distribution of original posts across \n",
    "communities, giving us a better foundation for our stance analysis sampling strategy."
   ]
  },
  {
   "cell_type": "code",
   "execution_count": 66,
   "id": "b2856dfd",
   "metadata": {},
   "outputs": [
    {
     "data": {
      "application/vnd.plotly.v1+json": {
       "config": {
        "plotlyServerURL": "https://plot.ly"
       },
       "data": [
        {
         "cells": {
          "align": "center",
          "fill": {
           "color": "white"
          },
          "font": {
           "size": 12
          },
          "height": 35,
          "line": {
           "color": "#95a5a6"
          },
          "values": [
           [
            "Palestine",
            "worldnews",
            "IsraelPalestine",
            "AskMiddleEast",
            "worldnewsvideo",
            "NonCredibleDefense",
            "IsrealPalestineWar_23",
            "TerrifyingAsFuck",
            "NoahGetTheBoat",
            "ActualPublicFreakouts",
            "AbruptChaos"
           ],
           [
            17437,
            12354,
            9366,
            8606,
            5205,
            1406,
            1300,
            304,
            155,
            129,
            128
           ],
           [
            "30.9%",
            "21.9%",
            "16.6%",
            "15.3%",
            "9.2%",
            "2.5%",
            "2.3%",
            "0.5%",
            "0.3%",
            "0.2%",
            "0.2%"
           ]
          ]
         },
         "domain": {
          "x": [
           0,
           0.45
          ],
          "y": [
           0,
           1
          ]
         },
         "header": {
          "align": "center",
          "fill": {
           "color": "#3498db"
          },
          "font": {
           "color": "white",
           "size": 14
          },
          "values": [
           "Subreddit",
           "Count",
           "PCT (%)"
          ]
         },
         "type": "table"
        },
        {
         "domain": {
          "x": [
           0.55,
           1
          ],
          "y": [
           0,
           1
          ]
         },
         "hovertemplate": "<b>%{label}</b><br>Count: %{value}<br>Percentage: %{percent}<extra></extra>",
         "labels": [
          "Palestine",
          "worldnews",
          "IsraelPalestine",
          "AskMiddleEast",
          "worldnewsvideo",
          "NonCredibleDefense",
          "IsrealPalestineWar_23",
          "TerrifyingAsFuck",
          "NoahGetTheBoat",
          "ActualPublicFreakouts",
          "AbruptChaos"
         ],
         "marker": {
          "colors": [
           "#3498db",
           "#2980b9",
           "#1abc9c",
           "#16a085",
           "#27ae60",
           "#2ecc71",
           "#f39c12",
           "#e67e22",
           "#e74c3c",
           "#c0392b"
          ],
          "line": {
           "color": "white",
           "width": 2
          }
         },
         "textfont": {
          "size": 11
         },
         "textinfo": "label+percent",
         "type": "pie",
         "values": {
          "bdata": "HURCMJYkniFVFH4FFAUwAZsAgQCAAA==",
          "dtype": "i2"
         }
        }
       ],
       "layout": {
        "annotations": [
         {
          "font": {
           "size": 16
          },
          "showarrow": false,
          "text": "Data Table",
          "x": 0.225,
          "xanchor": "center",
          "xref": "paper",
          "y": 1,
          "yanchor": "bottom",
          "yref": "paper"
         },
         {
          "font": {
           "size": 16
          },
          "showarrow": false,
          "text": "Distribution",
          "x": 0.775,
          "xanchor": "center",
          "xref": "paper",
          "y": 1,
          "yanchor": "bottom",
          "yref": "paper"
         }
        ],
        "height": 600,
        "margin": {
         "b": 50,
         "l": 50,
         "r": 50,
         "t": 100
        },
        "paper_bgcolor": "white",
        "plot_bgcolor": "white",
        "template": {
         "data": {
          "bar": [
           {
            "error_x": {
             "color": "#2a3f5f"
            },
            "error_y": {
             "color": "#2a3f5f"
            },
            "marker": {
             "line": {
              "color": "white",
              "width": 0.5
             },
             "pattern": {
              "fillmode": "overlay",
              "size": 10,
              "solidity": 0.2
             }
            },
            "type": "bar"
           }
          ],
          "barpolar": [
           {
            "marker": {
             "line": {
              "color": "white",
              "width": 0.5
             },
             "pattern": {
              "fillmode": "overlay",
              "size": 10,
              "solidity": 0.2
             }
            },
            "type": "barpolar"
           }
          ],
          "carpet": [
           {
            "aaxis": {
             "endlinecolor": "#2a3f5f",
             "gridcolor": "#C8D4E3",
             "linecolor": "#C8D4E3",
             "minorgridcolor": "#C8D4E3",
             "startlinecolor": "#2a3f5f"
            },
            "baxis": {
             "endlinecolor": "#2a3f5f",
             "gridcolor": "#C8D4E3",
             "linecolor": "#C8D4E3",
             "minorgridcolor": "#C8D4E3",
             "startlinecolor": "#2a3f5f"
            },
            "type": "carpet"
           }
          ],
          "choropleth": [
           {
            "colorbar": {
             "outlinewidth": 0,
             "ticks": ""
            },
            "type": "choropleth"
           }
          ],
          "contour": [
           {
            "colorbar": {
             "outlinewidth": 0,
             "ticks": ""
            },
            "colorscale": [
             [
              0,
              "#0d0887"
             ],
             [
              0.1111111111111111,
              "#46039f"
             ],
             [
              0.2222222222222222,
              "#7201a8"
             ],
             [
              0.3333333333333333,
              "#9c179e"
             ],
             [
              0.4444444444444444,
              "#bd3786"
             ],
             [
              0.5555555555555556,
              "#d8576b"
             ],
             [
              0.6666666666666666,
              "#ed7953"
             ],
             [
              0.7777777777777778,
              "#fb9f3a"
             ],
             [
              0.8888888888888888,
              "#fdca26"
             ],
             [
              1,
              "#f0f921"
             ]
            ],
            "type": "contour"
           }
          ],
          "contourcarpet": [
           {
            "colorbar": {
             "outlinewidth": 0,
             "ticks": ""
            },
            "type": "contourcarpet"
           }
          ],
          "heatmap": [
           {
            "colorbar": {
             "outlinewidth": 0,
             "ticks": ""
            },
            "colorscale": [
             [
              0,
              "#0d0887"
             ],
             [
              0.1111111111111111,
              "#46039f"
             ],
             [
              0.2222222222222222,
              "#7201a8"
             ],
             [
              0.3333333333333333,
              "#9c179e"
             ],
             [
              0.4444444444444444,
              "#bd3786"
             ],
             [
              0.5555555555555556,
              "#d8576b"
             ],
             [
              0.6666666666666666,
              "#ed7953"
             ],
             [
              0.7777777777777778,
              "#fb9f3a"
             ],
             [
              0.8888888888888888,
              "#fdca26"
             ],
             [
              1,
              "#f0f921"
             ]
            ],
            "type": "heatmap"
           }
          ],
          "histogram": [
           {
            "marker": {
             "pattern": {
              "fillmode": "overlay",
              "size": 10,
              "solidity": 0.2
             }
            },
            "type": "histogram"
           }
          ],
          "histogram2d": [
           {
            "colorbar": {
             "outlinewidth": 0,
             "ticks": ""
            },
            "colorscale": [
             [
              0,
              "#0d0887"
             ],
             [
              0.1111111111111111,
              "#46039f"
             ],
             [
              0.2222222222222222,
              "#7201a8"
             ],
             [
              0.3333333333333333,
              "#9c179e"
             ],
             [
              0.4444444444444444,
              "#bd3786"
             ],
             [
              0.5555555555555556,
              "#d8576b"
             ],
             [
              0.6666666666666666,
              "#ed7953"
             ],
             [
              0.7777777777777778,
              "#fb9f3a"
             ],
             [
              0.8888888888888888,
              "#fdca26"
             ],
             [
              1,
              "#f0f921"
             ]
            ],
            "type": "histogram2d"
           }
          ],
          "histogram2dcontour": [
           {
            "colorbar": {
             "outlinewidth": 0,
             "ticks": ""
            },
            "colorscale": [
             [
              0,
              "#0d0887"
             ],
             [
              0.1111111111111111,
              "#46039f"
             ],
             [
              0.2222222222222222,
              "#7201a8"
             ],
             [
              0.3333333333333333,
              "#9c179e"
             ],
             [
              0.4444444444444444,
              "#bd3786"
             ],
             [
              0.5555555555555556,
              "#d8576b"
             ],
             [
              0.6666666666666666,
              "#ed7953"
             ],
             [
              0.7777777777777778,
              "#fb9f3a"
             ],
             [
              0.8888888888888888,
              "#fdca26"
             ],
             [
              1,
              "#f0f921"
             ]
            ],
            "type": "histogram2dcontour"
           }
          ],
          "mesh3d": [
           {
            "colorbar": {
             "outlinewidth": 0,
             "ticks": ""
            },
            "type": "mesh3d"
           }
          ],
          "parcoords": [
           {
            "line": {
             "colorbar": {
              "outlinewidth": 0,
              "ticks": ""
             }
            },
            "type": "parcoords"
           }
          ],
          "pie": [
           {
            "automargin": true,
            "type": "pie"
           }
          ],
          "scatter": [
           {
            "fillpattern": {
             "fillmode": "overlay",
             "size": 10,
             "solidity": 0.2
            },
            "type": "scatter"
           }
          ],
          "scatter3d": [
           {
            "line": {
             "colorbar": {
              "outlinewidth": 0,
              "ticks": ""
             }
            },
            "marker": {
             "colorbar": {
              "outlinewidth": 0,
              "ticks": ""
             }
            },
            "type": "scatter3d"
           }
          ],
          "scattercarpet": [
           {
            "marker": {
             "colorbar": {
              "outlinewidth": 0,
              "ticks": ""
             }
            },
            "type": "scattercarpet"
           }
          ],
          "scattergeo": [
           {
            "marker": {
             "colorbar": {
              "outlinewidth": 0,
              "ticks": ""
             }
            },
            "type": "scattergeo"
           }
          ],
          "scattergl": [
           {
            "marker": {
             "colorbar": {
              "outlinewidth": 0,
              "ticks": ""
             }
            },
            "type": "scattergl"
           }
          ],
          "scattermap": [
           {
            "marker": {
             "colorbar": {
              "outlinewidth": 0,
              "ticks": ""
             }
            },
            "type": "scattermap"
           }
          ],
          "scattermapbox": [
           {
            "marker": {
             "colorbar": {
              "outlinewidth": 0,
              "ticks": ""
             }
            },
            "type": "scattermapbox"
           }
          ],
          "scatterpolar": [
           {
            "marker": {
             "colorbar": {
              "outlinewidth": 0,
              "ticks": ""
             }
            },
            "type": "scatterpolar"
           }
          ],
          "scatterpolargl": [
           {
            "marker": {
             "colorbar": {
              "outlinewidth": 0,
              "ticks": ""
             }
            },
            "type": "scatterpolargl"
           }
          ],
          "scatterternary": [
           {
            "marker": {
             "colorbar": {
              "outlinewidth": 0,
              "ticks": ""
             }
            },
            "type": "scatterternary"
           }
          ],
          "surface": [
           {
            "colorbar": {
             "outlinewidth": 0,
             "ticks": ""
            },
            "colorscale": [
             [
              0,
              "#0d0887"
             ],
             [
              0.1111111111111111,
              "#46039f"
             ],
             [
              0.2222222222222222,
              "#7201a8"
             ],
             [
              0.3333333333333333,
              "#9c179e"
             ],
             [
              0.4444444444444444,
              "#bd3786"
             ],
             [
              0.5555555555555556,
              "#d8576b"
             ],
             [
              0.6666666666666666,
              "#ed7953"
             ],
             [
              0.7777777777777778,
              "#fb9f3a"
             ],
             [
              0.8888888888888888,
              "#fdca26"
             ],
             [
              1,
              "#f0f921"
             ]
            ],
            "type": "surface"
           }
          ],
          "table": [
           {
            "cells": {
             "fill": {
              "color": "#EBF0F8"
             },
             "line": {
              "color": "white"
             }
            },
            "header": {
             "fill": {
              "color": "#C8D4E3"
             },
             "line": {
              "color": "white"
             }
            },
            "type": "table"
           }
          ]
         },
         "layout": {
          "annotationdefaults": {
           "arrowcolor": "#2a3f5f",
           "arrowhead": 0,
           "arrowwidth": 1
          },
          "autotypenumbers": "strict",
          "coloraxis": {
           "colorbar": {
            "outlinewidth": 0,
            "ticks": ""
           }
          },
          "colorscale": {
           "diverging": [
            [
             0,
             "#8e0152"
            ],
            [
             0.1,
             "#c51b7d"
            ],
            [
             0.2,
             "#de77ae"
            ],
            [
             0.3,
             "#f1b6da"
            ],
            [
             0.4,
             "#fde0ef"
            ],
            [
             0.5,
             "#f7f7f7"
            ],
            [
             0.6,
             "#e6f5d0"
            ],
            [
             0.7,
             "#b8e186"
            ],
            [
             0.8,
             "#7fbc41"
            ],
            [
             0.9,
             "#4d9221"
            ],
            [
             1,
             "#276419"
            ]
           ],
           "sequential": [
            [
             0,
             "#0d0887"
            ],
            [
             0.1111111111111111,
             "#46039f"
            ],
            [
             0.2222222222222222,
             "#7201a8"
            ],
            [
             0.3333333333333333,
             "#9c179e"
            ],
            [
             0.4444444444444444,
             "#bd3786"
            ],
            [
             0.5555555555555556,
             "#d8576b"
            ],
            [
             0.6666666666666666,
             "#ed7953"
            ],
            [
             0.7777777777777778,
             "#fb9f3a"
            ],
            [
             0.8888888888888888,
             "#fdca26"
            ],
            [
             1,
             "#f0f921"
            ]
           ],
           "sequentialminus": [
            [
             0,
             "#0d0887"
            ],
            [
             0.1111111111111111,
             "#46039f"
            ],
            [
             0.2222222222222222,
             "#7201a8"
            ],
            [
             0.3333333333333333,
             "#9c179e"
            ],
            [
             0.4444444444444444,
             "#bd3786"
            ],
            [
             0.5555555555555556,
             "#d8576b"
            ],
            [
             0.6666666666666666,
             "#ed7953"
            ],
            [
             0.7777777777777778,
             "#fb9f3a"
            ],
            [
             0.8888888888888888,
             "#fdca26"
            ],
            [
             1,
             "#f0f921"
            ]
           ]
          },
          "colorway": [
           "#636efa",
           "#EF553B",
           "#00cc96",
           "#ab63fa",
           "#FFA15A",
           "#19d3f3",
           "#FF6692",
           "#B6E880",
           "#FF97FF",
           "#FECB52"
          ],
          "font": {
           "color": "#2a3f5f"
          },
          "geo": {
           "bgcolor": "white",
           "lakecolor": "white",
           "landcolor": "white",
           "showlakes": true,
           "showland": true,
           "subunitcolor": "#C8D4E3"
          },
          "hoverlabel": {
           "align": "left"
          },
          "hovermode": "closest",
          "mapbox": {
           "style": "light"
          },
          "paper_bgcolor": "white",
          "plot_bgcolor": "white",
          "polar": {
           "angularaxis": {
            "gridcolor": "#EBF0F8",
            "linecolor": "#EBF0F8",
            "ticks": ""
           },
           "bgcolor": "white",
           "radialaxis": {
            "gridcolor": "#EBF0F8",
            "linecolor": "#EBF0F8",
            "ticks": ""
           }
          },
          "scene": {
           "xaxis": {
            "backgroundcolor": "white",
            "gridcolor": "#DFE8F3",
            "gridwidth": 2,
            "linecolor": "#EBF0F8",
            "showbackground": true,
            "ticks": "",
            "zerolinecolor": "#EBF0F8"
           },
           "yaxis": {
            "backgroundcolor": "white",
            "gridcolor": "#DFE8F3",
            "gridwidth": 2,
            "linecolor": "#EBF0F8",
            "showbackground": true,
            "ticks": "",
            "zerolinecolor": "#EBF0F8"
           },
           "zaxis": {
            "backgroundcolor": "white",
            "gridcolor": "#DFE8F3",
            "gridwidth": 2,
            "linecolor": "#EBF0F8",
            "showbackground": true,
            "ticks": "",
            "zerolinecolor": "#EBF0F8"
           }
          },
          "shapedefaults": {
           "line": {
            "color": "#2a3f5f"
           }
          },
          "ternary": {
           "aaxis": {
            "gridcolor": "#DFE8F3",
            "linecolor": "#A2B1C6",
            "ticks": ""
           },
           "baxis": {
            "gridcolor": "#DFE8F3",
            "linecolor": "#A2B1C6",
            "ticks": ""
           },
           "bgcolor": "white",
           "caxis": {
            "gridcolor": "#DFE8F3",
            "linecolor": "#A2B1C6",
            "ticks": ""
           }
          },
          "title": {
           "x": 0.05
          },
          "xaxis": {
           "automargin": true,
           "gridcolor": "#EBF0F8",
           "linecolor": "#EBF0F8",
           "ticks": "",
           "title": {
            "standoff": 15
           },
           "zerolinecolor": "#EBF0F8",
           "zerolinewidth": 2
          },
          "yaxis": {
           "automargin": true,
           "gridcolor": "#EBF0F8",
           "linecolor": "#EBF0F8",
           "ticks": "",
           "title": {
            "standoff": 15
           },
           "zerolinecolor": "#EBF0F8",
           "zerolinewidth": 2
          }
         }
        },
        "title": {
         "font": {
          "color": "#34495e",
          "size": 20
         },
         "text": "<b>Subreddit Distribution (Clean Posts Only)</b>",
         "x": 0.5,
         "xanchor": "center"
        },
        "width": 1400
       }
      }
     },
     "metadata": {},
     "output_type": "display_data"
    }
   ],
   "source": [
    "# Subreddit distribution analysis (cleaned posts only)\n",
    "subreddit_counts = df_clean['subreddit'].value_counts()\n",
    "\n",
    "# Create side-by-side table and pie chart\n",
    "fig = make_subplots(\n",
    "    rows=1, cols=2,\n",
    "    specs=[[{\"type\": \"table\"}, {\"type\": \"pie\"}]],\n",
    "    subplot_titles=[\"Data Table\", \"Distribution\"],\n",
    "    horizontal_spacing=0.1\n",
    ")\n",
    "\n",
    "# Prepare table data with percentages\n",
    "table_data = subreddit_counts.reset_index()\n",
    "table_data.columns = ['Subreddit', 'Count']\n",
    "percentages = (subreddit_counts / subreddit_counts.sum() * 100).round(1)\n",
    "\n",
    "# Add enhanced table\n",
    "fig.add_trace(go.Table(\n",
    "    header=dict(\n",
    "        values=['Subreddit', 'Count', 'PCT (%)'], \n",
    "        fill_color=PRIMARY_BLUE,\n",
    "        font=dict(size=14, color='white'),\n",
    "        align='center'\n",
    "    ),\n",
    "    cells=dict(\n",
    "        values=[\n",
    "            table_data['Subreddit'], \n",
    "            table_data['Count'],\n",
    "            [f\"{p}%\" for p in percentages]\n",
    "        ], \n",
    "        fill_color='white',\n",
    "        font=dict(size=12),\n",
    "        align='center',\n",
    "        height=35,\n",
    "        line_color=LIGHT_GREY\n",
    "    )\n",
    "), row=1, col=1)\n",
    "\n",
    "# Use standard color palette for pie\n",
    "colors = SUBREDDIT_COLORS[:len(subreddit_counts)]\n",
    "\n",
    "# Add enhanced pie chart\n",
    "fig.add_trace(go.Pie(\n",
    "    labels=subreddit_counts.index,\n",
    "    values=subreddit_counts.values,\n",
    "    textinfo='label+percent',\n",
    "    textfont_size=11,\n",
    "    marker=dict(\n",
    "        colors=colors,\n",
    "        line=dict(color='white', width=2)\n",
    "    ),\n",
    "    hovertemplate='<b>%{label}</b><br>Count: %{value}<br>Percentage: %{percent}<extra></extra>'\n",
    "), row=1, col=2)\n",
    "\n",
    "# Enhanced layout\n",
    "fig.update_layout(\n",
    "    height=600, \n",
    "    width=1400,\n",
    "    title=dict(\n",
    "        text='<b>Subreddit Distribution (Clean Posts Only)</b>',\n",
    "        x=0.5, \n",
    "        xanchor='center',\n",
    "        font=dict(size=20, color=DARK_GREY)\n",
    "    ),\n",
    "    paper_bgcolor='white',\n",
    "    plot_bgcolor='white',\n",
    "    margin=dict(l=50, r=50, t=100, b=50)\n",
    ")\n",
    "\n",
    "fig.show()"
   ]
  },
  {
   "cell_type": "markdown",
   "id": "dc875c81",
   "metadata": {},
   "source": [
    "#### Results After Data Cleaning\n",
    "\n",
    "The cleaned dataset shows a significantly different subreddit landscape after \n",
    "removing duplicates and filtering out viral content communities.\n",
    "\n",
    "**Major hierarchy shift:** `r/Palestine` now leads with 30.9% (17,412 posts), \n",
    "followed by `r/worldnews` at 21.9% (12,337 posts) and `r/IsraelPalestine` at \n",
    "16.6% (9,349 posts). This represents a complete reordering from our raw data \n",
    "analysis, where `r/IsraelPalestine` dominated comment volume.\n",
    "\n",
    "**Impact of viral content filtering:** Removing `r/PublicFreakout`, \n",
    "`r/CrazyFuckingVideos`, and `r/CombatFootage` eliminated communities that \n",
    "generated high comment engagement through dramatic content rather than \n",
    "substantive political discussion. The remaining communities focus on news, \n",
    "analysis, and dedicated political conversation.\n",
    "\n",
    "**Palestine's posting dominance:** The shift reveals that `r/Palestine` generates \n",
    "significantly more original posts despite `r/IsraelPalestine` having higher \n",
    "comment engagement per post. This suggests different community behaviors—\n",
    "`r/Palestine` emphasizes content sharing and posting, while `r/IsraelPalestine` \n",
    "emphasizes discussion and debate.\n",
    "\n",
    "**Concentration remains high:** The top four subreddits still account for 84.7% \n",
    "of all posts, indicating that meaningful political discussion about the conflict \n",
    "is concentrated in a small number of specialized communities. This concentration \n",
    "actually strengthens our analysis by focusing on communities where users are \n",
    "genuinely engaged with the political dimensions.\n",
    "\n",
    "**Sampling implications:** This cleaned distribution provides a solid foundation \n",
    "for stratified sampling, ensuring we capture perspectives from the main political \n",
    "discussion venues while avoiding noise from viral video communities.\n",
    "\n",
    "---"
   ]
  },
  {
   "cell_type": "code",
   "execution_count": 67,
   "id": "a84510b4",
   "metadata": {},
   "outputs": [
    {
     "data": {
      "text/html": [
       "<div>\n",
       "<style scoped>\n",
       "    .dataframe tbody tr th:only-of-type {\n",
       "        vertical-align: middle;\n",
       "    }\n",
       "\n",
       "    .dataframe tbody tr th {\n",
       "        vertical-align: top;\n",
       "    }\n",
       "\n",
       "    .dataframe thead th {\n",
       "        text-align: right;\n",
       "    }\n",
       "</style>\n",
       "<table border=\"1\" class=\"dataframe\">\n",
       "  <thead>\n",
       "    <tr style=\"text-align: right;\">\n",
       "      <th></th>\n",
       "      <th>post_id</th>\n",
       "      <th>subreddit</th>\n",
       "      <th>text</th>\n",
       "      <th>post_created_time</th>\n",
       "      <th>post_score</th>\n",
       "      <th>post_upvote_ratio</th>\n",
       "      <th>author_name</th>\n",
       "      <th>created_time</th>\n",
       "      <th>date</th>\n",
       "      <th>month</th>\n",
       "    </tr>\n",
       "  </thead>\n",
       "  <tbody>\n",
       "    <tr>\n",
       "      <th>0</th>\n",
       "      <td>1nlju1z</td>\n",
       "      <td>IsraelPalestine</td>\n",
       "      <td>why doesnt israel simply occupy palestine? btw...</td>\n",
       "      <td>2025-09-20 00:15:34</td>\n",
       "      <td>0</td>\n",
       "      <td>0.35</td>\n",
       "      <td>DrMo7med</td>\n",
       "      <td>2025-09-20 00:15:34+00:00</td>\n",
       "      <td>2025-09-20</td>\n",
       "      <td>2025-09</td>\n",
       "    </tr>\n",
       "    <tr>\n",
       "      <th>1</th>\n",
       "      <td>1nkq78g</td>\n",
       "      <td>NonCredibleDefense</td>\n",
       "      <td>Azov batallion planning the next offensive 🇺🇦💪</td>\n",
       "      <td>2025-09-19 01:21:02</td>\n",
       "      <td>2090</td>\n",
       "      <td>0.97</td>\n",
       "      <td>onil34</td>\n",
       "      <td>2025-09-19 01:21:02+00:00</td>\n",
       "      <td>2025-09-19</td>\n",
       "      <td>2025-09</td>\n",
       "    </tr>\n",
       "    <tr>\n",
       "      <th>2</th>\n",
       "      <td>1nlrk66</td>\n",
       "      <td>IsraelPalestine</td>\n",
       "      <td>How do we bring an end to this unjust actions ...</td>\n",
       "      <td>2025-09-20 07:11:39</td>\n",
       "      <td>0</td>\n",
       "      <td>0.28</td>\n",
       "      <td>mayman233</td>\n",
       "      <td>2025-09-20 07:11:39+00:00</td>\n",
       "      <td>2025-09-20</td>\n",
       "      <td>2025-09</td>\n",
       "    </tr>\n",
       "    <tr>\n",
       "      <th>3</th>\n",
       "      <td>1nl9hcj</td>\n",
       "      <td>Palestine</td>\n",
       "      <td>My fellow Brits, please read and take action T...</td>\n",
       "      <td>2025-09-19 17:14:13</td>\n",
       "      <td>4</td>\n",
       "      <td>0.84</td>\n",
       "      <td>DirectionEven8976</td>\n",
       "      <td>2025-09-19 17:14:13+00:00</td>\n",
       "      <td>2025-09-19</td>\n",
       "      <td>2025-09</td>\n",
       "    </tr>\n",
       "    <tr>\n",
       "      <th>5</th>\n",
       "      <td>1nlmy0q</td>\n",
       "      <td>IsraelPalestine</td>\n",
       "      <td>Is it really a genocide? “Genocide is the deli...</td>\n",
       "      <td>2025-09-20 02:50:22</td>\n",
       "      <td>4</td>\n",
       "      <td>0.54</td>\n",
       "      <td>Recent-Assistant8914</td>\n",
       "      <td>2025-09-20 02:50:22+00:00</td>\n",
       "      <td>2025-09-20</td>\n",
       "      <td>2025-09</td>\n",
       "    </tr>\n",
       "  </tbody>\n",
       "</table>\n",
       "</div>"
      ],
      "text/plain": [
       "   post_id           subreddit  \\\n",
       "0  1nlju1z     IsraelPalestine   \n",
       "1  1nkq78g  NonCredibleDefense   \n",
       "2  1nlrk66     IsraelPalestine   \n",
       "3  1nl9hcj           Palestine   \n",
       "5  1nlmy0q     IsraelPalestine   \n",
       "\n",
       "                                                text    post_created_time  \\\n",
       "0  why doesnt israel simply occupy palestine? btw...  2025-09-20 00:15:34   \n",
       "1     Azov batallion planning the next offensive 🇺🇦💪  2025-09-19 01:21:02   \n",
       "2  How do we bring an end to this unjust actions ...  2025-09-20 07:11:39   \n",
       "3  My fellow Brits, please read and take action T...  2025-09-19 17:14:13   \n",
       "5  Is it really a genocide? “Genocide is the deli...  2025-09-20 02:50:22   \n",
       "\n",
       "   post_score  post_upvote_ratio           author_name  \\\n",
       "0           0               0.35              DrMo7med   \n",
       "1        2090               0.97                onil34   \n",
       "2           0               0.28             mayman233   \n",
       "3           4               0.84     DirectionEven8976   \n",
       "5           4               0.54  Recent-Assistant8914   \n",
       "\n",
       "               created_time        date    month  \n",
       "0 2025-09-20 00:15:34+00:00  2025-09-20  2025-09  \n",
       "1 2025-09-19 01:21:02+00:00  2025-09-19  2025-09  \n",
       "2 2025-09-20 07:11:39+00:00  2025-09-20  2025-09  \n",
       "3 2025-09-19 17:14:13+00:00  2025-09-19  2025-09  \n",
       "5 2025-09-20 02:50:22+00:00  2025-09-20  2025-09  "
      ]
     },
     "execution_count": 67,
     "metadata": {},
     "output_type": "execute_result"
    }
   ],
   "source": [
    "df_clean.head()"
   ]
  },
  {
   "cell_type": "code",
   "execution_count": null,
   "id": "a94dca9f",
   "metadata": {},
   "outputs": [],
   "source": []
  },
  {
   "cell_type": "markdown",
   "id": "91b3fedb",
   "metadata": {},
   "source": [
    "## **Stance labeling**\n",
    "\n",
    "**Why stance instead of sentiment?**\n",
    "Regular sentiment analysis tells you if someone sounds positive, negative, or neutral. But in polarized topics like Israel-Palestine, that's not enough. Someone can write angrily (negative sentiment) while defending Israel, or write sadly (negative sentiment) while supporting Palestine. We need to know *which side* they're taking, not just their emotional tone.\n",
    "\n",
    "**Our approach: dual-target stance**\n",
    "Instead of one label per comment, we assign two:\n",
    "- **Israel stance**: How does this person feel about Israel? {Pro, Anti, Neutral/Unclear}\n",
    "- **Palestine stance**: How does this person feel about Palestine? {Pro, Anti, Neutral/Unclear}\n",
    "\n",
    "**Why two separate labels?**\n",
    "People's positions can be complex:\n",
    "- Pro-Israel AND Pro-Palestine: \"Both peoples deserve safety and self-determination\"\n",
    "- Anti-Israel AND Pro-Palestine: \"Israel is an apartheid state, free Palestine\"\n",
    "- Pro-Israel AND Neutral on Palestine: \"Israel has the right to defend itself\" (no mention of Palestinians)\n",
    "- Neutral on both: \"This is a complicated situation with valid concerns on both sides\"\n",
    "\n",
    "**Real examples of how this works:**\n",
    "\n",
    "*Comment: \"The IDF bombing hospitals is a war crime, but Hamas using human shields is also wrong\"*\n",
    "- Israel stance: **Anti** (criticizes IDF actions)\n",
    "- Palestine stance: **Anti** (criticizes Hamas tactics)\n",
    "\n",
    "*Comment: \"Praying for peace for both Israelis and Palestinians 🙏\"*\n",
    "- Israel stance: **Neutral/Unclear** (supportive but not political)\n",
    "- Palestine stance: **Neutral/Unclear** (supportive but not political)\n",
    "\n",
    "*Comment: \"Israel has every right to defend itself after October 7th\"*\n",
    "- Israel stance: **Pro** (explicitly supports Israel's actions)\n",
    "- Palestine stance: **Neutral/Unclear** (Palestinians/Hamas not directly addressed)\n",
    "\n",
    "*Comment: \"Free Palestine! End the occupation!\"*\n",
    "- Israel stance: **Anti** (opposes Israeli policies)\n",
    "- Palestine stance: **Pro** (supports Palestinian liberation)\n",
    "\n",
    "**The \"Neutral/Unclear\" category**\n",
    "We use this when:\n",
    "- The comment is purely factual: \"The ceasefire was announced at 3pm\"\n",
    "- The stance is genuinely ambiguous: \"This whole situation is heartbreaking\"\n",
    "- The comment mentions the conflict but doesn't take a clear side\n",
    "- Sarcasm or complex irony that's hard to interpret definitively\n",
    "\n",
    "This dual-target approach lets us capture the nuanced reality of how people actually discuss this conflict—it's rarely simple support for one side or the other.\n"
   ]
  },
  {
   "cell_type": "markdown",
   "id": "9c1cae84",
   "metadata": {},
   "source": [
    "### **Stratified Sampling Strategy**\n",
    "\n",
    "**What is stratified sampling?**\n",
    "Instead of randomly picking 1,000 posts from our entire dataset, we divide the data into meaningful groups (strata) and sample from each group. This ensures we get balanced representation across different communities and time periods.\n",
    "\n",
    "**Why use it?**\n",
    "- **Prevents bias:** Without stratification, we might accidentally get 800 samples from r/worldnews and only 10 from r/Palestine\n",
    "- **Ensures coverage:** Every month and every major subreddit gets represented\n",
    "- **Better estimates:** More accurate results than pure random sampling\n",
    "\n",
    "**Our approach: Month × Subreddit strata**\n",
    "We create groups like:\n",
    "- \"2023-10 :: Palestine\" (October 2023 posts from r/Palestine)\n",
    "- \"2023-11 :: worldnews\" (November 2023 posts from r/worldnews)\n",
    "- \"2024-01 :: IsraelPalestine\" (January 2024 posts from r/IsraelPalestine)\n",
    "\n",
    "**How we allocate samples:**\n",
    "Each group gets samples proportional to its **total votes** (not just number of posts). \n",
    "\n",
    "**Why total votes?**\n",
    "- Represents what people actually engaged with (the silent majority)\n",
    "- A post with 10,000 votes matters more than one with 10 votes\n",
    "- Captures genuine public attention, not just posting volume\n",
    "\n",
    "**Example:**\n",
    "- Group A: 100,000 total votes → gets 100 samples\n",
    "- Group B: 50,000 total votes → gets 50 samples  \n",
    "- Group C: 10,000 total votes → gets 10 samples\n",
    "\n",
    "**Safeguards:**\n",
    "- Every group gets at least 1 sample (no group ignored)\n",
    "- Filter r/worldnews to Israel/Palestine topics only\n",
    "- Cap any single group at 10% to prevent domination\n",
    "\n",
    "This gives us a representative sample that reflects both temporal trends and genuine public engagement.\n"
   ]
  },
  {
   "cell_type": "code",
   "execution_count": 68,
   "id": "c844ddf5",
   "metadata": {},
   "outputs": [],
   "source": [
    "# Derive total votes per post (simple, no capping)\n",
    "upvote_ratio = pd.to_numeric(df_clean['post_upvote_ratio'], errors='coerce')\n",
    "post_score   = pd.to_numeric(df_clean['post_score'], errors='coerce')\n",
    "\n",
    "denominator  = 2 * upvote_ratio - 1\n",
    "is_stable    = denominator.abs() >= 1e-3\n",
    "\n",
    "# total_votes = score / (2r - 1); fallback to |score|*4 when unstable/missing\n",
    "total_votes = np.where(is_stable, post_score / denominator, post_score.abs() * 4)\n",
    "total_votes = pd.Series(total_votes, index=df_clean.index).replace([np.inf, -np.inf], np.nan)\n",
    "total_votes = total_votes.fillna(0).clip(lower=0).round()\n",
    "\n",
    "# Optional: estimated up/down (keep nullable Int64)\n",
    "df_clean['total_votes']   = total_votes.astype('Int64')\n",
    "df_clean['est_upvotes']   = ((total_votes + post_score).clip(lower=0).round()).astype('Int64')\n",
    "df_clean['est_downvotes'] = ((total_votes - post_score).clip(lower=0).round()).astype('Int64')\n",
    "\n",
    "# Weight for stratification (no caps)\n",
    "df_clean['total_votes_weight'] = np.log1p(df_clean['total_votes'].astype('float'))"
   ]
  },
  {
   "cell_type": "code",
   "execution_count": 69,
   "id": "1d68d13e",
   "metadata": {},
   "outputs": [
    {
     "data": {
      "text/html": [
       "<div>\n",
       "<style scoped>\n",
       "    .dataframe tbody tr th:only-of-type {\n",
       "        vertical-align: middle;\n",
       "    }\n",
       "\n",
       "    .dataframe tbody tr th {\n",
       "        vertical-align: top;\n",
       "    }\n",
       "\n",
       "    .dataframe thead th {\n",
       "        text-align: right;\n",
       "    }\n",
       "</style>\n",
       "<table border=\"1\" class=\"dataframe\">\n",
       "  <thead>\n",
       "    <tr style=\"text-align: right;\">\n",
       "      <th></th>\n",
       "      <th>subreddit</th>\n",
       "      <th>total_votes</th>\n",
       "    </tr>\n",
       "  </thead>\n",
       "  <tbody>\n",
       "    <tr>\n",
       "      <th>0</th>\n",
       "      <td>worldnews</td>\n",
       "      <td>23288881</td>\n",
       "    </tr>\n",
       "    <tr>\n",
       "      <th>1</th>\n",
       "      <td>Palestine</td>\n",
       "      <td>10720923</td>\n",
       "    </tr>\n",
       "    <tr>\n",
       "      <th>2</th>\n",
       "      <td>NonCredibleDefense</td>\n",
       "      <td>1815863</td>\n",
       "    </tr>\n",
       "    <tr>\n",
       "      <th>3</th>\n",
       "      <td>worldnewsvideo</td>\n",
       "      <td>1785248</td>\n",
       "    </tr>\n",
       "    <tr>\n",
       "      <th>4</th>\n",
       "      <td>AskMiddleEast</td>\n",
       "      <td>929005</td>\n",
       "    </tr>\n",
       "    <tr>\n",
       "      <th>5</th>\n",
       "      <td>IsraelPalestine</td>\n",
       "      <td>648661</td>\n",
       "    </tr>\n",
       "    <tr>\n",
       "      <th>6</th>\n",
       "      <td>TerrifyingAsFuck</td>\n",
       "      <td>446319</td>\n",
       "    </tr>\n",
       "    <tr>\n",
       "      <th>7</th>\n",
       "      <td>AbruptChaos</td>\n",
       "      <td>232074</td>\n",
       "    </tr>\n",
       "    <tr>\n",
       "      <th>8</th>\n",
       "      <td>ActualPublicFreakouts</td>\n",
       "      <td>174151</td>\n",
       "    </tr>\n",
       "    <tr>\n",
       "      <th>9</th>\n",
       "      <td>NoahGetTheBoat</td>\n",
       "      <td>120578</td>\n",
       "    </tr>\n",
       "    <tr>\n",
       "      <th>10</th>\n",
       "      <td>IsrealPalestineWar_23</td>\n",
       "      <td>16409</td>\n",
       "    </tr>\n",
       "  </tbody>\n",
       "</table>\n",
       "</div>"
      ],
      "text/plain": [
       "                subreddit  total_votes\n",
       "0               worldnews     23288881\n",
       "1               Palestine     10720923\n",
       "2      NonCredibleDefense      1815863\n",
       "3          worldnewsvideo      1785248\n",
       "4           AskMiddleEast       929005\n",
       "5         IsraelPalestine       648661\n",
       "6        TerrifyingAsFuck       446319\n",
       "7             AbruptChaos       232074\n",
       "8   ActualPublicFreakouts       174151\n",
       "9          NoahGetTheBoat       120578\n",
       "10  IsrealPalestineWar_23        16409"
      ]
     },
     "execution_count": 69,
     "metadata": {},
     "output_type": "execute_result"
    }
   ],
   "source": [
    "# Total votes by subreddit (simple snapshot)\n",
    "sub_votes = (df_clean.groupby('subreddit')['total_votes']\n",
    "             .sum()\n",
    "             .sort_values(ascending=False)\n",
    "             .reset_index(name='total_votes'))\n",
    "\n",
    "sub_votes.head(15)\n"
   ]
  },
  {
   "cell_type": "code",
   "execution_count": 70,
   "id": "4276e1a4",
   "metadata": {},
   "outputs": [
    {
     "data": {
      "text/html": [
       "<div>\n",
       "<style scoped>\n",
       "    .dataframe tbody tr th:only-of-type {\n",
       "        vertical-align: middle;\n",
       "    }\n",
       "\n",
       "    .dataframe tbody tr th {\n",
       "        vertical-align: top;\n",
       "    }\n",
       "\n",
       "    .dataframe thead th {\n",
       "        text-align: right;\n",
       "    }\n",
       "</style>\n",
       "<table border=\"1\" class=\"dataframe\">\n",
       "  <thead>\n",
       "    <tr style=\"text-align: right;\">\n",
       "      <th></th>\n",
       "      <th>post_id</th>\n",
       "      <th>subreddit</th>\n",
       "      <th>text</th>\n",
       "      <th>post_created_time</th>\n",
       "      <th>post_score</th>\n",
       "      <th>post_upvote_ratio</th>\n",
       "      <th>author_name</th>\n",
       "      <th>created_time</th>\n",
       "      <th>date</th>\n",
       "      <th>month</th>\n",
       "      <th>total_votes</th>\n",
       "      <th>est_upvotes</th>\n",
       "      <th>est_downvotes</th>\n",
       "      <th>total_votes_weight</th>\n",
       "    </tr>\n",
       "  </thead>\n",
       "  <tbody>\n",
       "    <tr>\n",
       "      <th>0</th>\n",
       "      <td>1nlju1z</td>\n",
       "      <td>IsraelPalestine</td>\n",
       "      <td>why doesnt israel simply occupy palestine? btw...</td>\n",
       "      <td>2025-09-20 00:15:34</td>\n",
       "      <td>0</td>\n",
       "      <td>0.35</td>\n",
       "      <td>DrMo7med</td>\n",
       "      <td>2025-09-20 00:15:34+00:00</td>\n",
       "      <td>2025-09-20</td>\n",
       "      <td>2025-09</td>\n",
       "      <td>0</td>\n",
       "      <td>0</td>\n",
       "      <td>0</td>\n",
       "      <td>0.000000</td>\n",
       "    </tr>\n",
       "    <tr>\n",
       "      <th>1</th>\n",
       "      <td>1nkq78g</td>\n",
       "      <td>NonCredibleDefense</td>\n",
       "      <td>Azov batallion planning the next offensive 🇺🇦💪</td>\n",
       "      <td>2025-09-19 01:21:02</td>\n",
       "      <td>2090</td>\n",
       "      <td>0.97</td>\n",
       "      <td>onil34</td>\n",
       "      <td>2025-09-19 01:21:02+00:00</td>\n",
       "      <td>2025-09-19</td>\n",
       "      <td>2025-09</td>\n",
       "      <td>2223</td>\n",
       "      <td>4313</td>\n",
       "      <td>133</td>\n",
       "      <td>7.707063</td>\n",
       "    </tr>\n",
       "    <tr>\n",
       "      <th>2</th>\n",
       "      <td>1nlrk66</td>\n",
       "      <td>IsraelPalestine</td>\n",
       "      <td>How do we bring an end to this unjust actions ...</td>\n",
       "      <td>2025-09-20 07:11:39</td>\n",
       "      <td>0</td>\n",
       "      <td>0.28</td>\n",
       "      <td>mayman233</td>\n",
       "      <td>2025-09-20 07:11:39+00:00</td>\n",
       "      <td>2025-09-20</td>\n",
       "      <td>2025-09</td>\n",
       "      <td>0</td>\n",
       "      <td>0</td>\n",
       "      <td>0</td>\n",
       "      <td>0.000000</td>\n",
       "    </tr>\n",
       "    <tr>\n",
       "      <th>3</th>\n",
       "      <td>1nl9hcj</td>\n",
       "      <td>Palestine</td>\n",
       "      <td>My fellow Brits, please read and take action T...</td>\n",
       "      <td>2025-09-19 17:14:13</td>\n",
       "      <td>4</td>\n",
       "      <td>0.84</td>\n",
       "      <td>DirectionEven8976</td>\n",
       "      <td>2025-09-19 17:14:13+00:00</td>\n",
       "      <td>2025-09-19</td>\n",
       "      <td>2025-09</td>\n",
       "      <td>6</td>\n",
       "      <td>10</td>\n",
       "      <td>2</td>\n",
       "      <td>1.945910</td>\n",
       "    </tr>\n",
       "    <tr>\n",
       "      <th>5</th>\n",
       "      <td>1nlmy0q</td>\n",
       "      <td>IsraelPalestine</td>\n",
       "      <td>Is it really a genocide? “Genocide is the deli...</td>\n",
       "      <td>2025-09-20 02:50:22</td>\n",
       "      <td>4</td>\n",
       "      <td>0.54</td>\n",
       "      <td>Recent-Assistant8914</td>\n",
       "      <td>2025-09-20 02:50:22+00:00</td>\n",
       "      <td>2025-09-20</td>\n",
       "      <td>2025-09</td>\n",
       "      <td>50</td>\n",
       "      <td>54</td>\n",
       "      <td>46</td>\n",
       "      <td>3.931826</td>\n",
       "    </tr>\n",
       "  </tbody>\n",
       "</table>\n",
       "</div>"
      ],
      "text/plain": [
       "   post_id           subreddit  \\\n",
       "0  1nlju1z     IsraelPalestine   \n",
       "1  1nkq78g  NonCredibleDefense   \n",
       "2  1nlrk66     IsraelPalestine   \n",
       "3  1nl9hcj           Palestine   \n",
       "5  1nlmy0q     IsraelPalestine   \n",
       "\n",
       "                                                text    post_created_time  \\\n",
       "0  why doesnt israel simply occupy palestine? btw...  2025-09-20 00:15:34   \n",
       "1     Azov batallion planning the next offensive 🇺🇦💪  2025-09-19 01:21:02   \n",
       "2  How do we bring an end to this unjust actions ...  2025-09-20 07:11:39   \n",
       "3  My fellow Brits, please read and take action T...  2025-09-19 17:14:13   \n",
       "5  Is it really a genocide? “Genocide is the deli...  2025-09-20 02:50:22   \n",
       "\n",
       "   post_score  post_upvote_ratio           author_name  \\\n",
       "0           0               0.35              DrMo7med   \n",
       "1        2090               0.97                onil34   \n",
       "2           0               0.28             mayman233   \n",
       "3           4               0.84     DirectionEven8976   \n",
       "5           4               0.54  Recent-Assistant8914   \n",
       "\n",
       "               created_time        date    month  total_votes  est_upvotes  \\\n",
       "0 2025-09-20 00:15:34+00:00  2025-09-20  2025-09            0            0   \n",
       "1 2025-09-19 01:21:02+00:00  2025-09-19  2025-09         2223         4313   \n",
       "2 2025-09-20 07:11:39+00:00  2025-09-20  2025-09            0            0   \n",
       "3 2025-09-19 17:14:13+00:00  2025-09-19  2025-09            6           10   \n",
       "5 2025-09-20 02:50:22+00:00  2025-09-20  2025-09           50           54   \n",
       "\n",
       "   est_downvotes  total_votes_weight  \n",
       "0              0            0.000000  \n",
       "1            133            7.707063  \n",
       "2              0            0.000000  \n",
       "3              2            1.945910  \n",
       "5             46            3.931826  "
      ]
     },
     "execution_count": 70,
     "metadata": {},
     "output_type": "execute_result"
    }
   ],
   "source": [
    "df_clean.head()"
   ]
  },
  {
   "cell_type": "code",
   "execution_count": 71,
   "id": "08dad514",
   "metadata": {},
   "outputs": [
    {
     "name": "stdout",
     "output_type": "stream",
     "text": [
      "Creating sampling strata...\n",
      "Created 257 strata (month-subreddit combinations)\n",
      "Total samples to allocate: 1098\n",
      "Range: 1 to 27 samples per stratum\n"
     ]
    }
   ],
   "source": [
    "# Create sampling strata: Month × Subreddit\n",
    "print(\"Creating sampling strata...\")\n",
    "\n",
    "# Create month-subreddit combinations\n",
    "df_clean['stratum'] = df_clean['month'].astype(str) + ' :: ' + df_clean['subreddit']\n",
    "\n",
    "# Calculate stratum statistics\n",
    "stratum_stats = df_clean.groupby('stratum').agg({\n",
    "    'post_id': 'count',                    # Number of posts\n",
    "    'total_votes': 'sum',                  # Total votes (our weighting metric)\n",
    "    'total_votes_weight': 'sum',           # Log-weighted votes for stability\n",
    "    'post_score': 'mean',                  # Average post score\n",
    "    'post_upvote_ratio': 'mean'            # Average upvote ratio\n",
    "}).round(1)\n",
    "\n",
    "# Rename columns for clarity\n",
    "stratum_stats.columns = ['Posts', 'Total_Votes', 'Weighted_Votes', 'Avg_Score', 'Avg_Upvote_Ratio']\n",
    "stratum_stats = stratum_stats.reset_index()\n",
    "\n",
    "# Calculate proportions for sample allocation\n",
    "total_weighted_votes = stratum_stats['Weighted_Votes'].sum()\n",
    "stratum_stats['Vote_Proportion'] = (stratum_stats['Weighted_Votes'] / total_weighted_votes * 100).round(2)\n",
    "\n",
    "# Allocate 1000 samples proportionally\n",
    "TARGET_SAMPLES = 1000\n",
    "stratum_stats['Allocated_Samples'] = (stratum_stats['Weighted_Votes'] / total_weighted_votes * TARGET_SAMPLES).round().astype(int)\n",
    "\n",
    "# Ensure minimum 1 sample per stratum\n",
    "stratum_stats['Allocated_Samples'] = stratum_stats['Allocated_Samples'].clip(lower=1)\n",
    "\n",
    "# Sort by allocated samples (descending) to see which strata get the most\n",
    "stratum_stats = stratum_stats.sort_values('Allocated_Samples', ascending=False)\n",
    "\n",
    "print(f\"Created {len(stratum_stats)} strata (month-subreddit combinations)\")\n",
    "print(f\"Total samples to allocate: {stratum_stats['Allocated_Samples'].sum()}\")\n",
    "print(f\"Range: {stratum_stats['Allocated_Samples'].min()} to {stratum_stats['Allocated_Samples'].max()} samples per stratum\")\n"
   ]
  },
  {
   "cell_type": "code",
   "execution_count": 72,
   "id": "98009b6b",
   "metadata": {},
   "outputs": [
    {
     "data": {
      "application/vnd.plotly.v1+json": {
       "config": {
        "plotlyServerURL": "https://plot.ly"
       },
       "data": [
        {
         "marker": {
          "color": "#3498db"
         },
         "orientation": "h",
         "showlegend": false,
         "text": {
          "bdata": "AAAAAAAAO0AAAAAAAAA4QAAAAAAAADZAAAAAAAAANkAAAAAAAAA1QAAAAAAAADVAAAAAAAAAM0AAAAAAAAAxQAAAAAAAADFAAAAAAAAAMUAAAAAAAAAwQAAAAAAAADBAAAAAAAAALkAAAAAAAAAuQAAAAAAAAC5AAAAAAAAALkAAAAAAAAAsQAAAAAAAACxAAAAAAAAALEAAAAAAAAAsQA==",
          "dtype": "f8"
         },
         "textposition": "outside",
         "type": "bar",
         "x": {
          "bdata": "GxgWFhUVExERERAQDw8PDw4ODg4=",
          "dtype": "i1"
         },
         "xaxis": "x",
         "y": [
          "2023-12::Palestine",
          "2024-01::Palestine",
          "2024-03::Palestine",
          "2023-11::Palestine",
          "2024-05::Palestine",
          "2024-04::Palestine",
          "2024-02::Palestine",
          "2023-12::worldnews",
          "2024-10::Palestine",
          "2025-07::Palestine",
          "2024-04::worldnews",
          "2025-08::Palestine",
          "2024-05::worldnews",
          "2024-10::worldnews",
          "2024-06::Palestine",
          "2023-11::IsraelPalest",
          "2024-08::worldnews",
          "2024-09::Palestine",
          "2025-06::Palestine",
          "2025-06::worldnews"
         ],
         "yaxis": "y"
        },
        {
         "line": {
          "color": "#e67e22",
          "width": 3
         },
         "marker": {
          "color": "#e67e22",
          "size": 8
         },
         "mode": "lines+markers",
         "name": "Total Votes",
         "showlegend": false,
         "type": "scatter",
         "x": [
          "2023-09",
          "2023-10",
          "2023-11",
          "2023-12",
          "2024-01",
          "2024-02",
          "2024-03",
          "2024-04",
          "2024-05",
          "2024-06",
          "2024-07",
          "2024-08",
          "2024-09",
          "2024-10",
          "2024-11",
          "2024-12",
          "2025-01",
          "2025-02",
          "2025-03",
          "2025-04",
          "2025-05",
          "2025-06",
          "2025-07",
          "2025-08",
          "2025-09"
         ],
         "xaxis": "x2",
         "y": {
          "bdata": "kqAAAI3WAQDqPR4ArJEhAJNFGwD0LRgAb8UgAMPRJgCLHiMAcXAZABDAFgASUBkAB0QaAFTDJgAg0BgARssSAMsqFgASeREACKUWAHf2EgCunhcAaOwmALwrFwDaXxkAaygOAA==",
          "dtype": "i4"
         },
         "yaxis": "y2"
        },
        {
         "marker": {
          "color": "#27ae60"
         },
         "showlegend": false,
         "text": [
          "366",
          "262",
          "121",
          "99",
          "95",
          "36",
          "25",
          "25",
          "25",
          "24",
          "20"
         ],
         "textposition": "outside",
         "type": "bar",
         "x": [
          "Palestine",
          "worldnews",
          "AskMiddleEast",
          "worldnewsvideo",
          "IsraelPalestine",
          "NonCredibleDefense",
          "AbruptChaos",
          "TerrifyingAsFuck",
          "NoahGetTheBoat",
          "ActualPublicFreakouts",
          "IsrealPalestineWar_23"
         ],
         "xaxis": "x3",
         "y": {
          "bdata": "bgEGAXkAYwBfACQAGQAZABkAGAAUAA==",
          "dtype": "i2"
         },
         "yaxis": "y3"
        },
        {
         "domain": {
          "x": [
           0.56,
           1
          ],
          "y": [
           0,
           0.425
          ]
         },
         "hole": 0.3,
         "labels": [
          "Palestine",
          "worldnews",
          "AskMiddleEast",
          "worldnewsvideo",
          "IsraelPalestine",
          "NonCredibleDefense",
          "AbruptChaos",
          "TerrifyingAsFuck",
          "NoahGetTheBoat",
          "ActualPublicFreakouts",
          "IsrealPalestineWar_23"
         ],
         "marker": {
          "colors": [
           "#3498db",
           "#e67e22",
           "#27ae60",
           "#e74c3c",
           "#9B59B6",
           "#E67E22",
           "#1ABC9C",
           "#E74C3C"
          ]
         },
         "showlegend": false,
         "textinfo": "label+percent",
         "textposition": "outside",
         "type": "pie",
         "values": {
          "bdata": "bgEGAXkAYwBfACQAGQAZABkAGAAUAA==",
          "dtype": "i2"
         }
        }
       ],
       "layout": {
        "annotations": [
         {
          "font": {
           "size": 16
          },
          "showarrow": false,
          "text": "<b>Top 20 Strata (Month :: Subreddit)</b>",
          "x": 0.22,
          "xanchor": "center",
          "xref": "paper",
          "y": 1,
          "yanchor": "bottom",
          "yref": "paper"
         },
         {
          "font": {
           "size": 16
          },
          "showarrow": false,
          "text": "<b>Monthly Total Votes Timeline</b>",
          "x": 0.78,
          "xanchor": "center",
          "xref": "paper",
          "y": 1,
          "yanchor": "bottom",
          "yref": "paper"
         },
         {
          "font": {
           "size": 16
          },
          "showarrow": false,
          "text": "<b>Subreddit Distribution (Log Scale)</b>",
          "x": 0.22,
          "xanchor": "center",
          "xref": "paper",
          "y": 0.425,
          "yanchor": "bottom",
          "yref": "paper"
         },
         {
          "font": {
           "size": 16
          },
          "showarrow": false,
          "text": "<b>Sample Allocation by Subreddit</b>",
          "x": 0.78,
          "xanchor": "center",
          "xref": "paper",
          "y": 0.425,
          "yanchor": "bottom",
          "yref": "paper"
         }
        ],
        "height": 1000,
        "paper_bgcolor": "white",
        "plot_bgcolor": "white",
        "template": {
         "data": {
          "bar": [
           {
            "error_x": {
             "color": "#2a3f5f"
            },
            "error_y": {
             "color": "#2a3f5f"
            },
            "marker": {
             "line": {
              "color": "white",
              "width": 0.5
             },
             "pattern": {
              "fillmode": "overlay",
              "size": 10,
              "solidity": 0.2
             }
            },
            "type": "bar"
           }
          ],
          "barpolar": [
           {
            "marker": {
             "line": {
              "color": "white",
              "width": 0.5
             },
             "pattern": {
              "fillmode": "overlay",
              "size": 10,
              "solidity": 0.2
             }
            },
            "type": "barpolar"
           }
          ],
          "carpet": [
           {
            "aaxis": {
             "endlinecolor": "#2a3f5f",
             "gridcolor": "#C8D4E3",
             "linecolor": "#C8D4E3",
             "minorgridcolor": "#C8D4E3",
             "startlinecolor": "#2a3f5f"
            },
            "baxis": {
             "endlinecolor": "#2a3f5f",
             "gridcolor": "#C8D4E3",
             "linecolor": "#C8D4E3",
             "minorgridcolor": "#C8D4E3",
             "startlinecolor": "#2a3f5f"
            },
            "type": "carpet"
           }
          ],
          "choropleth": [
           {
            "colorbar": {
             "outlinewidth": 0,
             "ticks": ""
            },
            "type": "choropleth"
           }
          ],
          "contour": [
           {
            "colorbar": {
             "outlinewidth": 0,
             "ticks": ""
            },
            "colorscale": [
             [
              0,
              "#0d0887"
             ],
             [
              0.1111111111111111,
              "#46039f"
             ],
             [
              0.2222222222222222,
              "#7201a8"
             ],
             [
              0.3333333333333333,
              "#9c179e"
             ],
             [
              0.4444444444444444,
              "#bd3786"
             ],
             [
              0.5555555555555556,
              "#d8576b"
             ],
             [
              0.6666666666666666,
              "#ed7953"
             ],
             [
              0.7777777777777778,
              "#fb9f3a"
             ],
             [
              0.8888888888888888,
              "#fdca26"
             ],
             [
              1,
              "#f0f921"
             ]
            ],
            "type": "contour"
           }
          ],
          "contourcarpet": [
           {
            "colorbar": {
             "outlinewidth": 0,
             "ticks": ""
            },
            "type": "contourcarpet"
           }
          ],
          "heatmap": [
           {
            "colorbar": {
             "outlinewidth": 0,
             "ticks": ""
            },
            "colorscale": [
             [
              0,
              "#0d0887"
             ],
             [
              0.1111111111111111,
              "#46039f"
             ],
             [
              0.2222222222222222,
              "#7201a8"
             ],
             [
              0.3333333333333333,
              "#9c179e"
             ],
             [
              0.4444444444444444,
              "#bd3786"
             ],
             [
              0.5555555555555556,
              "#d8576b"
             ],
             [
              0.6666666666666666,
              "#ed7953"
             ],
             [
              0.7777777777777778,
              "#fb9f3a"
             ],
             [
              0.8888888888888888,
              "#fdca26"
             ],
             [
              1,
              "#f0f921"
             ]
            ],
            "type": "heatmap"
           }
          ],
          "histogram": [
           {
            "marker": {
             "pattern": {
              "fillmode": "overlay",
              "size": 10,
              "solidity": 0.2
             }
            },
            "type": "histogram"
           }
          ],
          "histogram2d": [
           {
            "colorbar": {
             "outlinewidth": 0,
             "ticks": ""
            },
            "colorscale": [
             [
              0,
              "#0d0887"
             ],
             [
              0.1111111111111111,
              "#46039f"
             ],
             [
              0.2222222222222222,
              "#7201a8"
             ],
             [
              0.3333333333333333,
              "#9c179e"
             ],
             [
              0.4444444444444444,
              "#bd3786"
             ],
             [
              0.5555555555555556,
              "#d8576b"
             ],
             [
              0.6666666666666666,
              "#ed7953"
             ],
             [
              0.7777777777777778,
              "#fb9f3a"
             ],
             [
              0.8888888888888888,
              "#fdca26"
             ],
             [
              1,
              "#f0f921"
             ]
            ],
            "type": "histogram2d"
           }
          ],
          "histogram2dcontour": [
           {
            "colorbar": {
             "outlinewidth": 0,
             "ticks": ""
            },
            "colorscale": [
             [
              0,
              "#0d0887"
             ],
             [
              0.1111111111111111,
              "#46039f"
             ],
             [
              0.2222222222222222,
              "#7201a8"
             ],
             [
              0.3333333333333333,
              "#9c179e"
             ],
             [
              0.4444444444444444,
              "#bd3786"
             ],
             [
              0.5555555555555556,
              "#d8576b"
             ],
             [
              0.6666666666666666,
              "#ed7953"
             ],
             [
              0.7777777777777778,
              "#fb9f3a"
             ],
             [
              0.8888888888888888,
              "#fdca26"
             ],
             [
              1,
              "#f0f921"
             ]
            ],
            "type": "histogram2dcontour"
           }
          ],
          "mesh3d": [
           {
            "colorbar": {
             "outlinewidth": 0,
             "ticks": ""
            },
            "type": "mesh3d"
           }
          ],
          "parcoords": [
           {
            "line": {
             "colorbar": {
              "outlinewidth": 0,
              "ticks": ""
             }
            },
            "type": "parcoords"
           }
          ],
          "pie": [
           {
            "automargin": true,
            "type": "pie"
           }
          ],
          "scatter": [
           {
            "fillpattern": {
             "fillmode": "overlay",
             "size": 10,
             "solidity": 0.2
            },
            "type": "scatter"
           }
          ],
          "scatter3d": [
           {
            "line": {
             "colorbar": {
              "outlinewidth": 0,
              "ticks": ""
             }
            },
            "marker": {
             "colorbar": {
              "outlinewidth": 0,
              "ticks": ""
             }
            },
            "type": "scatter3d"
           }
          ],
          "scattercarpet": [
           {
            "marker": {
             "colorbar": {
              "outlinewidth": 0,
              "ticks": ""
             }
            },
            "type": "scattercarpet"
           }
          ],
          "scattergeo": [
           {
            "marker": {
             "colorbar": {
              "outlinewidth": 0,
              "ticks": ""
             }
            },
            "type": "scattergeo"
           }
          ],
          "scattergl": [
           {
            "marker": {
             "colorbar": {
              "outlinewidth": 0,
              "ticks": ""
             }
            },
            "type": "scattergl"
           }
          ],
          "scattermap": [
           {
            "marker": {
             "colorbar": {
              "outlinewidth": 0,
              "ticks": ""
             }
            },
            "type": "scattermap"
           }
          ],
          "scattermapbox": [
           {
            "marker": {
             "colorbar": {
              "outlinewidth": 0,
              "ticks": ""
             }
            },
            "type": "scattermapbox"
           }
          ],
          "scatterpolar": [
           {
            "marker": {
             "colorbar": {
              "outlinewidth": 0,
              "ticks": ""
             }
            },
            "type": "scatterpolar"
           }
          ],
          "scatterpolargl": [
           {
            "marker": {
             "colorbar": {
              "outlinewidth": 0,
              "ticks": ""
             }
            },
            "type": "scatterpolargl"
           }
          ],
          "scatterternary": [
           {
            "marker": {
             "colorbar": {
              "outlinewidth": 0,
              "ticks": ""
             }
            },
            "type": "scatterternary"
           }
          ],
          "surface": [
           {
            "colorbar": {
             "outlinewidth": 0,
             "ticks": ""
            },
            "colorscale": [
             [
              0,
              "#0d0887"
             ],
             [
              0.1111111111111111,
              "#46039f"
             ],
             [
              0.2222222222222222,
              "#7201a8"
             ],
             [
              0.3333333333333333,
              "#9c179e"
             ],
             [
              0.4444444444444444,
              "#bd3786"
             ],
             [
              0.5555555555555556,
              "#d8576b"
             ],
             [
              0.6666666666666666,
              "#ed7953"
             ],
             [
              0.7777777777777778,
              "#fb9f3a"
             ],
             [
              0.8888888888888888,
              "#fdca26"
             ],
             [
              1,
              "#f0f921"
             ]
            ],
            "type": "surface"
           }
          ],
          "table": [
           {
            "cells": {
             "fill": {
              "color": "#EBF0F8"
             },
             "line": {
              "color": "white"
             }
            },
            "header": {
             "fill": {
              "color": "#C8D4E3"
             },
             "line": {
              "color": "white"
             }
            },
            "type": "table"
           }
          ]
         },
         "layout": {
          "annotationdefaults": {
           "arrowcolor": "#2a3f5f",
           "arrowhead": 0,
           "arrowwidth": 1
          },
          "autotypenumbers": "strict",
          "coloraxis": {
           "colorbar": {
            "outlinewidth": 0,
            "ticks": ""
           }
          },
          "colorscale": {
           "diverging": [
            [
             0,
             "#8e0152"
            ],
            [
             0.1,
             "#c51b7d"
            ],
            [
             0.2,
             "#de77ae"
            ],
            [
             0.3,
             "#f1b6da"
            ],
            [
             0.4,
             "#fde0ef"
            ],
            [
             0.5,
             "#f7f7f7"
            ],
            [
             0.6,
             "#e6f5d0"
            ],
            [
             0.7,
             "#b8e186"
            ],
            [
             0.8,
             "#7fbc41"
            ],
            [
             0.9,
             "#4d9221"
            ],
            [
             1,
             "#276419"
            ]
           ],
           "sequential": [
            [
             0,
             "#0d0887"
            ],
            [
             0.1111111111111111,
             "#46039f"
            ],
            [
             0.2222222222222222,
             "#7201a8"
            ],
            [
             0.3333333333333333,
             "#9c179e"
            ],
            [
             0.4444444444444444,
             "#bd3786"
            ],
            [
             0.5555555555555556,
             "#d8576b"
            ],
            [
             0.6666666666666666,
             "#ed7953"
            ],
            [
             0.7777777777777778,
             "#fb9f3a"
            ],
            [
             0.8888888888888888,
             "#fdca26"
            ],
            [
             1,
             "#f0f921"
            ]
           ],
           "sequentialminus": [
            [
             0,
             "#0d0887"
            ],
            [
             0.1111111111111111,
             "#46039f"
            ],
            [
             0.2222222222222222,
             "#7201a8"
            ],
            [
             0.3333333333333333,
             "#9c179e"
            ],
            [
             0.4444444444444444,
             "#bd3786"
            ],
            [
             0.5555555555555556,
             "#d8576b"
            ],
            [
             0.6666666666666666,
             "#ed7953"
            ],
            [
             0.7777777777777778,
             "#fb9f3a"
            ],
            [
             0.8888888888888888,
             "#fdca26"
            ],
            [
             1,
             "#f0f921"
            ]
           ]
          },
          "colorway": [
           "#636efa",
           "#EF553B",
           "#00cc96",
           "#ab63fa",
           "#FFA15A",
           "#19d3f3",
           "#FF6692",
           "#B6E880",
           "#FF97FF",
           "#FECB52"
          ],
          "font": {
           "color": "#2a3f5f"
          },
          "geo": {
           "bgcolor": "white",
           "lakecolor": "white",
           "landcolor": "white",
           "showlakes": true,
           "showland": true,
           "subunitcolor": "#C8D4E3"
          },
          "hoverlabel": {
           "align": "left"
          },
          "hovermode": "closest",
          "mapbox": {
           "style": "light"
          },
          "paper_bgcolor": "white",
          "plot_bgcolor": "white",
          "polar": {
           "angularaxis": {
            "gridcolor": "#EBF0F8",
            "linecolor": "#EBF0F8",
            "ticks": ""
           },
           "bgcolor": "white",
           "radialaxis": {
            "gridcolor": "#EBF0F8",
            "linecolor": "#EBF0F8",
            "ticks": ""
           }
          },
          "scene": {
           "xaxis": {
            "backgroundcolor": "white",
            "gridcolor": "#DFE8F3",
            "gridwidth": 2,
            "linecolor": "#EBF0F8",
            "showbackground": true,
            "ticks": "",
            "zerolinecolor": "#EBF0F8"
           },
           "yaxis": {
            "backgroundcolor": "white",
            "gridcolor": "#DFE8F3",
            "gridwidth": 2,
            "linecolor": "#EBF0F8",
            "showbackground": true,
            "ticks": "",
            "zerolinecolor": "#EBF0F8"
           },
           "zaxis": {
            "backgroundcolor": "white",
            "gridcolor": "#DFE8F3",
            "gridwidth": 2,
            "linecolor": "#EBF0F8",
            "showbackground": true,
            "ticks": "",
            "zerolinecolor": "#EBF0F8"
           }
          },
          "shapedefaults": {
           "line": {
            "color": "#2a3f5f"
           }
          },
          "ternary": {
           "aaxis": {
            "gridcolor": "#DFE8F3",
            "linecolor": "#A2B1C6",
            "ticks": ""
           },
           "baxis": {
            "gridcolor": "#DFE8F3",
            "linecolor": "#A2B1C6",
            "ticks": ""
           },
           "bgcolor": "white",
           "caxis": {
            "gridcolor": "#DFE8F3",
            "linecolor": "#A2B1C6",
            "ticks": ""
           }
          },
          "title": {
           "x": 0.05
          },
          "xaxis": {
           "automargin": true,
           "gridcolor": "#EBF0F8",
           "linecolor": "#EBF0F8",
           "ticks": "",
           "title": {
            "standoff": 15
           },
           "zerolinecolor": "#EBF0F8",
           "zerolinewidth": 2
          },
          "yaxis": {
           "automargin": true,
           "gridcolor": "#EBF0F8",
           "linecolor": "#EBF0F8",
           "ticks": "",
           "title": {
            "standoff": 15
           },
           "zerolinecolor": "#EBF0F8",
           "zerolinewidth": 2
          }
         }
        },
        "title": {
         "font": {
          "size": 20
         },
         "text": "<b>Stratified Sampling Analysis: Breaking News Impact on Allocation</b>",
         "x": 0.5,
         "xanchor": "center"
        },
        "width": 1600,
        "xaxis": {
         "anchor": "y",
         "domain": [
          0,
          0.44
         ],
         "title": {
          "text": "Allocated Samples"
         }
        },
        "xaxis2": {
         "anchor": "y2",
         "domain": [
          0.56,
          1
         ],
         "tickangle": 45,
         "title": {
          "text": "Month"
         }
        },
        "xaxis3": {
         "anchor": "y3",
         "domain": [
          0,
          0.44
         ],
         "tickangle": 45,
         "title": {
          "text": "Subreddit"
         }
        },
        "yaxis": {
         "anchor": "x",
         "categoryorder": "total ascending",
         "domain": [
          0.575,
          1
         ]
        },
        "yaxis2": {
         "anchor": "x2",
         "domain": [
          0.575,
          1
         ],
         "tickformat": ".0s",
         "title": {
          "text": "Total Votes (Millions)"
         }
        },
        "yaxis3": {
         "anchor": "x3",
         "domain": [
          0,
          0.425
         ],
         "title": {
          "text": "Allocated Samples"
         },
         "type": "log"
        }
       }
      }
     },
     "metadata": {},
     "output_type": "display_data"
    }
   ],
   "source": [
    "# Enhanced stratification allocation visualization\n",
    "fig = make_subplots(\n",
    "    rows=2, cols=2,\n",
    "    subplot_titles=[\n",
    "        '<b>Top 20 Strata (Month :: Subreddit)</b>',\n",
    "        '<b>Monthly Total Votes Timeline</b>',\n",
    "        '<b>Subreddit Distribution (Log Scale)</b>',\n",
    "        '<b>Sample Allocation by Subreddit</b>'\n",
    "    ],\n",
    "    specs=[[{\"type\": \"bar\"}, {\"type\": \"scatter\"}], \n",
    "           [{\"type\": \"bar\"}, {\"type\": \"pie\"}]],\n",
    "    vertical_spacing=0.15,\n",
    "    horizontal_spacing=0.12\n",
    ")\n",
    "\n",
    "# 1. Top 20 strata with better formatting\n",
    "top_20 = stratum_stats.head(20)\n",
    "fig.add_trace(go.Bar(\n",
    "    y=[f\"{row['stratum'][:7]}::{row['stratum'].split(' :: ')[1][:12]}\" for _, row in top_20.iterrows()],\n",
    "    x=top_20['Allocated_Samples'],\n",
    "    orientation='h',\n",
    "    marker_color=PRIMARY_BLUE,\n",
    "    text=top_20['Allocated_Samples'],\n",
    "    textposition='outside',\n",
    "    showlegend=False\n",
    "), row=1, col=1)\n",
    "\n",
    "# 2. Monthly timeline showing spikes\n",
    "monthly_votes = df_clean.groupby('month')['total_votes'].sum().reset_index()\n",
    "monthly_votes['month_str'] = monthly_votes['month'].astype(str)\n",
    "fig.add_trace(go.Scatter(\n",
    "    x=monthly_votes['month_str'],\n",
    "    y=monthly_votes['total_votes'],\n",
    "    mode='lines+markers',\n",
    "    line=dict(color=ACCENT_ORANGE, width=3),\n",
    "    marker=dict(size=8, color=ACCENT_ORANGE),\n",
    "    name='Total Votes',\n",
    "    showlegend=False\n",
    "), row=1, col=2)\n",
    "\n",
    "# 3. Subreddit distribution (log scale to show differences)\n",
    "subreddit_samples = stratum_stats.groupby(stratum_stats['stratum'].str.split(' :: ').str[1])['Allocated_Samples'].sum().sort_values(ascending=False)\n",
    "fig.add_trace(go.Bar(\n",
    "    x=subreddit_samples.index,\n",
    "    y=subreddit_samples.values,\n",
    "    marker_color=SUCCESS_GREEN,\n",
    "    text=[f\"{int(v)}\" for v in subreddit_samples.values],\n",
    "    textposition='outside',\n",
    "    showlegend=False\n",
    "), row=2, col=1)\n",
    "\n",
    "# 4. Pie chart for sample allocation by subreddit\n",
    "pie_colors = [PRIMARY_BLUE, ACCENT_ORANGE, SUCCESS_GREEN, ACCENT_RED, '#9B59B6', '#E67E22', '#1ABC9C', '#E74C3C']\n",
    "fig.add_trace(go.Pie(\n",
    "    labels=subreddit_samples.index,\n",
    "    values=subreddit_samples.values,\n",
    "    hole=0.3,\n",
    "    marker=dict(colors=pie_colors[:len(subreddit_samples)]),\n",
    "    textinfo='label+percent',\n",
    "    textposition='outside',\n",
    "    showlegend=False\n",
    "), row=2, col=2)\n",
    "\n",
    "# Layout updates\n",
    "fig.update_layout(\n",
    "    height=1000,\n",
    "    width=1600,\n",
    "    title=dict(\n",
    "        text='<b>Stratified Sampling Analysis: Breaking News Impact on Allocation</b>', \n",
    "        x=0.5, xanchor='center', font=dict(size=20)\n",
    "    ),\n",
    "    paper_bgcolor='white',\n",
    "    plot_bgcolor='white'\n",
    ")\n",
    "\n",
    "# Axis formatting\n",
    "fig.update_xaxes(tickangle=45, row=1, col=2, title_text=\"Month\")\n",
    "fig.update_yaxes(title_text=\"Total Votes (Millions)\", row=1, col=2)\n",
    "fig.update_yaxes(tickformat=\".0s\", row=1, col=2)\n",
    "\n",
    "fig.update_xaxes(tickangle=45, row=2, col=1, title_text=\"Subreddit\")\n",
    "fig.update_yaxes(title_text=\"Allocated Samples\", row=2, col=1, type=\"log\")\n",
    "\n",
    "fig.update_xaxes(title_text=\"Allocated Samples\", row=1, col=1)\n",
    "fig.update_yaxes(categoryorder='total ascending', row=1, col=1)\n",
    "\n",
    "fig.show()"
   ]
  },
  {
   "cell_type": "markdown",
   "id": "b032699a",
   "metadata": {},
   "source": [
    "## **Labeling Insights and Direction**\n",
    "\n",
    "**Evidence from manual labeling**\n",
    "- **Viral/video communities are out of scope:** `TerrifyingAsFuck`, `NoahGetTheBoat`, and `PublicFreakout` primarily host short video clips with no author framing. These posts provide engagement, not stance.\n",
    "- **General news is text‑neutral:** `worldnews` and `worldnewsvideo` consist largely of headlines and wire copy. The submission text is predominantly descriptive, yielding Neutral/Neutral labels and low informational value for stance modeling.\n",
    "- **Subreddit asymmetry:** `r/Palestine` is overwhelmingly anti‑Israel/pro‑Palestine, while `r/Israel` is absent. Including `r/Palestine` in training would encourage shortcut learning (“subreddit ⇒ stance”) and distort class balance.\n",
    "\n",
    "**Training focus (going forward)**\n",
    "- Prioritize stance‑rich communities: `AskMiddleEast`, `IsraelPalestine`, `IsraelPalestineWar_23`.\n",
    "- Exclude viral/video and general‑news subreddits from training; retain them only for engagement context if needed.\n",
    "- Optimize labeling yield: sufficient text (title ± selftext), de‑duplication, and per‑author limits to maintain diversity.\n",
    "\n",
    "**Rationale**\n",
    "- Concentrating on communities where authors articulate positions produces clearer labels, reduces noise, and trains models to infer stance from text rather than community identity.\n",
    "\n",
    "**Stratification decision (why we’re simplifying)**\n",
    "- With only three training subreddits, heavy stratification adds complexity without benefit.  \n",
    "- We will use **equal allocation across the three subreddits**, with a light temporal guard (e.g., a minimum per quarter) to ensure coverage over time.  \n",
    "- This approach is simple, transparent, preserves diversity, and is sufficient for a 500–1,000 post training set."
   ]
  },
  {
   "cell_type": "code",
   "execution_count": null,
   "id": "685ef899",
   "metadata": {},
   "outputs": [],
   "source": [
    "# Focus on stance-rich subreddits with equal sampling\n",
    "print(\"Filtering to stance-rich subreddits and sampling equally...\")\n",
    "\n",
    "# Define stance-rich subreddits based on labeling insights\n",
    "STANCE_RICH_SUBS = ['AskMiddleEast', 'IsraelPalestine', 'IsraelPalestineWar_23']\n",
    "TARGET_TOTAL_SAMPLES = 500\n",
    "\n",
    "# Filter to stance-rich subreddits only\n",
    "df_stance_rich = df_clean[df_clean['subreddit'].isin(STANCE_RICH_SUBS)].copy()\n",
    "print(f\"Posts in stance-rich subreddits: {len(df_stance_rich):,}\")\n",
    "\n",
    "# Check availability per subreddit\n",
    "print(\"\\nPosts available per subreddit:\")\n",
    "sub_counts = df_stance_rich['subreddit'].value_counts()\n",
    "for sub, count in sub_counts.items():\n",
    "    print(f\"  {sub}: {count:,} posts\")\n",
    "\n",
    "# Calculate equal samples per subreddit\n",
    "samples_per_sub = TARGET_TOTAL_SAMPLES // len(STANCE_RICH_SUBS)\n",
    "print(f\"\\nSampling {samples_per_sub} posts from each subreddit (total: {samples_per_sub * len(STANCE_RICH_SUBS)})\")\n",
    "\n",
    "# Sample equally from each subreddit\n",
    "RANDOM_SEED = 42\n",
    "sampled_posts = []\n",
    "\n",
    "for sub in STANCE_RICH_SUBS:\n",
    "    sub_posts = df_stance_rich[df_stance_rich['subreddit'] == sub]\n",
    "    available = len(sub_posts)\n",
    "    actual_samples = min(samples_per_sub, available)\n",
    "    \n",
    "    if actual_samples > 0:\n",
    "        sampled = sub_posts.sample(n=actual_samples, random_state=RANDOM_SEED)\n",
    "        sampled_posts.append(sampled)\n",
    "        print(f\"  {sub}: sampled {actual_samples} from {available} available\")\n",
    "\n",
    "# Combine samples\n",
    "balanced_sample = pd.concat(sampled_posts, ignore_index=True)\n",
    "\n",
    "print(f\"\\nFinal balanced sample: {len(balanced_sample)} posts\")\n",
    "print(\"Distribution:\")\n",
    "final_counts = balanced_sample['subreddit'].value_counts()\n",
    "for sub, count in final_counts.items():\n",
    "    pct = (count / len(balanced_sample)) * 100\n",
    "    print(f\"  {sub}: {count} ({pct:.1f}%)\")"
   ]
  }
 ],
 "metadata": {
  "kernelspec": {
   "display_name": "Data Science Project",
   "language": "python",
   "name": "data-science-project"
  },
  "language_info": {
   "codemirror_mode": {
    "name": "ipython",
    "version": 3
   },
   "file_extension": ".py",
   "mimetype": "text/x-python",
   "name": "python",
   "nbconvert_exporter": "python",
   "pygments_lexer": "ipython3",
   "version": "3.13.7"
  }
 },
 "nbformat": 4,
 "nbformat_minor": 5
}
